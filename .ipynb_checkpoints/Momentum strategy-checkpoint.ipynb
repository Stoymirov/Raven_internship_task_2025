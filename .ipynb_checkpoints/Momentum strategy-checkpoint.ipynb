{
 "cells": [
  {
   "cell_type": "code",
   "execution_count": 2,
   "id": "f8693086-9e25-4455-86f4-5e8757d5dd55",
   "metadata": {},
   "outputs": [],
   "source": [
    "import pandas as pd\n",
    "from binance.client import Client\n",
    "import backtrader as bt\n",
    "import matplotlib.pyplot as plt\n",
    "import mplfinance as mpf\n",
    "import itertools\n",
    "%matplotlib inline"
   ]
  },
  {
   "cell_type": "markdown",
   "id": "0be4c6e2-9c01-4edd-9f95-79204fa8e2c9",
   "metadata": {},
   "source": [
    "## Simple strategy\n",
    "# SMA Crossover Strategy – Algorithm Development Plan\n",
    "\n",
    "## 1. Environment Setup  \n",
    "Set up the Python environment with all necessary libraries for strategy development, backtesting, and performance analysis:  \n",
    "- `backtrader`  \n",
    "- `pandas`  \n",
    "- `matplotlib`  \n",
    "- `numpy` (optional for optimization)\n",
    "\n",
    "\n",
    "## 2. Strategy Implementation  \n",
    "Implement the core logic of the SMA Crossover strategy:  \n",
    "- Define short-term and long-term SMAs  \n",
    "- Generate **buy signals** when the short SMA crosses above the long SMA  \n",
    "- Generate **sell signals** when the short SMA crosses below the long SMA  \n",
    "\n",
    "\n",
    "## 3. Backtesting Engine  \n",
    "Use historical data to simulate the strategy’s past performance:  \n",
    "- Fetch historical stock/crypto data  \n",
    "- Integrate with Backtrader’s backtesting framework  \n",
    "- Simulate trades based on defined logic\n",
    "\n",
    "\n",
    "## 4. Performance Analysis  \n",
    "Evaluate the strategy using key performance metrics:  \n",
    "-  Sharpe Ratio  \n",
    "-  Maximum Drawdown  \n",
    "-  Total Return  \n",
    "-  Win Rate  \n",
    "\n",
    "\n",
    "## 5. Visualization  \n",
    "Create visual tools to interpret and present results:  \n",
    "- Price chart with buy/sell markers  \n",
    "- Strategy equity curve  \n",
    "- Overlay of SMAs and signals on price chart  \n",
    "\n",
    "\n",
    "## 6. Parameter Optimization  \n",
    "Test various SMA combinations (e.g. 10/50, 20/100):  \n",
    "- Use grid search or loops  \n",
    "- Compare results across different timeframes and assets  \n",
    "- Identify optimal values for maximizing Sharpe ratio or return  \n",
    "\n",
    "\n",
    "## 7. Conclusion and Insights  \n",
    "Summarize key observations and reflect on:  \n",
    "- Strategy strengths and weaknesses  \n",
    "- Conditions where it performs well or poorly  \n",
    "- Ideas for future improvements (e.g. adding volume filters, trailing stops, risk management)\n",
    "\n",
    "\n",
    "Let me know if you'd like this turned into a project template or notebook starter!\n"
   ]
  },
  {
   "cell_type": "markdown",
   "id": "476c3761-5138-43ac-b4f7-0a0609f10fae",
   "metadata": {},
   "source": [
    "We will start small. We are going to begin by implementing a very basic momentum trading strategy and then go ahead from there.\n",
    "- If the price has gone up a lot over the last $N$ days, we buy\n",
    "- If the price has dropped over the last $N$ days, we sel\n",
    "\n",
    "For this purpose we are going to use ```backtrader```\n"
   ]
  },
  {
   "cell_type": "markdown",
   "id": "108f4dc1-c74e-40a3-a361-6880aa0be190",
   "metadata": {},
   "source": [
    "We are going to create a ```MomentumStrategy``` class where we we calculate the momentum over the last ```lookback``` days using the formula: $$\n",
    "\\text{Momentum}_t = \\frac{P_t - P_{t - L}}{P_{t - L}} = \\frac{P_t}{P_{t - L}} - 1\n",
    "$$"
   ]
  },
  {
   "cell_type": "code",
   "execution_count": 28,
   "id": "aa2237dd-bf11-44b6-b9aa-45981e3f7306",
   "metadata": {},
   "outputs": [],
   "source": [
    "class MomentumStrategy(bt.Strategy):\n",
    "    params = (\n",
    "        ('lookback', 20),       \n",
    "        ('threshold', 0.01),     \n",
    "        ('trade_size', 0.1),     \n",
    "    )\n",
    "\n",
    "    def next(self):\n",
    "        if len(self.data) < self.p.lookback:\n",
    "            return  # not enough data yet\n",
    "    \n",
    "        momentum = (self.data.close[0] / self.data.close[-self.p.lookback]) - 1\n",
    "        size = (self.broker.getvalue() * self.p.trade_size) / self.data.close[0] #I converted this to int but it was not appropriate for bitcoin since the value is always lower than 1 when buying\n",
    "       \n",
    "        # SELL condition\n",
    "        if momentum < -self.p.threshold and self.position.size > 0:\n",
    "            \n",
    "            self.close()\n",
    "\n",
    "        # BUY condition\n",
    "        elif momentum > self.p.threshold and not self.position:\n",
    "            if size > 0:\n",
    "               \n",
    "                self.buy(size=size)\n",
    "            else:\n",
    "                print(\"Calculated size too small to buy\")\n",
    "\n"
   ]
  },
  {
   "cell_type": "markdown",
   "id": "4cacf88c-728f-4cee-a5c7-02118ab68bf4",
   "metadata": {},
   "source": [
    "We start by defining key parameters such as lookback, threshold, and trade_size. The momentum is calculated using these parameters based on historical price data.\n",
    "\n",
    "- In the ```next``` method, we first check if we have enough data to calculate momentum. Once we have enough information, we compute the momentum value.\n",
    "\n",
    "- If the momentum falls below the negative threshold and we currently hold a position, we sell to exit the trade.\n",
    "\n",
    "Conversely, if the momentum rises above the positive threshold and we do not hold any position, we buy a calculated amount of shares based on our portfolio size and the **trade_size** parameter."
   ]
  },
  {
   "cell_type": "markdown",
   "id": "ad67c876-240f-4441-99ed-c87c427f3fe2",
   "metadata": {},
   "source": [
    "### Doing backtesting on the small engine\n",
    "\n",
    "For the purpose of backtesting I am going to use \"Cerebro engine\". Before doing that I will run ```pip install python-binance``` to get access to information about the market."
   ]
  },
  {
   "cell_type": "code",
   "execution_count": 29,
   "id": "eea17fa0-a085-4451-a50b-ed884411e7eb",
   "metadata": {},
   "outputs": [
    {
     "name": "stdout",
     "output_type": "stream",
     "text": [
      "                          Open       High        Low      Close     Volume\n",
      "Open time                                                                 \n",
      "2025-05-28 04:00:00  108863.64  109061.60  108624.43  108971.87  383.90710\n",
      "2025-05-28 05:00:00  108971.87  109089.68  108841.57  109000.00  278.93308\n",
      "2025-05-28 06:00:00  108999.99  109000.00  108636.36  108727.27  383.05025\n",
      "2025-05-28 07:00:00  108727.28  109007.71  108720.00  108816.44  345.62936\n",
      "2025-05-28 08:00:00  108816.44  109130.44  108602.90  109040.45  475.37342\n"
     ]
    }
   ],
   "source": [
    "from binance.client import Client\n",
    "import pandas as pd\n",
    "\n",
    "# We will need no API key since the data is public\n",
    "client = Client()\n",
    "\n",
    "# Fetch historical klines (candles) for BTCUSDT, 1h interval, last 1000 candles\n",
    "klines = client.get_historical_klines(\"BTCUSDT\", Client.KLINE_INTERVAL_1HOUR, \"1000 hours ago UTC\")\n",
    "\n",
    "# Convert to DataFrame and select columns\n",
    "df = pd.DataFrame(klines, columns=[\n",
    "    'Open time', 'Open', 'High', 'Low', 'Close', 'Volume',\n",
    "    'Close time', 'Quote asset volume', 'Number of trades',\n",
    "    'Taker buy base asset volume', 'Taker buy quote asset volume', 'Ignore'])\n",
    "\n",
    "# Convert timestamps to datetime\n",
    "df['Open time'] = pd.to_datetime(df['Open time'], unit='ms')\n",
    "df['Close time'] = pd.to_datetime(df['Close time'], unit='ms')\n",
    "\n",
    "# Keep only useful columns for backtesting\n",
    "df = df[['Open time', 'Open', 'High', 'Low', 'Close', 'Volume']]\n",
    "\n",
    "# Convert columns to float\n",
    "df[['Open', 'High', 'Low', 'Close', 'Volume']] = df[['Open', 'High', 'Low', 'Close', 'Volume']].astype(float)\n",
    "\n",
    "# Set 'Open time' as the datetime index for mplfinance compatibility\n",
    "df.set_index('Open time', inplace=True)\n",
    "\n",
    "print(df.head())\n"
   ]
  },
  {
   "cell_type": "code",
   "execution_count": 30,
   "id": "55f2740a-01d8-43d6-89f0-d38871254729",
   "metadata": {},
   "outputs": [
    {
     "data": {
      "text/plain": [
       "pandas.core.indexes.datetimes.DatetimeIndex"
      ]
     },
     "execution_count": 30,
     "metadata": {},
     "output_type": "execute_result"
    }
   ],
   "source": [
    "type(df.index)"
   ]
  },
  {
   "cell_type": "markdown",
   "id": "62732103-f6aa-4b29-a6f9-8c15c1cceda8",
   "metadata": {},
   "source": [
    "Now that we have our data that we are going to work with we can plot it to see how it looks like."
   ]
  },
  {
   "cell_type": "code",
   "execution_count": 31,
   "id": "ccb19022-0641-4bc8-bb9b-91a29426604f",
   "metadata": {},
   "outputs": [
    {
     "name": "stderr",
     "output_type": "stream",
     "text": [
      "C:\\Users\\mitko\\AppData\\Local\\Programs\\Python\\Python310\\lib\\site-packages\\mplfinance\\_arg_validators.py:84: UserWarning: \n",
      "\n",
      " ================================================================= \n",
      "\n",
      "   WARNING: YOU ARE PLOTTING SO MUCH DATA THAT IT MAY NOT BE\n",
      "            POSSIBLE TO SEE DETAILS (Candles, Ohlc-Bars, Etc.)\n",
      "   For more information see:\n",
      "   - https://github.com/matplotlib/mplfinance/wiki/Plotting-Too-Much-Data\n",
      "   \n",
      "   TO SILENCE THIS WARNING, set `type='line'` in `mpf.plot()`\n",
      "   OR set kwarg `warn_too_much_data=N` where N is an integer \n",
      "   LARGER than the number of data points you want to plot.\n",
      "\n",
      " ================================================================ \n",
      "  warnings.warn('\\n\\n ================================================================= '+\n"
     ]
    },
    {
     "data": {
      "image/png": "[encoded data removed]",
      "text/plain": [
       "<Figure size 800x575 with 4 Axes>"
      ]
     },
     "metadata": {},
     "output_type": "display_data"
    }
   ],
   "source": [
    "\n",
    "mpf.plot(df, type='candle', volume=True, style='classic')\n",
    "\n",
    "plt.show()"
   ]
  },
  {
   "cell_type": "markdown",
   "id": "0d65d780-f2dc-439e-a9c3-7b673056f7ad",
   "metadata": {},
   "source": [
    "Now that we can visually see we can go forward and try to do simple backtesting. Before that I will rename the columns for conviniency."
   ]
  },
  {
   "cell_type": "code",
   "execution_count": 32,
   "id": "a738d1b6-2e91-4ec8-a483-283a7e8ef633",
   "metadata": {},
   "outputs": [],
   "source": [
    "df.rename(columns={\n",
    "    'Open': 'open',\n",
    "    'High': 'high',\n",
    "    'Low': 'low',\n",
    "    'Close': 'close',\n",
    "    'Volume': 'volume'\n",
    "}, inplace=True)"
   ]
  },
  {
   "cell_type": "markdown",
   "id": "1d8772da-24ef-4d31-97af-8e50c9b56365",
   "metadata": {},
   "source": [
    "Let us create a datafeed."
   ]
  },
  {
   "cell_type": "code",
   "execution_count": 33,
   "id": "9ce11f62-ea0e-424f-b891-e27107c1fa83",
   "metadata": {},
   "outputs": [],
   "source": [
    "datafeed = bt.feeds.PandasData(dataname=df)"
   ]
  },
  {
   "cell_type": "code",
   "execution_count": 34,
   "id": "0db65a72-88ad-46db-b4d9-71590947c087",
   "metadata": {},
   "outputs": [],
   "source": [
    "INITIAL_CASH = 10000\n",
    "cerebro = bt.Cerebro()\n",
    "\n",
    "cerebro.addstrategy(MomentumStrategy, lookback=20, threshold=0.02, trade_size=0.1) # We also can adjust the params here.\n",
    "\n",
    "cerebro.adddata(datafeed)\n",
    "\n",
    "cerebro.broker.setcash(INITIAL_CASH)\n",
    "\n",
    "# I am not going to set commission since we assume that we are trading in a firm and have no commissions.\n",
    "# cerebro.broker.set_fundmode(True)\n",
    "results = cerebro.run()"
   ]
  },
  {
   "cell_type": "code",
   "execution_count": 35,
   "id": "d2c4fbdc-cc19-4ce7-b7b4-4e15535d5aff",
   "metadata": {},
   "outputs": [
    {
     "name": "stdout",
     "output_type": "stream",
     "text": [
      "Final Portfolio Value: 10037.22\n"
     ]
    }
   ],
   "source": [
    "print(f\"Final Portfolio Value: {cerebro.broker.getvalue():.2f}\")"
   ]
  },
  {
   "cell_type": "markdown",
   "id": "88389d26-1772-4077-b092-1796c9a37918",
   "metadata": {},
   "source": [
    "I want to notice that I used to get a value 10000 for the portfolio. Therefore no trades were made. We have not bought, our position stays at zero, we can not sell. Where is this problem coming from? After some observation we can notice that we are using ```size = int((self.broker.getvalue() * self.p.trade_size) / close_price)``` which returns 0 if the value is less than 0. Since we are buyin Bitcoins, we are never buying more than 1 bitcoin at a time. After removing the parsing to int the problem is no longer there.\n",
    "\n",
    "Okey, we got a result and we see that we have increased our portfolio with 37 dollars, which is about 0.37%. It is a possitive increase but not hing impresive. Let us analyze some more this result before moving to improvements."
   ]
  },
  {
   "cell_type": "code",
   "execution_count": 38,
   "id": "b5aadb61-9c2b-4dad-a042-9fe01efffc05",
   "metadata": {},
   "outputs": [],
   "source": [
    "cerebro.addanalyzer(bt.analyzers.TradeAnalyzer, _name='trades')\n",
    "cerebro.addanalyzer(bt.analyzers.SharpeRatio_A, _name='sharpe', timeframe=bt.TimeFrame.Days)\n",
    "cerebro.addanalyzer(bt.analyzers.DrawDown, _name='drawdown')"
   ]
  },
  {
   "cell_type": "code",
   "execution_count": 40,
   "id": "ca1406df-caf2-484f-b456-0e4404d658c5",
   "metadata": {},
   "outputs": [],
   "source": [
    "results = cerebro.run()\n",
    "strat = results[0]\n"
   ]
  },
  {
   "cell_type": "code",
   "execution_count": 41,
   "id": "023c5f39-3189-478e-9d6b-c60b6606ea9e",
   "metadata": {},
   "outputs": [
    {
     "name": "stdout",
     "output_type": "stream",
     "text": [
      "Total trades: 4\n",
      "Open trades: 0\n",
      "Closed trades: 4\n",
      "Winning trades: 2\n",
      "Losing trades: 2\n",
      "Total Net PnL: 37.22\n",
      "Average Net PnL: 9.30\n"
     ]
    }
   ],
   "source": [
    "\n",
    "trade_stats = strat.analyzers.trades.get_analysis()\n",
    "\n",
    "# Total trades\n",
    "total_trades = trade_stats.total.total\n",
    "open_trades = trade_stats.total.open\n",
    "closed_trades = trade_stats.total.closed\n",
    "\n",
    "# Wins and losses\n",
    "won = trade_stats.won.total\n",
    "lost = trade_stats.lost.total\n",
    "\n",
    "# PnL\n",
    "total_net_pnl = trade_stats.pnl.net.total\n",
    "average_net_pnl = trade_stats.pnl.net.average\n",
    "\n",
    "print(f\"Total trades: {total_trades}\")\n",
    "print(f\"Open trades: {open_trades}\")\n",
    "print(f\"Closed trades: {closed_trades}\")\n",
    "print(f\"Winning trades: {won}\")\n",
    "print(f\"Losing trades: {lost}\")\n",
    "print(f\"Total Net PnL: {total_net_pnl:.2f}\")\n",
    "print(f\"Average Net PnL: {average_net_pnl:.2f}\")"
   ]
  },
  {
   "cell_type": "code",
   "execution_count": 42,
   "id": "05590733-7993-40ee-a282-8f0a010bef0d",
   "metadata": {},
   "outputs": [
    {
     "name": "stdout",
     "output_type": "stream",
     "text": [
      "Sharpe Ratio: 0.6006396611865997\n",
      "Max Drawdown: 0.26%\n",
      "Drawdown Duration: 126 bars\n"
     ]
    }
   ],
   "source": [
    "sharpe = strat.analyzers.sharpe.get_analysis()\n",
    "drawdown = strat.analyzers.drawdown.get_analysis()\n",
    "\n",
    "print(\"Sharpe Ratio:\", sharpe.get('sharperatio', 'N/A'))\n",
    "print(f\"Max Drawdown: {drawdown.drawdown:.2f}%\")\n",
    "print(f\"Drawdown Duration: {drawdown.len} bars\")"
   ]
  },
  {
   "cell_type": "markdown",
   "id": "6f1c2af2-0b6f-4532-ac2f-e10df64baaeb",
   "metadata": {},
   "source": [
    "### Improving the simple model\n",
    "Based on the information above, we can conclude that our model functions but is far from optimal. Next, we will work on making it more complex and improving its performance. The first thing that might come to mind is how we actually decide on the hyperparameters we are using such as the threshhold and the trade size. There are a couple approaches when it comes to choosing those:\n",
    "\n",
    "\n",
    "- **Grid Search**  \n",
    "  Try all combinations of discrete values\n",
    "\n",
    "- **Random Search**  \n",
    "  Randomly sample combinations from the hyperparameter space\n",
    "\n",
    "- **Bayesian Optimization**  \n",
    "  Use prior evaluations to guide the search (e.g., maximize Sharpe ratio)\n",
    "\n",
    "- **Walk-Forward Optimization**  \n",
    "  1. Train on time window $$[t, t+k]$$  \n",
    "  2. Test on $$[t+k+1, t+2k]$$  \n",
    "  3. Slide the window forward\n"
   ]
  },
  {
   "cell_type": "code",
   "execution_count": 45,
   "id": "be693e34-ea8a-41b3-a92f-2a355610cc48",
   "metadata": {},
   "outputs": [
    {
     "name": "stdout",
     "output_type": "stream",
     "text": [
      " Top Results:\n",
      "    lookback  threshold  trade_size   final_value\n",
      "17        20       0.02         0.5  10140.566790\n",
      "8         10       0.02         0.5  10096.563325\n",
      "5         10       0.01         0.5  10081.018487\n",
      "16        20       0.02         0.2  10057.800090\n",
      "7         10       0.02         0.2  10040.962559\n"
     ]
    }
   ],
   "source": [
    "class BinanceData(bt.feeds.PandasData):\n",
    "    params = (\n",
    "        ('datetime', None),\n",
    "        ('open', 'Open'),\n",
    "        ('high', 'High'),\n",
    "        ('low', 'Low'),\n",
    "        ('close', 'Close'),\n",
    "        ('volume', 'Volume'),\n",
    "        ('openinterest', -1),\n",
    "    )\n",
    "    lookbacks = [10, 20, 50]\n",
    "thresholds = [0.005, 0.01, 0.02]\n",
    "trade_sizes = [0.1, 0.2, 0.5]\n",
    "\n",
    "results = []\n",
    "\n",
    "for lookback, threshold, trade_size in itertools.product(lookbacks, thresholds, trade_sizes):\n",
    "    cerebro = bt.Cerebro()\n",
    "    cerebro.addstrategy(MomentumStrategy,\n",
    "                        lookback=lookback,\n",
    "                        threshold=threshold,\n",
    "                        trade_size=trade_size)\n",
    "    \n",
    "    data = BinanceData(dataname=df)\n",
    "    cerebro.adddata(data)\n",
    "\n",
    "    cerebro.broker.setcash(10000)\n",
    "    cerebro.broker.setcommission(commission=0.001)\n",
    "    cerebro.run()\n",
    "\n",
    "    final_value = cerebro.broker.getvalue()\n",
    "    results.append({\n",
    "        'lookback': lookback,\n",
    "        'threshold': threshold,\n",
    "        'trade_size': trade_size,\n",
    "        'final_value': final_value\n",
    "    })\n",
    "results_df = pd.DataFrame(results)\n",
    "results_df = results_df.sort_values(by='final_value', ascending=False)\n",
    "\n",
    "print(\" Top Results:\")\n",
    "print(results_df.head())"
   ]
  },
  {
   "cell_type": "markdown",
   "id": "5918168f-01f1-4319-8496-640d8c7cc379",
   "metadata": {},
   "source": [
    "### Resources \n",
    "-https://medium.com/funny-ai-quant/momentum-based-strategy-optimization-with-grid-search-on-backtrader-8c0d6cd1cc36"
   ]
  },
  {
   "cell_type": "code",
   "execution_count": null,
   "id": "4cedc93c-0b2a-4c34-afca-6fd2215c6dc3",
   "metadata": {},
   "outputs": [],
   "source": []
  },
  {
   "cell_type": "code",
   "execution_count": null,
   "id": "c51028a8-d05f-40d0-badd-62c6ac9deff8",
   "metadata": {},
   "outputs": [],
   "source": []
  },
  {
   "cell_type": "code",
   "execution_count": null,
   "id": "c8e1f196-b565-41d9-a7f8-cb2db9016373",
   "metadata": {},
   "outputs": [],
   "source": []
  },
  {
   "cell_type": "code",
   "execution_count": null,
   "id": "a1091095-5a97-458f-a461-9179f1090fab",
   "metadata": {},
   "outputs": [],
   "source": []
  }
 ],
 "metadata": {
  "kernelspec": {
   "display_name": "Python 3 (ipykernel)",
   "language": "python",
   "name": "python3"
  },
  "language_info": {
   "codemirror_mode": {
    "name": "ipython",
    "version": 3
   },
   "file_extension": ".py",
   "mimetype": "text/x-python",
   "name": "python",
   "nbconvert_exporter": "python",
   "pygments_lexer": "ipython3",
   "version": "3.10.0"
  }
 },
 "nbformat": 4,
 "nbformat_minor": 5
}
