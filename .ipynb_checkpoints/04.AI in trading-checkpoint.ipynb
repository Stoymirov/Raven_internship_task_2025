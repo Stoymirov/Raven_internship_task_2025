{
 "cells": [
  {
   "cell_type": "markdown",
   "id": "b329d3b6-600e-48d1-9d09-a966ae21e8d9",
   "metadata": {},
   "source": [
    "import yfinance as yf\n",
    "import pandas as pd\n",
    "import numpy as np\n",
    "import torch\n",
    "import torch.nn as nn\n",
    "import torch.optim as optim\n",
    "from sklearn.preprocessing import StandardScaler\n",
    "from sklearn.model_selection import train_test_split\n",
    "from torch.utils.data import TensorDataset, DataLoader"
   ]
  },
  {
   "cell_type": "markdown",
   "id": "e2af2c9c-8d63-46af-9849-afe90440fa3b",
   "metadata": {},
   "source": [
    "## AI in trading\n",
    "In this final section, I will explore the role of artificial intelligence (AI) in developing effective trading algorithms. So far, we have focused on traditional approaches such as momentum strategies and mean-reversion, where we applied concepts from physics, including the harmonic oscillator and stochastic differential equations. While these methods are grounded in theory, they rely heavily on assumptions—about market efficiency, distribution of returns, or stationarity—that may not always hold true in real-world financial data. These assumptions can introduce significant limitations and potential sources of error.\n",
    "\n",
    "In contrast, machine learning models can learn patterns directly from data without relying on rigid predefined assumptions. This data-driven approach allows for greater flexibility and adaptability, making AI a powerful tool for uncovering complex, non-linear relationships in financial markets that traditional models might miss.\n"
   ]
  },
  {
   "cell_type": "markdown",
   "id": "a9973879-b375-4066-8b01-47b4e019930c",
   "metadata": {},
   "source": [
    "## Data prep and feature engineering\n",
    "Before training any machine learning model, careful data preparation and feature engineering are essential. In the context of trading, raw price data alone is often insufficient. Instead, we derive a variety of features that may capture underlying market dynamics. These include technical indicators such as moving averages, momentum, relative strength index (RSI), Bollinger bands, and volatility measures. The goal is to provide the model with inputs that reflect both short-term and long-term behavior of the asset. To avoid look-ahead bias, all features are computed using only past and present data available at the time of prediction. The data is then standardized to ensure that all features are on comparable scales, which helps neural networks converge more efficiently during training. Additionally, time-series data is split using walk-forward validation rather than random sampling, to better simulate real-world trading conditions and prevent data leakage."
   ]
  },
  {
   "cell_type": "markdown",
   "id": "4de83f41-f410-486c-80a6-67a01561beb3",
   "metadata": {},
   "source": [
    "## Bulding a classification model\n",
    "I will begin by building a classification modlel deciding if the price is going to go up or down on the next day."
   ]
  },
  {
   "cell_type": "code",
   "execution_count": 19,
   "id": "3feaa2e5-4400-4c45-8305-a2d1a328a200",
   "metadata": {},
   "outputs": [
    {
     "name": "stderr",
     "output_type": "stream",
     "text": [
      "C:\\Users\\mitko\\AppData\\Local\\Temp\\ipykernel_23148\\1431467168.py:3: FutureWarning: YF.download() has changed argument auto_adjust default to True\n",
      "  df = yf.download(ticker, start='2010-01-01', end='2023-12-31')\n",
      "[*********************100%***********************]  1 of 1 completed\n"
     ]
    }
   ],
   "source": [
    "\n",
    "ticker = 'AAPL'\n",
    "df = yf.download(ticker, start='2010-01-01', end='2023-12-31')\n",
    "df = df[['Close']]"
   ]
  },
  {
   "cell_type": "markdown",
   "id": "55fe322c-3be5-442d-85bb-b63973b9c83c",
   "metadata": {},
   "source": [
    "After getting the data we need to engineer our features"
   ]
  },
  {
   "cell_type": "code",
   "execution_count": 21,
   "id": "6a5e8024-5dce-42b9-a5aa-9fba3491a5dd",
   "metadata": {},
   "outputs": [],
   "source": [
    "\n",
    "# 2. Feature engineering\n",
    "df['Return'] = df['Close'].pct_change()\n",
    "df['MA_5'] = df['Close'].rolling(window=5).mean()\n",
    "df['Volatility_10'] = df['Close'].rolling(window=10).std()\n",
    "\n",
    "def compute_rsi(series, period=14):\n",
    "    delta = series.diff()\n",
    "    gain = delta.where(delta > 0, 0).rolling(window=period).mean()\n",
    "    loss = -delta.where(delta < 0, 0).rolling(window=period).mean()\n",
    "    rs = gain / loss\n",
    "    return 100 - (100 / (1 + rs))\n",
    "\n",
    "df['RSI_14'] = compute_rsi(df['Close'])"
   ]
  },
  {
   "cell_type": "markdown",
   "id": "30248a35-25d1-4e31-9ec0-c65d25be4d9d",
   "metadata": {},
   "source": [
    "Now we need to define a target to train our neural network, drop all NaN values and define our features, scaling them."
   ]
  },
  {
   "cell_type": "code",
   "execution_count": null,
   "id": "575c1776-b0bd-4766-a9c1-fd54468b35dd",
   "metadata": {},
   "outputs": [],
   "source": [
    "# 3. Target: 1 if next day's close > today's, else 0\n",
    "df['Target'] = (df['Close'].shift(-1) > df['Close']).astype(int)\n",
    "\n",
    "# 4. Drop NaNs\n",
    "df.dropna(inplace=True)\n",
    "\n",
    "# 5. Features and scaling\n",
    "features = ['Return', 'MA_5', 'Volatility_10', 'RSI_14']\n",
    "X = df[features].values\n",
    "y = df['Target'].values\n",
    "\n",
    "scaler = StandardScaler()\n",
    "X_scaled = scaler.fit_transform(X)\n"
   ]
  },
  {
   "cell_type": "markdown",
   "id": "bcb7e8d3-d23d-46ad-b8a1-8ee77e2b1c98",
   "metadata": {},
   "source": [
    "Now we need to create sequences for our LSTM neural network since it works with them."
   ]
  },
  {
   "cell_type": "code",
   "execution_count": 22,
   "id": "5c29b593-a6bc-467d-ad5f-7bfd0ed995ee",
   "metadata": {},
   "outputs": [],
   "source": [
    "\n",
    "def create_sequences(X, y, seq_length=10):\n",
    "    xs, ys = [], []\n",
    "    for i in range(len(X) - seq_length):\n",
    "        x_seq = X[i:i+seq_length]\n",
    "        y_seq = y[i+seq_length]\n",
    "        xs.append(x_seq)\n",
    "        ys.append(y_seq)\n",
    "    return np.array(xs), np.array(ys)\n",
    "\n",
    "seq_length = 10\n",
    "X_seq, y_seq = create_sequences(X_scaled, y, seq_length)"
   ]
  },
  {
   "cell_type": "markdown",
   "id": "e274e7e2-4956-4f7d-9e07-aaf70bc011c2",
   "metadata": {},
   "source": [
    "Now we need a train test split and to convert what we have to tensors"
   ]
  },
  {
   "cell_type": "code",
   "execution_count": 23,
   "id": "3f30194c-aa5d-4e73-9631-d92341154635",
   "metadata": {},
   "outputs": [],
   "source": [
    "# 7. Train-test split (time based)\n",
    "split = int(len(X_seq) * 0.8)\n",
    "X_train, X_test = X_seq[:split], X_seq[split:]\n",
    "y_train, y_test = y_seq[:split], y_seq[split:]\n",
    "\n",
    "# 8. Convert to tensors\n",
    "X_train_tensor = torch.tensor(X_train, dtype=torch.float32)\n",
    "y_train_tensor = torch.tensor(y_train.reshape(-1, 1), dtype=torch.float32)\n",
    "X_test_tensor = torch.tensor(X_test, dtype=torch.float32)\n",
    "y_test_tensor = torch.tensor(y_test.reshape(-1, 1), dtype=torch.float32)"
   ]
  },
  {
   "cell_type": "code",
   "execution_count": 24,
   "id": "8eeddea1-68f4-45cc-9a27-b58b1c69fc5f",
   "metadata": {},
   "outputs": [
    {
     "name": "stdout",
     "output_type": "stream",
     "text": [
      "Epoch 1/30 | Train Loss: 0.6928, Train Acc: 0.5055 | Val Loss: 0.6916, Val Acc: 0.5257\n",
      "Epoch 5/30 | Train Loss: 0.6905, Train Acc: 0.5380 | Val Loss: 0.6990, Val Acc: 0.5014\n",
      "Epoch 10/30 | Train Loss: 0.6887, Train Acc: 0.5395 | Val Loss: 0.7070, Val Acc: 0.5100\n",
      "Epoch 15/30 | Train Loss: 0.6864, Train Acc: 0.5352 | Val Loss: 0.7021, Val Acc: 0.5300\n",
      "Epoch 20/30 | Train Loss: 0.6831, Train Acc: 0.5402 | Val Loss: 0.7109, Val Acc: 0.5286\n",
      "Epoch 25/30 | Train Loss: 0.6777, Train Acc: 0.5506 | Val Loss: 0.7547, Val Acc: 0.5329\n",
      "Epoch 30/30 | Train Loss: 0.6773, Train Acc: 0.5638 | Val Loss: 0.7465, Val Acc: 0.5043\n",
      "Test Accuracy: 0.5043\n"
     ]
    }
   ],
   "source": [
    "\n",
    "# 9. DataLoader\n",
    "train_dataset = TensorDataset(X_train_tensor, y_train_tensor)\n",
    "train_loader = DataLoader(train_dataset, batch_size=32, shuffle=False) \n",
    "\n",
    "# 10. LSTM Model\n",
    "class LSTMClassifier(nn.Module):\n",
    "    def __init__(self, input_size, hidden_size=64, num_layers=2):\n",
    "        super().__init__()\n",
    "        self.lstm = nn.LSTM(input_size, hidden_size, num_layers, batch_first=True, dropout=0.2)\n",
    "        self.fc = nn.Sequential(\n",
    "            nn.Linear(hidden_size, 32),\n",
    "            nn.ReLU(),\n",
    "            nn.Linear(32, 1),\n",
    "            nn.Sigmoid()\n",
    "        )\n",
    "\n",
    "    def forward(self, x):\n",
    "        # x shape: (batch, seq_len, features)\n",
    "        out, _ = self.lstm(x)\n",
    "        out = out[:, -1, :]  # take the output of the last time step\n",
    "        out = self.fc(out)\n",
    "        return out\n",
    "\n",
    "model = LSTMClassifier(input_size=len(features))\n",
    "criterion = nn.BCELoss()\n",
    "optimizer = optim.Adam(model.parameters(), lr=0.001)\n",
    "\n",
    "# 11. Training loop\n",
    "epochs = 30\n",
    "for epoch in range(epochs):\n",
    "    model.train()\n",
    "    running_loss = 0\n",
    "    correct = 0\n",
    "    total = 0\n",
    "\n",
    "    for X_batch, y_batch in train_loader:\n",
    "        optimizer.zero_grad()\n",
    "        outputs = model(X_batch)\n",
    "        loss = criterion(outputs, y_batch)\n",
    "        loss.backward()\n",
    "        optimizer.step()\n",
    "\n",
    "        running_loss += loss.item() * X_batch.size(0)\n",
    "        preds = (outputs > 0.5).float()\n",
    "        correct += (preds == y_batch).sum().item()\n",
    "        total += y_batch.size(0)\n",
    "\n",
    "    train_loss = running_loss / total\n",
    "    train_acc = correct / total\n",
    "\n",
    "    # Validation\n",
    "    model.eval()\n",
    "    with torch.no_grad():\n",
    "        val_outputs = model(X_test_tensor)\n",
    "        val_loss = criterion(val_outputs, y_test_tensor).item()\n",
    "        val_preds = (val_outputs > 0.5).float()\n",
    "        val_acc = (val_preds == y_test_tensor).float().mean().item()\n",
    "\n",
    "    if (epoch + 1) % 5 == 0 or epoch == 0:\n",
    "        print(f\"Epoch {epoch+1}/{epochs} | Train Loss: {train_loss:.4f}, Train Acc: {train_acc:.4f} | Val Loss: {val_loss:.4f}, Val Acc: {val_acc:.4f}\")\n",
    "\n",
    "# 12. Final test accuracy\n",
    "model.eval()\n",
    "with torch.no_grad():\n",
    "    test_outputs = model(X_test_tensor)\n",
    "    test_preds = (test_outputs > 0.5).float()\n",
    "    test_acc = (test_preds == y_test_tensor).float().mean().item()\n",
    "print(f\"Test Accuracy: {test_acc:.4f}\")\n"
   ]
  },
  {
   "cell_type": "markdown",
   "id": "56392e12-1381-4ed7-aa72-733b7d2e3fd4",
   "metadata": {},
   "source": [
    "After creating the network and evaluating it we find out that the accuracy is no better than a random choice."
   ]
  },
  {
   "cell_type": "markdown",
   "id": "3719efcf-6d28-46d7-82be-62bb79b24c7e",
   "metadata": {},
   "source": [
    "Despite our efforts, the AI model failed to consistently predict stock movements with meaningful accuracy. This outcome highlights the inherent difficulty of applying machine learning to financial markets. Unlike many other domains, markets are highly noisy, non-stationary, and influenced by countless external, often unpredictable, factors. Even sophisticated models like LSTMs struggle because patterns in financial data are weak, unstable, and can change over time(regime shifts). Additionally, the historical data we use may contain biases or may simply not carry enough predictive signal. Without access to high-quality, diverse data and advanced techniques like ensemble learning, feature selection, or reinforcement learning, building a reliable trading AI is extremely challenging. This failure is not just due to the model or features but reflects a deeper truth: financial prediction is one of the hardest real-world tasks in AI.\n"
   ]
  },
  {
   "cell_type": "markdown",
   "id": "7071326b-d493-46e1-8169-609c5c65430c",
   "metadata": {},
   "source": [
    "## Applying unsupervised learning methods for financial data analysis\n",
    "In this part I am going to try and implement a well-know unsupervised machine learnign technique - **Principal component anaysis** for dimensionality reduction. I will try and analyze the daily returns of some tech stocks, identifying the **main sources of variation** in the data. , PCA helps identify the main sources of variation in the data. Each principal component represents a latent factor that explains a portion of the overall market behavior, allowing us to summarize complex relationships between assets into a few interpretable components. \n",
    "\n",
    "For the sake of this we will:\n",
    "- download data\n",
    "- extract ```adj close```\n",
    "- calculate the returns\n",
    "- standardize the returns\n",
    "- apply PCA\n",
    "- plot the cumulative explained variance\n",
    "- show how the principal components contribute"
   ]
  },
  {
   "cell_type": "code",
   "execution_count": 26,
   "id": "2c6a1823-99c6-4a81-b032-4d127c48082c",
   "metadata": {},
   "outputs": [
    {
     "name": "stderr",
     "output_type": "stream",
     "text": [
      "[*********************100%***********************]  5 of 5 completed\n"
     ]
    },
    {
     "data": {
      "image/png": "[encoded data removed]",
      "text/plain": [
       "<Figure size 800x500 with 1 Axes>"
      ]
     },
     "metadata": {},
     "output_type": "display_data"
    },
    {
     "name": "stdout",
     "output_type": "stream",
     "text": [
      "Principal Components (Eigenvectors):\n",
      "Ticker      AAPL      AMZN     GOOGL      META      MSFT\n",
      "0       0.454974  0.435318  0.470878  0.400465  0.470530\n",
      "1      -0.340322 -0.091541 -0.079347  0.893376 -0.267180\n",
      "2      -0.325011  0.890160 -0.248164 -0.105757 -0.170922\n",
      "3       0.735200  0.063692 -0.583549  0.142830 -0.307400\n",
      "4      -0.176151 -0.075354 -0.608164  0.099612  0.763876\n"
     ]
    }
   ],
   "source": [
    "import yfinance as yf\n",
    "import pandas as pd\n",
    "import numpy as np\n",
    "from sklearn.decomposition import PCA\n",
    "import matplotlib.pyplot as plt\n",
    "\n",
    "tickers = ['MSFT', 'AAPL', 'GOOGL', 'AMZN', 'META']\n",
    "\n",
    "data = yf.download(tickers, start=\"2022-01-01\", end=\"2023-01-01\", auto_adjust=False)\n",
    "\n",
    "adj_close = data['Adj Close']\n",
    "\n",
    "returns = adj_close.pct_change().dropna()\n",
    "\n",
    "returns_scaled = (returns - returns.mean()) / returns.std()\n",
    "\n",
    "pca = PCA()\n",
    "pca.fit(returns_scaled)\n",
    "\n",
    "plt.figure(figsize=(8, 5))\n",
    "plt.plot(np.cumsum(pca.explained_variance_ratio_), marker='o')\n",
    "plt.title(\"Cumulative Explained Variance by PCA Components\")\n",
    "plt.xlabel(\"Number of Components\")\n",
    "plt.ylabel(\"Cumulative Variance Explained\")\n",
    "plt.grid(True)\n",
    "plt.show()\n",
    "\n",
    "components_df = pd.DataFrame(pca.components_, columns=returns.columns)\n",
    "print(\"Principal Components (Eigenvectors):\")\n",
    "print(components_df)\n"
   ]
  },
  {
   "cell_type": "markdown",
   "id": "05213e8a-899e-4c09-93c9-469d98c6b1d8",
   "metadata": {},
   "source": [
    "What do we see here?\n",
    "The cumulative variance graph shows us how much of the overall variation in the data is captured by each principal component. As we can see, the first component explains the majority of the variance - over 70% - meaning that most of the movement across these stocks can be described by this single factor. The remaining components each explain a smaller portion, with rapidly diminishing contribution.\n",
    "\n",
    "Next, let’s look at the principal components table, which shows how each stock contributes to each component. These are essentially the directions in the data that capture the most variation, and each row is a new axis - a linear combination of the original stocks.\n",
    "\n",
    "- In the first component, all five stocks - AAPL, AMZN, GOOGL, META, and MSFT - have similar positive weights. This suggests that this component captures the overall market or tech-sector trend, since all stocks tend to move in the same direction here.\n",
    "- In the second component, META has a very high loading (about 0.89), while the others are close to zero or negative. This implies that this component is largely driven by META-specific behavior, such as volatility or unique events that affected only Meta during this time period.\n",
    "- The third component is dominated by Amazon (AMZN), indicating another stock-specific factor.\n",
    "- In the later components, we start seeing more contrasting behavior. For example, the fourth component shows a strong positive contribution from Apple and a strong negative one from Google, meaning it captures scenarios where those two stocks diverge in price movement"
   ]
  },
  {
   "cell_type": "markdown",
   "id": "a3920920-f3d2-453f-9b80-6b58534c63f4",
   "metadata": {},
   "source": [
    "## Resources\n",
    "- https://builtin.com/artificial-intelligence/ai-trading-stock-market-tech#:~:text=AI%20stock%20trading%20uses%20machine%20learning%2C%20sentiment%20analysis,efficiency%20to%20mitigate%20risks%20and%20provide%20higher%20returns.\n",
    "- https://www.sciencedirect.com/science/article/pii/S2772662221000102#:~:text=The%20stock%20market%20is%20turbulent%2C%20yet%20using%20artificial,as%20predictive%20analytics%20tools%20in%20the%20stock%20market."
   ]
  },
  {
   "cell_type": "code",
   "execution_count": null,
   "id": "6574485b-2543-4f10-9237-b02934cae773",
   "metadata": {},
   "outputs": [],
   "source": []
  }
 ],
 "metadata": {
  "kernelspec": {
   "display_name": "Python 3 (ipykernel)",
   "language": "python",
   "name": "python3"
  },
  "language_info": {
   "codemirror_mode": {
    "name": "ipython",
    "version": 3
   },
   "file_extension": ".py",
   "mimetype": "text/x-python",
   "name": "python",
   "nbconvert_exporter": "python",
   "pygments_lexer": "ipython3",
   "version": "3.10.0"
  }
 },
 "nbformat": 4,
 "nbformat_minor": 5
}
