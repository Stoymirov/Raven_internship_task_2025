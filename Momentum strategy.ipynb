{
 "cells": [
  {
   "cell_type": "code",
   "execution_count": 107,
   "id": "f8693086-9e25-4455-86f4-5e8757d5dd55",
   "metadata": {},
   "outputs": [],
   "source": [
    "import pandas as pd\n",
    "from binance.client import Client\n",
    "import backtrader as bt\n",
    "import matplotlib.pyplot as plt\n",
    "import mplfinance as mpf\n",
    "import itertools\n",
    "import numpy as np\n",
    "import seaborn as sns\n",
    "%matplotlib inline"
   ]
  },
  {
   "cell_type": "markdown",
   "id": "41a825fd-8763-4566-a586-dc96eb3c369e",
   "metadata": {},
   "source": [
    "### Premise on the workflow\n",
    "This workflow is designed to closely follow my thought process. At points where the code is modified from earlier versions, I explain the reasons behind the changes, including any mistakes identified and the rationale for improvements. This approach aims to provide transparency into the development and analysis steps, helping the reader understand why certain adjustments were made. At points it might have been better to simply rewrite the old code, but this would miss the thinking process."
   ]
  },
  {
   "cell_type": "code",
   "execution_count": null,
   "id": "35e3b2d1-ccfa-4ed8-bdc5-5fda3f90f547",
   "metadata": {},
   "outputs": [],
   "source": []
  },
  {
   "cell_type": "markdown",
   "id": "0be4c6e2-9c01-4edd-9f95-79204fa8e2c9",
   "metadata": {},
   "source": [
    "## Simple strategy\n",
    "# SMA Crossover Strategy – Algorithm Development Plan\n",
    "\n",
    "## 1. Environment Setup  \n",
    "Set up the Python environment with all necessary libraries for strategy development, backtesting, and performance analysis:  \n",
    "- `backtrader`  \n",
    "- `pandas`  \n",
    "- `matplotlib`  \n",
    "- `numpy` (optional for optimization)\n",
    "\n",
    "\n",
    "## 2. Strategy Implementation  \n",
    "Implement the core logic of the SMA Crossover strategy:  \n",
    "- Define short-term and long-term SMAs  \n",
    "- Generate **buy signals** when the short SMA crosses above the long SMA  \n",
    "- Generate **sell signals** when the short SMA crosses below the long SMA  \n",
    "\n",
    "\n",
    "## 3. Backtesting Engine  \n",
    "Use historical data to simulate the strategy’s past performance:  \n",
    "- Fetch historical stock/crypto data  \n",
    "- Integrate with Backtrader’s backtesting framework  \n",
    "- Simulate trades based on defined logic\n",
    "\n",
    "\n",
    "## 4. Performance Analysis  \n",
    "Evaluate the strategy using key performance metrics:  \n",
    "-  Sharpe Ratio  \n",
    "-  Maximum Drawdown  \n",
    "-  Total Return  \n",
    "-  Win Rate  \n",
    "\n",
    "\n",
    "## 5. Visualization  \n",
    "Create visual tools to interpret and present results:  \n",
    "- Price chart with buy/sell markers  \n",
    "- Strategy equity curve  \n",
    "- Overlay of SMAs and signals on price chart  \n",
    "\n",
    "\n",
    "## 6. Parameter Optimization  \n",
    "Test various SMA combinations (e.g. 10/50, 20/100):  \n",
    "- Use grid search or loops  \n",
    "- Compare results across different timeframes and assets  \n",
    "- Identify optimal values for maximizing Sharpe ratio or return  \n",
    "\n",
    "\n",
    "## 7. Conclusion and Insights  \n",
    "Summarize key observations and reflect on:  \n",
    "- Strategy strengths and weaknesses  \n",
    "- Conditions where it performs well or poorly  \n",
    "- Ideas for future improvements (e.g. adding volume filters, trailing stops, risk management)\n",
    "\n",
    "\n",
    "Let me know if you'd like this turned into a project template or notebook starter!\n"
   ]
  },
  {
   "cell_type": "markdown",
   "id": "476c3761-5138-43ac-b4f7-0a0609f10fae",
   "metadata": {},
   "source": [
    "We will start small. We are going to begin by implementing a very basic momentum trading strategy and then go ahead from there.\n",
    "- If the price has gone up a lot over the last $N$ days, we buy\n",
    "- If the price has dropped over the last $N$ days, we sel\n",
    "\n",
    "For this purpose we are going to use ```backtrader```\n"
   ]
  },
  {
   "cell_type": "markdown",
   "id": "108f4dc1-c74e-40a3-a361-6880aa0be190",
   "metadata": {},
   "source": [
    "We are going to create a ```MomentumStrategy``` class where we we calculate the momentum over the last ```lookback``` days using the formula: $$\n",
    "\\text{Momentum}_t = \\frac{P_t - P_{t - L}}{P_{t - L}} = \\frac{P_t}{P_{t - L}} - 1\n",
    "$$"
   ]
  },
  {
   "cell_type": "code",
   "execution_count": 81,
   "id": "aa2237dd-bf11-44b6-b9aa-45981e3f7306",
   "metadata": {},
   "outputs": [],
   "source": [
    "class MomentumStrategy(bt.Strategy):\n",
    "    params = (\n",
    "        ('lookback', 20),       \n",
    "        ('threshold', 0.01),     \n",
    "        ('trade_size', 0.1),     \n",
    "    )\n",
    "\n",
    "    def next(self):\n",
    "        if len(self.data) < self.p.lookback:\n",
    "            return  # not enough data yet\n",
    "    \n",
    "        momentum = (self.data.close[0] / self.data.close[-self.p.lookback]) - 1\n",
    "        size = (self.broker.getvalue() * self.p.trade_size) / self.data.close[0] #I converted this to int but it was not appropriate for bitcoin since the value is always lower than 1 when buying\n",
    "       \n",
    "        # SELL condition\n",
    "        if momentum < -self.p.threshold and self.position.size > 0:\n",
    "            \n",
    "            self.close()\n",
    "\n",
    "        # BUY condition\n",
    "        elif momentum > self.p.threshold and not self.position:\n",
    "            if size > 0:\n",
    "               \n",
    "                self.buy(size=size)\n",
    "            else:\n",
    "                print(\"Calculated size too small to buy\")\n",
    "\n"
   ]
  },
  {
   "cell_type": "markdown",
   "id": "4cacf88c-728f-4cee-a5c7-02118ab68bf4",
   "metadata": {},
   "source": [
    "We start by defining key parameters such as lookback, threshold, and trade_size. The momentum is calculated using these parameters based on historical price data.\n",
    "\n",
    "- In the ```next``` method, we first check if we have enough data to calculate momentum. Once we have enough information, we compute the momentum value.\n",
    "\n",
    "- If the momentum falls below the negative threshold and we currently hold a position, we sell to exit the trade.\n",
    "\n",
    "Conversely, if the momentum rises above the positive threshold and we do not hold any position, we buy a calculated amount of shares based on our portfolio size and the **trade_size** parameter."
   ]
  },
  {
   "cell_type": "markdown",
   "id": "ad67c876-240f-4441-99ed-c87c427f3fe2",
   "metadata": {},
   "source": [
    "### Doing backtesting on the small engine\n",
    "\n",
    "For the purpose of backtesting I am going to use \"Cerebro engine\". Before doing that I will run ```pip install python-binance``` to get access to information about the market."
   ]
  },
  {
   "cell_type": "code",
   "execution_count": 82,
   "id": "eea17fa0-a085-4451-a50b-ed884411e7eb",
   "metadata": {},
   "outputs": [
    {
     "name": "stdout",
     "output_type": "stream",
     "text": [
      "                          Open       High        Low      Close      Volume\n",
      "Open time                                                                  \n",
      "2025-05-28 15:00:00  107522.71  107677.28  107045.45  107107.31  2226.89421\n",
      "2025-05-28 16:00:00  107107.31  107457.59  107107.31  107420.00   629.26184\n",
      "2025-05-28 17:00:00  107420.00  107832.38  107363.63  107679.01   886.65781\n",
      "2025-05-28 18:00:00  107679.01  107842.29  107388.00  107476.55   436.15460\n",
      "2025-05-28 19:00:00  107476.54  107798.14  106938.24  106946.01   805.61276\n"
     ]
    }
   ],
   "source": [
    "from binance.client import Client\n",
    "import pandas as pd\n",
    "\n",
    "# We will need no API key since the data is public\n",
    "client = Client()\n",
    "\n",
    "# Fetch historical klines (candles) for BTCUSDT, 1h interval, last 1000 candles\n",
    "klines = client.get_historical_klines(\"BTCUSDT\", Client.KLINE_INTERVAL_1HOUR, \"1000 hours ago UTC\")\n",
    "\n",
    "# Convert to DataFrame and select columns\n",
    "df = pd.DataFrame(klines, columns=[\n",
    "    'Open time', 'Open', 'High', 'Low', 'Close', 'Volume',\n",
    "    'Close time', 'Quote asset volume', 'Number of trades',\n",
    "    'Taker buy base asset volume', 'Taker buy quote asset volume', 'Ignore'])\n",
    "\n",
    "# Convert timestamps to datetime\n",
    "df['Open time'] = pd.to_datetime(df['Open time'], unit='ms')\n",
    "df['Close time'] = pd.to_datetime(df['Close time'], unit='ms')\n",
    "\n",
    "# Keep only useful columns for backtesting\n",
    "df = df[['Open time', 'Open', 'High', 'Low', 'Close', 'Volume']]\n",
    "\n",
    "# Convert columns to float\n",
    "df[['Open', 'High', 'Low', 'Close', 'Volume']] = df[['Open', 'High', 'Low', 'Close', 'Volume']].astype(float)\n",
    "\n",
    "# Set 'Open time' as the datetime index for mplfinance compatibility\n",
    "df.set_index('Open time', inplace=True)\n",
    "\n",
    "print(df.head())\n"
   ]
  },
  {
   "cell_type": "code",
   "execution_count": 83,
   "id": "55f2740a-01d8-43d6-89f0-d38871254729",
   "metadata": {},
   "outputs": [
    {
     "data": {
      "text/plain": [
       "pandas.core.indexes.datetimes.DatetimeIndex"
      ]
     },
     "execution_count": 83,
     "metadata": {},
     "output_type": "execute_result"
    }
   ],
   "source": [
    "type(df.index)"
   ]
  },
  {
   "cell_type": "markdown",
   "id": "62732103-f6aa-4b29-a6f9-8c15c1cceda8",
   "metadata": {},
   "source": [
    "Now that we have our data that we are going to work with we can plot it to see how it looks like."
   ]
  },
  {
   "cell_type": "code",
   "execution_count": 84,
   "id": "ccb19022-0641-4bc8-bb9b-91a29426604f",
   "metadata": {},
   "outputs": [
    {
     "name": "stderr",
     "output_type": "stream",
     "text": [
      "C:\\Users\\mitko\\AppData\\Local\\Programs\\Python\\Python310\\lib\\site-packages\\mplfinance\\_arg_validators.py:84: UserWarning: \n",
      "\n",
      " ================================================================= \n",
      "\n",
      "   WARNING: YOU ARE PLOTTING SO MUCH DATA THAT IT MAY NOT BE\n",
      "            POSSIBLE TO SEE DETAILS (Candles, Ohlc-Bars, Etc.)\n",
      "   For more information see:\n",
      "   - https://github.com/matplotlib/mplfinance/wiki/Plotting-Too-Much-Data\n",
      "   \n",
      "   TO SILENCE THIS WARNING, set `type='line'` in `mpf.plot()`\n",
      "   OR set kwarg `warn_too_much_data=N` where N is an integer \n",
      "   LARGER than the number of data points you want to plot.\n",
      "\n",
      " ================================================================ \n",
      "  warnings.warn('\\n\\n ================================================================= '+\n"
     ]
    },
    {
     "data": {
      "image/png": "[encoded data removed]",
      "text/plain": [
       "<Figure size 800x575 with 4 Axes>"
      ]
     },
     "metadata": {},
     "output_type": "display_data"
    }
   ],
   "source": [
    "\n",
    "mpf.plot(df, type='candle', volume=True, style='classic')\n",
    "\n",
    "plt.show()"
   ]
  },
  {
   "cell_type": "markdown",
   "id": "0d65d780-f2dc-439e-a9c3-7b673056f7ad",
   "metadata": {},
   "source": [
    "Now that we can visually see we can go forward and try to do simple backtesting. Before that I will rename the columns for conviniency."
   ]
  },
  {
   "cell_type": "code",
   "execution_count": 85,
   "id": "a738d1b6-2e91-4ec8-a483-283a7e8ef633",
   "metadata": {},
   "outputs": [],
   "source": [
    "df.rename(columns={\n",
    "    'Open': 'open',\n",
    "    'High': 'high',\n",
    "    'Low': 'low',\n",
    "    'Close': 'close',\n",
    "    'Volume': 'volume'\n",
    "}, inplace=True)"
   ]
  },
  {
   "cell_type": "markdown",
   "id": "1d8772da-24ef-4d31-97af-8e50c9b56365",
   "metadata": {},
   "source": [
    "Let us create a datafeed."
   ]
  },
  {
   "cell_type": "code",
   "execution_count": 86,
   "id": "9ce11f62-ea0e-424f-b891-e27107c1fa83",
   "metadata": {},
   "outputs": [],
   "source": [
    "datafeed = bt.feeds.PandasData(dataname=df)"
   ]
  },
  {
   "cell_type": "code",
   "execution_count": 87,
   "id": "0db65a72-88ad-46db-b4d9-71590947c087",
   "metadata": {},
   "outputs": [],
   "source": [
    "INITIAL_CASH = 10000\n",
    "cerebro = bt.Cerebro()\n",
    "\n",
    "cerebro.addstrategy(MomentumStrategy, lookback=20, threshold=0.02, trade_size=0.1) # We also can adjust the params here.\n",
    "\n",
    "cerebro.adddata(datafeed)\n",
    "\n",
    "cerebro.broker.setcash(INITIAL_CASH)\n",
    "\n",
    "# I am not going to set commission since we assume that we are trading in a firm and have no commissions.\n",
    "# cerebro.broker.set_fundmode(True)\n",
    "results = cerebro.run()"
   ]
  },
  {
   "cell_type": "code",
   "execution_count": 88,
   "id": "d2c4fbdc-cc19-4ce7-b7b4-4e15535d5aff",
   "metadata": {},
   "outputs": [
    {
     "name": "stdout",
     "output_type": "stream",
     "text": [
      "Final Portfolio Value: 10037.22\n"
     ]
    }
   ],
   "source": [
    "print(f\"Final Portfolio Value: {cerebro.broker.getvalue():.2f}\")"
   ]
  },
  {
   "cell_type": "markdown",
   "id": "88389d26-1772-4077-b092-1796c9a37918",
   "metadata": {},
   "source": [
    "I want to notice that I used to get a value 10000 for the portfolio. Therefore no trades were made. We have not bought, our position stays at zero, we can not sell. Where is this problem coming from? After some observation we can notice that we are using ```size = int((self.broker.getvalue() * self.p.trade_size) / close_price)``` which returns 0 if the value is less than 0. Since we are buyin Bitcoins, we are never buying more than 1 bitcoin at a time. After removing the parsing to int the problem is no longer there.\n",
    "\n",
    "Okey, we got a result and we see that we have increased our portfolio with 37 dollars, which is about 0.37%. It is a possitive increase but not hing impresive. Let us analyze some more this result before moving to improvements."
   ]
  },
  {
   "cell_type": "code",
   "execution_count": 89,
   "id": "b5aadb61-9c2b-4dad-a042-9fe01efffc05",
   "metadata": {},
   "outputs": [],
   "source": [
    "cerebro.addanalyzer(bt.analyzers.TradeAnalyzer, _name='trades')\n",
    "cerebro.addanalyzer(bt.analyzers.SharpeRatio_A, _name='sharpe', timeframe=bt.TimeFrame.Days)\n",
    "cerebro.addanalyzer(bt.analyzers.DrawDown, _name='drawdown')"
   ]
  },
  {
   "cell_type": "code",
   "execution_count": 90,
   "id": "ca1406df-caf2-484f-b456-0e4404d658c5",
   "metadata": {},
   "outputs": [],
   "source": [
    "results = cerebro.run()\n",
    "strat = results[0]\n"
   ]
  },
  {
   "cell_type": "code",
   "execution_count": 91,
   "id": "023c5f39-3189-478e-9d6b-c60b6606ea9e",
   "metadata": {},
   "outputs": [
    {
     "name": "stdout",
     "output_type": "stream",
     "text": [
      "Total trades: 4\n",
      "Open trades: 0\n",
      "Closed trades: 4\n",
      "Winning trades: 2\n",
      "Losing trades: 2\n",
      "Total Net PnL: 37.22\n",
      "Average Net PnL: 9.30\n"
     ]
    }
   ],
   "source": [
    "\n",
    "trade_stats = strat.analyzers.trades.get_analysis()\n",
    "\n",
    "# Total trades\n",
    "total_trades = trade_stats.total.total\n",
    "open_trades = trade_stats.total.open\n",
    "closed_trades = trade_stats.total.closed\n",
    "\n",
    "# Wins and losses\n",
    "won = trade_stats.won.total\n",
    "lost = trade_stats.lost.total\n",
    "\n",
    "# PnL\n",
    "total_net_pnl = trade_stats.pnl.net.total\n",
    "average_net_pnl = trade_stats.pnl.net.average\n",
    "\n",
    "print(f\"Total trades: {total_trades}\")\n",
    "print(f\"Open trades: {open_trades}\")\n",
    "print(f\"Closed trades: {closed_trades}\")\n",
    "print(f\"Winning trades: {won}\")\n",
    "print(f\"Losing trades: {lost}\")\n",
    "print(f\"Total Net PnL: {total_net_pnl:.2f}\")\n",
    "print(f\"Average Net PnL: {average_net_pnl:.2f}\")"
   ]
  },
  {
   "cell_type": "code",
   "execution_count": 92,
   "id": "05590733-7993-40ee-a282-8f0a010bef0d",
   "metadata": {},
   "outputs": [
    {
     "name": "stdout",
     "output_type": "stream",
     "text": [
      "Sharpe Ratio: 0.5823840575651847\n",
      "Max Drawdown: 0.26%\n",
      "Drawdown Duration: 137 bars\n"
     ]
    }
   ],
   "source": [
    "sharpe = strat.analyzers.sharpe.get_analysis()\n",
    "drawdown = strat.analyzers.drawdown.get_analysis()\n",
    "\n",
    "print(\"Sharpe Ratio:\", sharpe.get('sharperatio', 'N/A'))\n",
    "print(f\"Max Drawdown: {drawdown.drawdown:.2f}%\")\n",
    "print(f\"Drawdown Duration: {drawdown.len} bars\")"
   ]
  },
  {
   "cell_type": "markdown",
   "id": "6f1c2af2-0b6f-4532-ac2f-e10df64baaeb",
   "metadata": {},
   "source": [
    "### Improving the simple model\n",
    "Based on the information above, we can conclude that our model functions but is far from optimal. Next, we will work on making it more complex and improving its performance. The first thing that might come to mind is how we actually decide on the hyperparameters we are using such as the threshhold and the trade size. There are a couple approaches when it comes to choosing those:\n",
    "\n",
    "\n",
    "- **Grid Search**  \n",
    "  Try all combinations of discrete values\n",
    "\n",
    "- **Random Search**  \n",
    "  Randomly sample combinations from the hyperparameter space\n",
    "\n",
    "- **Bayesian Optimization**  \n",
    "  Use prior evaluations to guide the search (e.g., maximize Sharpe ratio)\n",
    "\n",
    "- **Walk-Forward Optimization**  \n",
    "  1. Train on time window $$[t, t+k]$$  \n",
    "  2. Test on $$[t+k+1, t+2k]$$  \n",
    "  3. Slide the window forward\n"
   ]
  },
  {
   "cell_type": "markdown",
   "id": "c7283851-c909-453f-9d2f-60e82b33e84b",
   "metadata": {},
   "source": [
    "Before implementing GridSearch, we should ensure that the parameter values are not chosen arbitrarily, but are instead grounded in reasonable assumptions and sound trading principles. For instance, a trade size of 0.3 or 0.4 is clearly unreasonable, as it allocates a disproportionately large portion of the capital to a single trade, which significantly increases risk."
   ]
  },
  {
   "cell_type": "code",
   "execution_count": 93,
   "id": "be693e34-ea8a-41b3-a92f-2a355610cc48",
   "metadata": {},
   "outputs": [
    {
     "name": "stdout",
     "output_type": "stream",
     "text": [
      " Top Results:\n",
      "    lookback  threshold  trade_size   final_value\n",
      "17        10       0.01        0.09  10036.662324\n",
      "53        20       0.02        0.09  10033.517449\n",
      "16        10       0.01        0.08  10032.603494\n",
      "52        20       0.02        0.08  10029.812537\n",
      "15        10       0.01        0.07  10028.540969\n"
     ]
    }
   ],
   "source": [
    "class BinanceData(bt.feeds.PandasData):\n",
    "    params = (\n",
    "        ('datetime', None),\n",
    "        ('open', 'Open'),\n",
    "        ('high', 'High'),\n",
    "        ('low', 'Low'),\n",
    "        ('close', 'Close'),\n",
    "        ('volume', 'Volume'),\n",
    "        ('openinterest', -1),\n",
    "    )\n",
    "lookbacks = [10, 20, 50]\n",
    "thresholds = [0.005, 0.01, 0.02]\n",
    "trade_sizes = np.arange(0.01,0.1,0.01)\n",
    "\n",
    "results = []\n",
    "\n",
    "for lookback, threshold, trade_size in itertools.product(lookbacks, thresholds, trade_sizes):\n",
    "    cerebro = bt.Cerebro()\n",
    "    cerebro.addstrategy(MomentumStrategy,\n",
    "                        lookback=lookback,\n",
    "                        threshold=threshold,\n",
    "                        trade_size=trade_size)\n",
    "    \n",
    "    data = BinanceData(dataname=df)\n",
    "    cerebro.adddata(data)\n",
    "\n",
    "    cerebro.broker.setcash(10000)\n",
    "    cerebro.broker.setcommission(commission=0)\n",
    "    cerebro.run()\n",
    "\n",
    "    final_value = cerebro.broker.getvalue()\n",
    "    results.append({\n",
    "        'lookback': lookback,\n",
    "        'threshold': threshold,\n",
    "        'trade_size': trade_size,\n",
    "        'final_value': final_value\n",
    "    })\n",
    "results_df = pd.DataFrame(results)\n",
    "results_df = results_df.sort_values(by='final_value', ascending=False)\n",
    "\n",
    "print(\" Top Results:\")\n",
    "print(results_df.head())"
   ]
  },
  {
   "cell_type": "markdown",
   "id": "a53e0ed2-c5c0-4213-8e78-b734a3eacb1b",
   "metadata": {},
   "source": [
    "If we make the trade size bigger we will notice that we can increase the final value, however this comes with a lot of risk. For now we will leave that and do something else. **Our model is still extremely simply and we are going to make it a bit more complex.** I am going to try and implement a **SMA crossover.** For this purpose I will\n",
    "- Define short-term and long-term SMAs  \n",
    "- Generate **buy signals** when the short SMA crosses above the long SMA  \n",
    "- Generate **sell signals** when the short SMA crosses below the long SMA\n",
    "\n",
    "Let's add this to our model."
   ]
  },
  {
   "cell_type": "code",
   "execution_count": 94,
   "id": "5a50defd-a4c9-4eba-8c9d-9b2fd888522b",
   "metadata": {},
   "outputs": [],
   "source": [
    "import backtrader as bt\n",
    "\n",
    "class MomentumStrategyWithSMA(bt.Strategy):\n",
    "    params = (\n",
    "        ('lookback', 20),\n",
    "        ('threshold', 0.01),\n",
    "        ('trade_size', 0.1),\n",
    "        ('sma_fast_period', 10),  # short-term SMA\n",
    "        ('sma_slow_period', 30),  # long-term SMA\n",
    "    )\n",
    "    \n",
    "    def __init__(self):\n",
    "        self.sma_fast = bt.indicators.SimpleMovingAverage(self.data.close, period=self.p.sma_fast_period)\n",
    "        self.sma_slow = bt.indicators.SimpleMovingAverage(self.data.close, period=self.p.sma_slow_period)\n",
    "        self.crossover = bt.indicators.CrossOver(self.sma_fast, self.sma_slow)  # +1 when fast crosses above slow, -1 when below\n",
    "    \n",
    "    def next(self):\n",
    "        if len(self.data) < max(self.p.lookback, self.p.sma_slow_period):\n",
    "            return  # wait until enough data\n",
    "\n",
    "        momentum = (self.data.close[0] / self.data.close[-self.p.lookback]) - 1\n",
    "        size = (self.broker.getvalue() * self.p.trade_size) / self.data.close[0]\n",
    "\n",
    "        # SELL condition: momentum < -threshold AND fast SMA crosses below slow SMA\n",
    "        if momentum < -self.p.threshold and self.position.size > 0 and self.crossover < 0:\n",
    "            self.close()\n",
    "\n",
    "        # BUY condition: momentum > threshold AND fast SMA crosses above slow SMA\n",
    "        elif momentum > self.p.threshold and not self.position and self.crossover > 0:\n",
    "            if size > 0:\n",
    "                self.buy(size=size)\n",
    "            else:\n",
    "                print(\"Calculated size too small to buy\")\n"
   ]
  },
  {
   "cell_type": "code",
   "execution_count": 95,
   "id": "9d99b268-729c-449b-ba4d-5a8fa22aafc3",
   "metadata": {},
   "outputs": [],
   "source": [
    "def run_backtest(strategy_class, **strategy_params):\n",
    "    cerebro = bt.Cerebro()\n",
    "    cerebro.addstrategy(strategy_class, **strategy_params)\n",
    "    cerebro.adddata(datafeed)\n",
    "    cerebro.broker.setcash(INITIAL_CASH)\n",
    "    # Add analyzers\n",
    "    cerebro.addanalyzer(bt.analyzers.TradeAnalyzer, _name='trades')\n",
    "    cerebro.addanalyzer(bt.analyzers.SharpeRatio_A, _name='sharpe', timeframe=bt.TimeFrame.Days)\n",
    "    cerebro.addanalyzer(bt.analyzers.DrawDown, _name='drawdown')\n",
    "\n",
    "    results = cerebro.run()\n",
    "    strat = results[0]\n",
    "\n",
    "    trade_stats = strat.analyzers.trades.get_analysis()\n",
    "    sharpe = strat.analyzers.sharpe.get_analysis()\n",
    "    drawdown = strat.analyzers.drawdown.get_analysis()\n",
    "\n",
    "    total_trades = trade_stats.get('total', {}).get('total', 0)\n",
    "    won = trade_stats.get('won', {}).get('total', 0)\n",
    "    lost = trade_stats.get('lost', {}).get('total', 0)\n",
    "    pnl_total = trade_stats.get('pnl', {}).get('net', {}).get('total', 0)\n",
    "    pnl_avg = trade_stats.get('pnl', {}).get('net', {}).get('average', 0)\n",
    "    \n",
    "    print(f\"Strategy: {strategy_class.__name__}\")\n",
    "    print(f\"Total trades: {total_trades}\")\n",
    "    print(f\"Winning trades: {won}\")\n",
    "    print(f\"Losing trades: {lost}\")\n",
    "    print(f\"Total Net PnL: {pnl_total:.2f}\")\n",
    "    print(f\"Average Net PnL: {pnl_avg:.2f}\")\n",
    "    print(\"Sharpe Ratio:\", sharpe.get('sharperatio', 'N/A'))\n",
    "    print(f\"Max Drawdown: {drawdown.drawdown:.2f}%\")\n",
    "    print(f\"Drawdown Duration: {drawdown.len} bars\")\n",
    "    print(\"===================================\")\n"
   ]
  },
  {
   "cell_type": "code",
   "execution_count": 105,
   "id": "81688fa3-16eb-4f25-99e6-488bed993d34",
   "metadata": {},
   "outputs": [
    {
     "name": "stdout",
     "output_type": "stream",
     "text": [
      "Strategy: MomentumStrategy\n",
      "Total trades: 12\n",
      "Winning trades: 3\n",
      "Losing trades: 8\n",
      "Total Net PnL: 6.12\n",
      "Average Net PnL: 0.56\n",
      "Sharpe Ratio: -0.40803184543265725\n",
      "Max Drawdown: 0.26%\n",
      "Drawdown Duration: 137 bars\n",
      "===================================\n",
      "Strategy: MomentumStrategyWithSMA\n",
      "Total trades: 2\n",
      "Winning trades: 2\n",
      "Losing trades: 0\n",
      "Total Net PnL: 78.24\n",
      "Average Net PnL: 39.12\n",
      "Sharpe Ratio: 1.8587250313980614\n",
      "Max Drawdown: 0.12%\n",
      "Drawdown Duration: 137 bars\n",
      "===================================\n"
     ]
    }
   ],
   "source": [
    "run_backtest(MomentumStrategy, lookback=20, threshold=0.01, trade_size=0.1)\n",
    "run_backtest(MomentumStrategyWithSMA, lookback=20, threshold=0.01, trade_size=0.1, sma_fast_period=10, sma_slow_period=50)\n",
    "\n"
   ]
  },
  {
   "cell_type": "code",
   "execution_count": 99,
   "id": "6b98e3f2-2798-424d-8813-248a575cc036",
   "metadata": {},
   "outputs": [
    {
     "name": "stdout",
     "output_type": "stream",
     "text": [
      "Total backtests to run: 108\n",
      "Running backtest 1/108\n",
      "Running backtest 11/108\n",
      "Running backtest 21/108\n",
      "Running backtest 31/108\n",
      "Running backtest 41/108\n",
      "Running backtest 51/108\n",
      "Running backtest 61/108\n",
      "Running backtest 71/108\n",
      "Running backtest 81/108\n",
      "Running backtest 91/108\n",
      "Running backtest 101/108\n",
      "Top results with SMA:\n",
      "    lookback  threshold  trade_size  sma_fast  sma_slow   final_value\n",
      "53        20       0.01         0.1        10        50  10074.142538\n",
      "71        20       0.02         0.1        10        50  10072.433346\n",
      "68        20       0.02         0.1         5        50  10070.920821\n",
      "50        20       0.01         0.1         5        50  10067.247798\n",
      "31        10       0.02         0.1         5        30  10067.231212\n"
     ]
    },
    {
     "ename": "NameError",
     "evalue": "name 'top_5' is not defined",
     "output_type": "error",
     "traceback": [
      "\u001b[1;31m---------------------------------------------------------------------------\u001b[0m",
      "\u001b[1;31mNameError\u001b[0m                                 Traceback (most recent call last)",
      "Cell \u001b[1;32mIn[99], line 63\u001b[0m\n\u001b[0;32m     61\u001b[0m \u001b[38;5;28mprint\u001b[39m(\u001b[38;5;124m\"\u001b[39m\u001b[38;5;124mTop results with SMA:\u001b[39m\u001b[38;5;124m\"\u001b[39m)\n\u001b[0;32m     62\u001b[0m \u001b[38;5;28mprint\u001b[39m(results_df\u001b[38;5;241m.\u001b[39mhead())\n\u001b[1;32m---> 63\u001b[0m \u001b[38;5;28;01mfor\u001b[39;00m _, row \u001b[38;5;129;01min\u001b[39;00m \u001b[43mtop_5\u001b[49m\u001b[38;5;241m.\u001b[39miterrows():\n\u001b[0;32m     64\u001b[0m     \u001b[38;5;28;01mif\u001b[39;00m \u001b[38;5;124m'\u001b[39m\u001b[38;5;124msma_fast\u001b[39m\u001b[38;5;124m'\u001b[39m \u001b[38;5;129;01min\u001b[39;00m row \u001b[38;5;129;01mand\u001b[39;00m \u001b[38;5;129;01mnot\u001b[39;00m pd\u001b[38;5;241m.\u001b[39misna(row[\u001b[38;5;124m'\u001b[39m\u001b[38;5;124msma_fast\u001b[39m\u001b[38;5;124m'\u001b[39m]):\n\u001b[0;32m     65\u001b[0m         run_backtest(MomentumStrategyWithSMA,\n\u001b[0;32m     66\u001b[0m                      lookback\u001b[38;5;241m=\u001b[39m\u001b[38;5;28mint\u001b[39m(row[\u001b[38;5;124m'\u001b[39m\u001b[38;5;124mlookback\u001b[39m\u001b[38;5;124m'\u001b[39m]),\n\u001b[0;32m     67\u001b[0m                      threshold\u001b[38;5;241m=\u001b[39mrow[\u001b[38;5;124m'\u001b[39m\u001b[38;5;124mthreshold\u001b[39m\u001b[38;5;124m'\u001b[39m],\n\u001b[0;32m     68\u001b[0m                      trade_size\u001b[38;5;241m=\u001b[39mrow[\u001b[38;5;124m'\u001b[39m\u001b[38;5;124mtrade_size\u001b[39m\u001b[38;5;124m'\u001b[39m],\n\u001b[0;32m     69\u001b[0m                      sma_fast_period\u001b[38;5;241m=\u001b[39m\u001b[38;5;28mint\u001b[39m(row[\u001b[38;5;124m'\u001b[39m\u001b[38;5;124msma_fast\u001b[39m\u001b[38;5;124m'\u001b[39m]),\n\u001b[0;32m     70\u001b[0m                      sma_slow_period\u001b[38;5;241m=\u001b[39m\u001b[38;5;28mint\u001b[39m(row[\u001b[38;5;124m'\u001b[39m\u001b[38;5;124msma_slow\u001b[39m\u001b[38;5;124m'\u001b[39m]))\n",
      "\u001b[1;31mNameError\u001b[0m: name 'top_5' is not defined"
     ]
    }
   ],
   "source": [
    "import itertools\n",
    "import numpy as np\n",
    "import pandas as pd\n",
    "\n",
    "lookbacks = [10, 20, 50]\n",
    "thresholds = [0.01, 0.02]  # fewer thresholds\n",
    "trade_sizes = [0.01, 0.05, 0.1]  # fewer trade sizes\n",
    "sma_fast_periods = [5, 10]\n",
    "sma_slow_periods = [20, 30, 50]\n",
    "\n",
    "results = []\n",
    "\n",
    "total_runs = 0\n",
    "for lookback, threshold, trade_size, sma_fast, sma_slow in itertools.product(\n",
    "    lookbacks, thresholds, trade_sizes, sma_fast_periods, sma_slow_periods):\n",
    "\n",
    "    if sma_fast >= sma_slow:\n",
    "        continue\n",
    "\n",
    "    total_runs += 1\n",
    "\n",
    "print(f\"Total backtests to run: {total_runs}\")\n",
    "\n",
    "for i, (lookback, threshold, trade_size, sma_fast, sma_slow) in enumerate(itertools.product(\n",
    "    lookbacks, thresholds, trade_sizes, sma_fast_periods, sma_slow_periods)):\n",
    "\n",
    "    if sma_fast >= sma_slow:\n",
    "        continue\n",
    "\n",
    "    # Optional: print progress every 10 runs\n",
    "    if i % 10 == 0:\n",
    "        print(f\"Running backtest {i+1}/{total_runs}\")\n",
    "\n",
    "    cerebro = bt.Cerebro()\n",
    "    cerebro.addstrategy(MomentumStrategyWithSMA,\n",
    "                        lookback=lookback,\n",
    "                        threshold=threshold,\n",
    "                        trade_size=trade_size,\n",
    "                        sma_fast_period=sma_fast,\n",
    "                        sma_slow_period=sma_slow)\n",
    "\n",
    "    data = BinanceData(dataname=df)\n",
    "    cerebro.adddata(data)\n",
    "\n",
    "    cerebro.broker.setcash(10000)\n",
    "    cerebro.broker.setcommission(commission=0.001)\n",
    "\n",
    "    cerebro.run()\n",
    "    final_value = cerebro.broker.getvalue()\n",
    "\n",
    "    results.append({\n",
    "        'lookback': lookback,\n",
    "        'threshold': threshold,\n",
    "        'trade_size': trade_size,\n",
    "        'sma_fast': sma_fast,\n",
    "        'sma_slow': sma_slow,\n",
    "        'final_value': final_value\n",
    "    })\n",
    "\n",
    "results_df = pd.DataFrame(results).sort_values(by='final_value', ascending=False)\n"
   ]
  },
  {
   "cell_type": "markdown",
   "id": "78329cd5-3cd8-4116-8b6c-7863925a4cf1",
   "metadata": {},
   "source": [
    "Now we can see how our new model performs with different hyperparameters. We see that there are lots of cases where we get a positive final_value but there is also one important thing missing and it is information about the trades made. This is imprtant since we cannot rely on algorithms that have simply performed little to none trades that turned out to be lucky. Let's check some more statistics."
   ]
  },
  {
   "cell_type": "code",
   "execution_count": 101,
   "id": "69815995-2980-423c-9921-0652a47dacb9",
   "metadata": {},
   "outputs": [
    {
     "name": "stdout",
     "output_type": "stream",
     "text": [
      "Top results with SMA:\n",
      "    lookback  threshold  trade_size  sma_fast  sma_slow   final_value\n",
      "53        20       0.01         0.1        10        50  10074.142538\n",
      "71        20       0.02         0.1        10        50  10072.433346\n",
      "68        20       0.02         0.1         5        50  10070.920821\n",
      "50        20       0.01         0.1         5        50  10067.247798\n",
      "31        10       0.02         0.1         5        30  10067.231212\n",
      "Strategy: MomentumStrategyWithSMA\n",
      "Total trades: 2\n",
      "Winning trades: 2\n",
      "Losing trades: 0\n",
      "Total Net PnL: 78.24\n",
      "Average Net PnL: 39.12\n",
      "Sharpe Ratio: 1.8587250313980614\n",
      "Max Drawdown: 0.12%\n",
      "Drawdown Duration: 137 bars\n",
      "===================================\n",
      "Strategy: MomentumStrategyWithSMA\n",
      "Total trades: 2\n",
      "Winning trades: 1\n",
      "Losing trades: 0\n",
      "Total Net PnL: 5.64\n",
      "Average Net PnL: 5.64\n",
      "Sharpe Ratio: 1.7157446808753127\n",
      "Max Drawdown: 0.15%\n",
      "Drawdown Duration: 137 bars\n",
      "===================================\n",
      "Strategy: MomentumStrategyWithSMA\n",
      "Total trades: 1\n",
      "Winning trades: 0\n",
      "Losing trades: 0\n",
      "Total Net PnL: 0.00\n",
      "Average Net PnL: 0.00\n",
      "Sharpe Ratio: 2.2296886461741\n",
      "Max Drawdown: 0.15%\n",
      "Drawdown Duration: 137 bars\n",
      "===================================\n",
      "Strategy: MomentumStrategyWithSMA\n",
      "Total trades: 3\n",
      "Winning trades: 2\n",
      "Losing trades: 0\n",
      "Total Net PnL: 63.12\n",
      "Average Net PnL: 31.56\n",
      "Sharpe Ratio: 1.8070521328657374\n",
      "Max Drawdown: 0.14%\n",
      "Drawdown Duration: 137 bars\n",
      "===================================\n",
      "Strategy: MomentumStrategyWithSMA\n",
      "Total trades: 1\n",
      "Winning trades: 0\n",
      "Losing trades: 0\n",
      "Total Net PnL: 0.00\n",
      "Average Net PnL: 0.00\n",
      "Sharpe Ratio: 2.162389679198328\n",
      "Max Drawdown: 0.15%\n",
      "Drawdown Duration: 137 bars\n",
      "===================================\n"
     ]
    }
   ],
   "source": [
    "top_5 = results_df.head(5)\n",
    "print(\"Top results with SMA:\")\n",
    "print(results_df.head())\n",
    "for _, row in top_5.iterrows():\n",
    "    if 'sma_fast' in row and not pd.isna(row['sma_fast']):\n",
    "        run_backtest(MomentumStrategyWithSMA,\n",
    "                     lookback=int(row['lookback']),\n",
    "                     threshold=row['threshold'],\n",
    "                     trade_size=row['trade_size'],\n",
    "                     sma_fast_period=int(row['sma_fast']),\n",
    "                     sma_slow_period=int(row['sma_slow']))\n",
    "    else:\n",
    "        run_backtest(MomentumStrategy,\n",
    "                     lookback=int(row['lookback']),\n",
    "                     threshold=row['threshold'],\n",
    "                     trade_size=row['trade_size'])"
   ]
  },
  {
   "cell_type": "markdown",
   "id": "269e23a0-6eb7-41af-8c3a-e1434aaed865",
   "metadata": {},
   "source": [
    "The insights we get from that are extremely valiable. \n",
    "- Firstly we execute little to no trades. This means that the information could be missleading.\n",
    "- Secondly, although the sharpe ration is good, we have not met one of the **assumptions** it has - following a normal distribuution."
   ]
  },
  {
   "cell_type": "markdown",
   "id": "53b2948f-8f12-4281-a16a-2e35cce1f793",
   "metadata": {},
   "source": [
    "Probably the best thing we could do right now is to try and extend the period of our data since we are only using the last 1000 hours."
   ]
  },
  {
   "cell_type": "code",
   "execution_count": 113,
   "id": "191e875c-c171-499f-ab78-e3c16cfd7e54",
   "metadata": {},
   "outputs": [
    {
     "name": "stdout",
     "output_type": "stream",
     "text": [
      "                         Open      High       Low     Close      Volume\n",
      "Open time                                                              \n",
      "2022-07-10 07:00:00  21297.28  21360.58  21245.15  21338.12  6558.20641\n",
      "2022-07-10 08:00:00  21339.46  21424.67  21255.25  21324.16  7891.41116\n",
      "2022-07-10 09:00:00  21325.36  21361.52  21286.00  21325.00  6132.31280\n",
      "2022-07-10 10:00:00  21326.13  21355.85  21220.53  21277.09  7750.73745\n",
      "2022-07-10 11:00:00  21277.09  21304.96  21161.67  21301.84  8215.91876\n",
      "                          Open       High        Low      Close     Volume\n",
      "Open time                                                                 \n",
      "2025-07-09 02:00:00  108780.77  108837.70  108600.00  108611.53  277.87433\n",
      "2025-07-09 03:00:00  108611.53  108665.40  108348.00  108376.41  356.48997\n",
      "2025-07-09 04:00:00  108376.41  108564.00  108324.53  108553.61  214.96856\n",
      "2025-07-09 05:00:00  108553.60  108942.20  108489.20  108778.10  393.65608\n",
      "2025-07-09 06:00:00  108778.10  108836.38  108667.01  108836.38  200.23666\n",
      "Total candles: 26279\n"
     ]
    }
   ],
   "source": [
    "from binance.client import Client\n",
    "import pandas as pd\n",
    "import time\n",
    "from datetime import datetime, timedelta\n",
    "\n",
    "# No API key needed for public data\n",
    "client = Client()\n",
    "\n",
    "# Function to fetch hourly data for up to 3 years\n",
    "def fetch_hourly_data(symbol=\"BTCUSDT\", years=3):\n",
    "    interval = Client.KLINE_INTERVAL_1HOUR\n",
    "    end_time = datetime.utcnow()\n",
    "    start_time = end_time - timedelta(days=365 * years)\n",
    "    \n",
    "    df_list = []\n",
    "    while start_time < end_time:\n",
    "        # Convert to string\n",
    "        start_str = start_time.strftime(\"%d %b %Y %H:%M:%S\")\n",
    "        try:\n",
    "            klines = client.get_historical_klines(symbol, interval, start_str, limit=1000)\n",
    "            if not klines:\n",
    "                break\n",
    "            \n",
    "            temp_df = pd.DataFrame(klines, columns=[\n",
    "                'Open time', 'Open', 'High', 'Low', 'Close', 'Volume',\n",
    "                'Close time', 'Quote asset volume', 'Number of trades',\n",
    "                'Taker buy base asset volume', 'Taker buy quote asset volume', 'Ignore'])\n",
    "\n",
    "            temp_df['Open time'] = pd.to_datetime(temp_df['Open time'], unit='ms')\n",
    "            temp_df['Close time'] = pd.to_datetime(temp_df['Close time'], unit='ms')\n",
    "            temp_df = temp_df[['Open time', 'Open', 'High', 'Low', 'Close', 'Volume']]\n",
    "            temp_df[['Open', 'High', 'Low', 'Close', 'Volume']] = temp_df[['Open', 'High', 'Low', 'Close', 'Volume']].astype(float)\n",
    "            df_list.append(temp_df)\n",
    "\n",
    "            # Step forward 1000 hours\n",
    "            start_time = temp_df['Open time'].iloc[-1] + timedelta(hours=1)\n",
    "            time.sleep(0.5)  # Respect API rate limits\n",
    "        except Exception as e:\n",
    "            print(\"Error:\", e)\n",
    "            time.sleep(1)\n",
    "    \n",
    "    full_df = pd.concat(df_list).set_index('Open time')\n",
    "    return full_df\n",
    "\n",
    "# Fetch 3 years of data\n",
    "df = fetch_hourly_data(years=3)\n",
    "\n",
    "print(df.head())\n",
    "print(df.tail())\n",
    "print(f\"Total candles: {len(df)}\")\n"
   ]
  },
  {
   "cell_type": "code",
   "execution_count": 114,
   "id": "96dbb969-c3c0-414f-bb3e-62a7ee878101",
   "metadata": {},
   "outputs": [
    {
     "name": "stderr",
     "output_type": "stream",
     "text": [
      "C:\\Users\\mitko\\AppData\\Local\\Programs\\Python\\Python310\\lib\\site-packages\\mplfinance\\_arg_validators.py:84: UserWarning: \n",
      "\n",
      " ================================================================= \n",
      "\n",
      "   WARNING: YOU ARE PLOTTING SO MUCH DATA THAT IT MAY NOT BE\n",
      "            POSSIBLE TO SEE DETAILS (Candles, Ohlc-Bars, Etc.)\n",
      "   For more information see:\n",
      "   - https://github.com/matplotlib/mplfinance/wiki/Plotting-Too-Much-Data\n",
      "   \n",
      "   TO SILENCE THIS WARNING, set `type='line'` in `mpf.plot()`\n",
      "   OR set kwarg `warn_too_much_data=N` where N is an integer \n",
      "   LARGER than the number of data points you want to plot.\n",
      "\n",
      " ================================================================ \n",
      "  warnings.warn('\\n\\n ================================================================= '+\n"
     ]
    },
    {
     "data": {
      "image/png": "[encoded data removed]",
      "text/plain": [
       "<Figure size 800x575 with 4 Axes>"
      ]
     },
     "metadata": {},
     "output_type": "display_data"
    }
   ],
   "source": [
    "\n",
    "mpf.plot(df, type='candle', volume=True, style='classic')\n",
    "\n",
    "plt.show()"
   ]
  },
  {
   "cell_type": "markdown",
   "id": "5918168f-01f1-4319-8496-640d8c7cc379",
   "metadata": {},
   "source": [
    "### Resources \n",
    "- https://medium.com/funny-ai-quant/momentum-based-strategy-optimization-with-grid-search-on-backtrader-8c0d6cd1cc36\n",
    "- https://www.a1trading.com/how-to-calculate-the-right-lot-size-for-forex-trading/#:~:text=To%20calculate%20the%20correct%20lot%20size%20for%20a,away%20is%20your%20stop%20loss%20from%20your%20entry%3F\n",
    "- https://quantstrattrader.com/2016/01/13/on-the-relationship-between-the-sma-and-momentum/"
   ]
  },
  {
   "cell_type": "code",
   "execution_count": null,
   "id": "4cedc93c-0b2a-4c34-afca-6fd2215c6dc3",
   "metadata": {},
   "outputs": [],
   "source": []
  },
  {
   "cell_type": "code",
   "execution_count": null,
   "id": "c51028a8-d05f-40d0-badd-62c6ac9deff8",
   "metadata": {},
   "outputs": [],
   "source": []
  },
  {
   "cell_type": "code",
   "execution_count": null,
   "id": "c8e1f196-b565-41d9-a7f8-cb2db9016373",
   "metadata": {},
   "outputs": [],
   "source": []
  },
  {
   "cell_type": "code",
   "execution_count": null,
   "id": "a1091095-5a97-458f-a461-9179f1090fab",
   "metadata": {},
   "outputs": [],
   "source": []
  }
 ],
 "metadata": {
  "kernelspec": {
   "display_name": "Python 3 (ipykernel)",
   "language": "python",
   "name": "python3"
  },
  "language_info": {
   "codemirror_mode": {
    "name": "ipython",
    "version": 3
   },
   "file_extension": ".py",
   "mimetype": "text/x-python",
   "name": "python",
   "nbconvert_exporter": "python",
   "pygments_lexer": "ipython3",
   "version": "3.10.0"
  }
 },
 "nbformat": 4,
 "nbformat_minor": 5
}
