{
 "cells": [
  {
   "cell_type": "code",
   "execution_count": 5,
   "id": "f8693086-9e25-4455-86f4-5e8757d5dd55",
   "metadata": {},
   "outputs": [],
   "source": [
    "import pandas as pd\n",
    "from binance.client import Client\n",
    "import backtrader as bt\n",
    "import matplotlib.pyplot as plt\n",
    "import mplfinance as mpf\n",
    "import itertools\n",
    "import numpy as np\n",
    "import seaborn as sns\n",
    "%matplotlib inline"
   ]
  },
  {
   "cell_type": "markdown",
   "id": "41a825fd-8763-4566-a586-dc96eb3c369e",
   "metadata": {},
   "source": [
    "### Premise on the workflow\n",
    "This workflow is designed to closely follow my thought process. At points where the code is modified from earlier versions, I explain the reasons behind the changes, including any mistakes identified and the rationale for improvements. This approach aims to provide transparency into the development and analysis steps, helping the reader understand why certain adjustments were made. At points it might have been better to simply rewrite the old code, but this would miss the thinking process."
   ]
  },
  {
   "cell_type": "markdown",
   "id": "0be4c6e2-9c01-4edd-9f95-79204fa8e2c9",
   "metadata": {},
   "source": [
    "# Momentum + SMA crossover strategy development plan\n",
    "\n",
    "\n",
    "## 1. Strategy Implementation  \n",
    "\n",
    "### Momentum strategy  \n",
    "- Use **momentum indicator** over a lookback window to detect trends  \n",
    "- Adjust position sizing dynamically based on volatility (ATR) and conviction (momentum strength × volume)  \n",
    "- Generate buy signals when momentum > threshold and SMA fast crosses above SMA slow  \n",
    "- Generate sell signals when momentum < -threshold and SMA fast crosses below SMA slow  \n",
    "\n",
    "### SMA Crossover strategy  \n",
    "- Define **short-term (fast) and long-term (slow) SMAs** as additional signals  \n",
    "- Generate buy signals when fast SMA crosses above slow SMA  \n",
    "- Generate sell signals when fast SMA crosses below slow SMA  \n",
    "\n",
    "\n",
    "## 2. Backtesting engine  \n",
    "- Use the **Backtrader framework** to simulate historical trades for both strategies  \n",
    "- Feed combined historical data for indicators and price  \n",
    "- Implement cross-validation using **TimeSeriesSplit** to test on multiple time periods  \n",
    "- Collect final portfolio values for performance comparison  \n",
    "\n",
    "\n",
    "## 3. Performance analysis  \n",
    "- Calculate key metrics for each strategy and their combinations:  \n",
    "  - Total return  \n",
    "  - Sharpe Ratio  \n",
    "  - Maximum Drawdown  \n",
    "  - Win Rate (percentage of profitable trades)  \n",
    "- Compare momentum-only, SMA-only, and combined strategy performance  \n",
    "\n",
    "\n",
    "## 4. Visualization  \n",
    "- Plot price charts with buy/sell markers for each strategy  \n",
    "- Overlay SMA lines and momentum indicators (e.g., momentum score or ATR)  \n",
    "- Show equity curves side-by-side to visualize strategy growth over time  \n",
    "- Highlight drawdown periods  \n",
    "\n",
    "\n",
    "\n",
    "## 5. Parameter Optimization & Cross Validation  \n",
    "- Perform grid search over key hyperparameters such as:  \n",
    "  - Momentum lookback window  \n",
    "  - Momentum threshold  \n",
    "  - SMA fast and slow periods  \n",
    "  - ATR period for volatility adjustment  \n",
    "- Use **cross-validation** with multiple time splits to avoid overfitting  \n",
    "- Evaluate average final portfolio value or Sharpe ratio as optimization target  \n",
    "\n",
    "\n",
    "\n",
    "## 6. Conclusion and Insights  \n",
    "- Summarize how momentum and SMA crossover strategies individually and jointly perform  \n",
    "- Discuss when momentum signals are more effective and when SMA crossovers help  \n",
    "- Reflect on:  \n",
    "  - Strengths and weaknesses of each approach  \n",
    "  - Impact of volatility and conviction weighting on position sizing  \n",
    "  - Future improvements: adding machine learning signals, risk management (e.g., drawdown control), or more complex indicators  \n"
   ]
  },
  {
   "cell_type": "markdown",
   "id": "6f15181b-8965-4a2d-b7d2-525a2d90b75d",
   "metadata": {},
   "source": [
    "## Initial model"
   ]
  },
  {
   "cell_type": "markdown",
   "id": "476c3761-5138-43ac-b4f7-0a0609f10fae",
   "metadata": {},
   "source": [
    "We will start small. We are going to begin by implementing a very basic momentum trading strategy and then go ahead from there.\n",
    "- If the price has gone up a lot over the last $N$ days, we buy\n",
    "- If the price has dropped over the last $N$ days, we sel\n",
    "\n",
    "For this purpose we are going to use ```backtrader```\n"
   ]
  },
  {
   "cell_type": "markdown",
   "id": "108f4dc1-c74e-40a3-a361-6880aa0be190",
   "metadata": {},
   "source": [
    "We are going to create a ```MomentumStrategy``` class where we we calculate the momentum over the last ```lookback``` days using the formula: $$\n",
    "\\text{Momentum}_t = \\frac{P_t - P_{t - L}}{P_{t - L}} = \\frac{P_t}{P_{t - L}} - 1\n",
    "$$"
   ]
  },
  {
   "cell_type": "code",
   "execution_count": 20,
   "id": "aa2237dd-bf11-44b6-b9aa-45981e3f7306",
   "metadata": {},
   "outputs": [],
   "source": [
    "class MomentumStrategy(bt.Strategy):\n",
    "    params = (\n",
    "        ('lookback', 20),       \n",
    "        ('threshold', 0.01),     \n",
    "        ('trade_size', 0.1),     \n",
    "    )\n",
    "\n",
    "    def next(self):\n",
    "        if len(self.data) < self.p.lookback:\n",
    "            return  # not enough data yet\n",
    "    \n",
    "        momentum = (self.data.close[0] / self.data.close[-self.p.lookback]) - 1\n",
    "        size = (self.broker.getvalue() * self.p.trade_size) / self.data.close[0] #I converted this to int but it was not appropriate for bitcoin since the value is always lower than 1 when buying\n",
    "       \n",
    "        # SELL condition\n",
    "        if momentum < -self.p.threshold and self.position.size > 0:\n",
    "            \n",
    "            self.close()\n",
    "\n",
    "        # BUY condition\n",
    "        elif momentum > self.p.threshold and not self.position:\n",
    "            if size > 0:\n",
    "               \n",
    "                self.buy(size=size)\n",
    "            else:\n",
    "                print(\"Calculated size too small to buy\")\n",
    "\n"
   ]
  },
  {
   "cell_type": "markdown",
   "id": "4cacf88c-728f-4cee-a5c7-02118ab68bf4",
   "metadata": {},
   "source": [
    "We start by defining key parameters such as lookback, threshold, and trade_size. The momentum is calculated using these parameters based on historical price data.\n",
    "\n",
    "- In the ```next``` method, we first check if we have enough data to calculate momentum. Once we have enough information, we compute the momentum value.\n",
    "\n",
    "- If the momentum falls below the negative threshold and we currently hold a position, we sell to exit the trade.\n",
    "\n",
    "Conversely, if the momentum rises above the positive threshold and we do not hold any position, we buy a calculated amount of shares based on our portfolio size and the **trade_size** parameter."
   ]
  },
  {
   "cell_type": "markdown",
   "id": "ad67c876-240f-4441-99ed-c87c427f3fe2",
   "metadata": {},
   "source": [
    "### Doing backtesting on the small engine\n",
    "\n",
    "For the purpose of backtesting I am going to use \"Cerebro engine\". Before doing that I will run ```pip install python-binance``` to get access to information about the market."
   ]
  },
  {
   "cell_type": "code",
   "execution_count": 21,
   "id": "eea17fa0-a085-4451-a50b-ed884411e7eb",
   "metadata": {},
   "outputs": [
    {
     "name": "stdout",
     "output_type": "stream",
     "text": [
      "                          Open       High        Low      Close     Volume\n",
      "Open time                                                                 \n",
      "2025-05-31 21:00:00  104781.84  104884.16  104645.73  104863.16  317.26216\n",
      "2025-05-31 22:00:00  104863.16  104900.00  104603.08  104625.80  228.10691\n",
      "2025-05-31 23:00:00  104625.79  104840.00  104473.20  104591.88  360.75652\n",
      "2025-06-01 00:00:00  104591.88  104647.11  104320.02  104446.49  293.78295\n",
      "2025-06-01 01:00:00  104446.49  104505.58  103991.37  104126.07  466.13267\n"
     ]
    }
   ],
   "source": [
    "from binance.client import Client\n",
    "import pandas as pd\n",
    "\n",
    "# We will need no API key since the data is public\n",
    "client = Client()\n",
    "\n",
    "# Fetch historical klines (candles) for BTCUSDT, 1h interval, last 1000 candles\n",
    "klines = client.get_historical_klines(\"BTCUSDT\", Client.KLINE_INTERVAL_1HOUR, \"1000 hours ago UTC\")\n",
    "\n",
    "# Convert to DataFrame and select columns\n",
    "df = pd.DataFrame(klines, columns=[\n",
    "    'Open time', 'Open', 'High', 'Low', 'Close', 'Volume',\n",
    "    'Close time', 'Quote asset volume', 'Number of trades',\n",
    "    'Taker buy base asset volume', 'Taker buy quote asset volume', 'Ignore'])\n",
    "\n",
    "# Convert timestamps to datetime\n",
    "df['Open time'] = pd.to_datetime(df['Open time'], unit='ms')\n",
    "df['Close time'] = pd.to_datetime(df['Close time'], unit='ms')\n",
    "\n",
    "# Keep only useful columns for backtesting\n",
    "df = df[['Open time', 'Open', 'High', 'Low', 'Close', 'Volume']]\n",
    "\n",
    "# Convert columns to float\n",
    "df[['Open', 'High', 'Low', 'Close', 'Volume']] = df[['Open', 'High', 'Low', 'Close', 'Volume']].astype(float)\n",
    "\n",
    "# Set 'Open time' as the datetime index for mplfinance compatibility\n",
    "df.set_index('Open time', inplace=True)\n",
    "\n",
    "print(df.head())\n"
   ]
  },
  {
   "cell_type": "code",
   "execution_count": 22,
   "id": "55f2740a-01d8-43d6-89f0-d38871254729",
   "metadata": {},
   "outputs": [
    {
     "data": {
      "text/plain": [
       "pandas.core.indexes.datetimes.DatetimeIndex"
      ]
     },
     "execution_count": 22,
     "metadata": {},
     "output_type": "execute_result"
    }
   ],
   "source": [
    "type(df.index)"
   ]
  },
  {
   "cell_type": "markdown",
   "id": "62732103-f6aa-4b29-a6f9-8c15c1cceda8",
   "metadata": {},
   "source": [
    "Now that we have our data that we are going to work with we can plot it to see how it looks like."
   ]
  },
  {
   "cell_type": "code",
   "execution_count": 23,
   "id": "ccb19022-0641-4bc8-bb9b-91a29426604f",
   "metadata": {},
   "outputs": [
    {
     "name": "stderr",
     "output_type": "stream",
     "text": [
      "C:\\Users\\mitko\\AppData\\Local\\Programs\\Python\\Python310\\lib\\site-packages\\mplfinance\\_arg_validators.py:84: UserWarning: \n",
      "\n",
      " ================================================================= \n",
      "\n",
      "   WARNING: YOU ARE PLOTTING SO MUCH DATA THAT IT MAY NOT BE\n",
      "            POSSIBLE TO SEE DETAILS (Candles, Ohlc-Bars, Etc.)\n",
      "   For more information see:\n",
      "   - https://github.com/matplotlib/mplfinance/wiki/Plotting-Too-Much-Data\n",
      "   \n",
      "   TO SILENCE THIS WARNING, set `type='line'` in `mpf.plot()`\n",
      "   OR set kwarg `warn_too_much_data=N` where N is an integer \n",
      "   LARGER than the number of data points you want to plot.\n",
      "\n",
      " ================================================================ \n",
      "  warnings.warn('\\n\\n ================================================================= '+\n"
     ]
    },
    {
     "data": {
      "image/png": "[encoded data removed]",
      "text/plain": [
       "<Figure size 800x575 with 4 Axes>"
      ]
     },
     "metadata": {},
     "output_type": "display_data"
    }
   ],
   "source": [
    "\n",
    "mpf.plot(df, type='candle', volume=True, style='classic')\n",
    "\n",
    "plt.show()"
   ]
  },
  {
   "cell_type": "markdown",
   "id": "0d65d780-f2dc-439e-a9c3-7b673056f7ad",
   "metadata": {},
   "source": [
    "Now that we can visually see we can go forward and try to do simple backtesting. Before that I will rename the columns for conviniency."
   ]
  },
  {
   "cell_type": "code",
   "execution_count": 24,
   "id": "a738d1b6-2e91-4ec8-a483-283a7e8ef633",
   "metadata": {},
   "outputs": [],
   "source": [
    "df.rename(columns={\n",
    "    'Open': 'open',\n",
    "    'High': 'high',\n",
    "    'Low': 'low',\n",
    "    'Close': 'close',\n",
    "    'Volume': 'volume'\n",
    "}, inplace=True)"
   ]
  },
  {
   "cell_type": "markdown",
   "id": "1d8772da-24ef-4d31-97af-8e50c9b56365",
   "metadata": {},
   "source": [
    "Let us create a datafeed."
   ]
  },
  {
   "cell_type": "code",
   "execution_count": 25,
   "id": "9ce11f62-ea0e-424f-b891-e27107c1fa83",
   "metadata": {},
   "outputs": [],
   "source": [
    "datafeed = bt.feeds.PandasData(dataname=df)"
   ]
  },
  {
   "cell_type": "code",
   "execution_count": 26,
   "id": "0db65a72-88ad-46db-b4d9-71590947c087",
   "metadata": {},
   "outputs": [],
   "source": [
    "INITIAL_CASH = 10000\n",
    "cerebro = bt.Cerebro()\n",
    "\n",
    "cerebro.addstrategy(MomentumStrategy, lookback=20, threshold=0.02, trade_size=0.1) # We also can adjust the params here.\n",
    "\n",
    "cerebro.adddata(datafeed)\n",
    "\n",
    "cerebro.broker.setcash(INITIAL_CASH)\n",
    "\n",
    "# I am not going to set commission since we assume that we are trading in a firm and have no commissions.\n",
    "# cerebro.broker.set_fundmode(True)\n",
    "results = cerebro.run()"
   ]
  },
  {
   "cell_type": "code",
   "execution_count": 27,
   "id": "d2c4fbdc-cc19-4ce7-b7b4-4e15535d5aff",
   "metadata": {},
   "outputs": [
    {
     "name": "stdout",
     "output_type": "stream",
     "text": [
      "Final Portfolio Value: 10088.59\n"
     ]
    }
   ],
   "source": [
    "print(f\"Final Portfolio Value: {cerebro.broker.getvalue():.2f}\")"
   ]
  },
  {
   "cell_type": "markdown",
   "id": "88389d26-1772-4077-b092-1796c9a37918",
   "metadata": {},
   "source": [
    "I want to notice that I used to get a value 10000 for the portfolio. Therefore no trades were made. We have not bought, our position stays at zero, we can not sell. Where is this problem coming from? After some observation we can notice that we are using ```size = int((self.broker.getvalue() * self.p.trade_size) / close_price)``` which returns 0 if the value is less than 0. Since we are buyin Bitcoins, we are never buying more than 1 bitcoin at a time. After removing the parsing to int the problem is no longer there.\n",
    "\n",
    "Okey, we got a result and we see that we have increased our portfolio with 37 dollars, which is about 0.37%. It is a possitive increase but not hing impresive. Let us analyze some more this result before moving to improvements."
   ]
  },
  {
   "cell_type": "code",
   "execution_count": 28,
   "id": "b5aadb61-9c2b-4dad-a042-9fe01efffc05",
   "metadata": {},
   "outputs": [],
   "source": [
    "cerebro.addanalyzer(bt.analyzers.TradeAnalyzer, _name='trades')\n",
    "cerebro.addanalyzer(bt.analyzers.SharpeRatio_A, _name='sharpe', timeframe=bt.TimeFrame.Days)\n",
    "cerebro.addanalyzer(bt.analyzers.DrawDown, _name='drawdown')"
   ]
  },
  {
   "cell_type": "code",
   "execution_count": 29,
   "id": "ca1406df-caf2-484f-b456-0e4404d658c5",
   "metadata": {},
   "outputs": [],
   "source": [
    "results = cerebro.run()\n",
    "strat = results[0]\n"
   ]
  },
  {
   "cell_type": "code",
   "execution_count": 30,
   "id": "023c5f39-3189-478e-9d6b-c60b6606ea9e",
   "metadata": {},
   "outputs": [
    {
     "name": "stdout",
     "output_type": "stream",
     "text": [
      "Total trades: 5\n",
      "Open trades: 1\n",
      "Closed trades: 4\n",
      "Winning trades: 2\n",
      "Losing trades: 2\n",
      "Total Net PnL: 37.22\n",
      "Average Net PnL: 9.30\n"
     ]
    }
   ],
   "source": [
    "\n",
    "trade_stats = strat.analyzers.trades.get_analysis()\n",
    "\n",
    "# Total trades\n",
    "total_trades = trade_stats.total.total\n",
    "open_trades = trade_stats.total.open\n",
    "closed_trades = trade_stats.total.closed\n",
    "\n",
    "# Wins and losses\n",
    "won = trade_stats.won.total\n",
    "lost = trade_stats.lost.total\n",
    "\n",
    "# PnL\n",
    "total_net_pnl = trade_stats.pnl.net.total\n",
    "average_net_pnl = trade_stats.pnl.net.average\n",
    "\n",
    "print(f\"Total trades: {total_trades}\")\n",
    "print(f\"Open trades: {open_trades}\")\n",
    "print(f\"Closed trades: {closed_trades}\")\n",
    "print(f\"Winning trades: {won}\")\n",
    "print(f\"Losing trades: {lost}\")\n",
    "print(f\"Total Net PnL: {total_net_pnl:.2f}\")\n",
    "print(f\"Average Net PnL: {average_net_pnl:.2f}\")"
   ]
  },
  {
   "cell_type": "code",
   "execution_count": 31,
   "id": "05590733-7993-40ee-a282-8f0a010bef0d",
   "metadata": {},
   "outputs": [
    {
     "name": "stdout",
     "output_type": "stream",
     "text": [
      "Sharpe Ratio: 1.8122841802201441\n",
      "Max Drawdown: 0.09%\n",
      "Drawdown Duration: 27 bars\n"
     ]
    }
   ],
   "source": [
    "sharpe = strat.analyzers.sharpe.get_analysis()\n",
    "drawdown = strat.analyzers.drawdown.get_analysis()\n",
    "\n",
    "print(\"Sharpe Ratio:\", sharpe.get('sharperatio', 'N/A'))\n",
    "print(f\"Max Drawdown: {drawdown.drawdown:.2f}%\")\n",
    "print(f\"Drawdown Duration: {drawdown.len} bars\")"
   ]
  },
  {
   "cell_type": "markdown",
   "id": "6f1c2af2-0b6f-4532-ac2f-e10df64baaeb",
   "metadata": {},
   "source": [
    "### Improving the simple model\n",
    "Based on the information above, we can conclude that our model functions but is far from optimal. Next, we will work on making it more complex and improving its performance. The first thing that might come to mind is how we actually decide on the hyperparameters we are using such as the threshhold and the trade size. There are a couple approaches when it comes to choosing those:\n",
    "\n",
    "\n",
    "- **Grid Search**  \n",
    "  Try all combinations of discrete values\n",
    "\n",
    "- **Random Search**  \n",
    "  Randomly sample combinations from the hyperparameter space\n",
    "\n",
    "- **Bayesian Optimization**  \n",
    "  Use prior evaluations to guide the search (e.g., maximize Sharpe ratio)\n",
    "\n",
    "- **Walk-Forward Optimization**  \n",
    "  1. Train on time window $$[t, t+k]$$  \n",
    "  2. Test on $$[t+k+1, t+2k]$$  \n",
    "  3. Slide the window forward\n"
   ]
  },
  {
   "cell_type": "markdown",
   "id": "c7283851-c909-453f-9d2f-60e82b33e84b",
   "metadata": {},
   "source": [
    "Before implementing GridSearch, we should ensure that the parameter values are not chosen arbitrarily, but are instead grounded in reasonable assumptions and sound trading principles. For instance, a trade size of 0.3 or 0.4 is clearly unreasonable, as it allocates a disproportionately large portion of the capital to a single trade, which significantly increases risk."
   ]
  },
  {
   "cell_type": "code",
   "execution_count": 16,
   "id": "be693e34-ea8a-41b3-a92f-2a355610cc48",
   "metadata": {},
   "outputs": [
    {
     "name": "stdout",
     "output_type": "stream",
     "text": [
      " Top Results:\n",
      "    lookback  threshold  trade_size   final_value\n",
      "17        10      0.010        0.09  10122.934350\n",
      "16        10      0.010        0.08  10109.244852\n",
      "26        10      0.020        0.09  10097.964981\n",
      "15        10      0.010        0.07  10095.562870\n",
      "35        20      0.005        0.09  10093.587527\n"
     ]
    }
   ],
   "source": [
    "class BinanceData(bt.feeds.PandasData):\n",
    "    params = (\n",
    "        ('datetime', None),\n",
    "        ('open', 'Open'),\n",
    "        ('high', 'High'),\n",
    "        ('low', 'Low'),\n",
    "        ('close', 'Close'),\n",
    "        ('volume', 'Volume'),\n",
    "        ('openinterest', -1),\n",
    "    )\n",
    "lookbacks = [10, 20, 50]\n",
    "thresholds = [0.005, 0.01, 0.02]\n",
    "trade_sizes = np.arange(0.01,0.1,0.01)\n",
    "\n",
    "results = []\n",
    "\n",
    "for lookback, threshold, trade_size in itertools.product(lookbacks, thresholds, trade_sizes):\n",
    "    cerebro = bt.Cerebro()\n",
    "    cerebro.addstrategy(MomentumStrategy,\n",
    "                        lookback=lookback,\n",
    "                        threshold=threshold,\n",
    "                        trade_size=trade_size)\n",
    "    \n",
    "    data = BinanceData(dataname=df)\n",
    "    cerebro.adddata(data)\n",
    "\n",
    "    cerebro.broker.setcash(10000)\n",
    "    cerebro.broker.setcommission(commission=0)\n",
    "    cerebro.run()\n",
    "\n",
    "    final_value = cerebro.broker.getvalue()\n",
    "    results.append({\n",
    "        'lookback': lookback,\n",
    "        'threshold': threshold,\n",
    "        'trade_size': trade_size,\n",
    "        'final_value': final_value\n",
    "    })\n",
    "results_df = pd.DataFrame(results)\n",
    "results_df = results_df.sort_values(by='final_value', ascending=False)\n",
    "\n",
    "print(\" Top Results:\")\n",
    "print(results_df.head())"
   ]
  },
  {
   "cell_type": "markdown",
   "id": "633c9e48-3023-4ac4-b0f3-07a1a8e63157",
   "metadata": {},
   "source": [
    "## Momentum with SMA"
   ]
  },
  {
   "cell_type": "markdown",
   "id": "a53e0ed2-c5c0-4213-8e78-b734a3eacb1b",
   "metadata": {},
   "source": [
    "If we make the trade size bigger we will notice that we can increase the final value, however this comes with a lot of risk. For now we will leave that and do something else. **Our model is still extremely simply and we are going to make it a bit more complex.** I am going to try and implement a **SMA crossover.** For this purpose I will\n",
    "- Define short-term and long-term SMAs  \n",
    "- Generate **buy signals** when the short SMA crosses above the long SMA  \n",
    "- Generate **sell signals** when the short SMA crosses below the long SMA\n",
    "\n",
    "Let's add this to our model."
   ]
  },
  {
   "cell_type": "code",
   "execution_count": 17,
   "id": "5a50defd-a4c9-4eba-8c9d-9b2fd888522b",
   "metadata": {},
   "outputs": [],
   "source": [
    "import backtrader as bt\n",
    "\n",
    "class MomentumStrategyWithSMA(bt.Strategy):\n",
    "    params = (\n",
    "        ('lookback', 20),\n",
    "        ('threshold', 0.01),\n",
    "        ('trade_size', 0.1),\n",
    "        ('sma_fast_period', 10),  # short-term SMA\n",
    "        ('sma_slow_period', 30),  # long-term SMA\n",
    "    )\n",
    "    \n",
    "    def __init__(self):\n",
    "        self.sma_fast = bt.indicators.SimpleMovingAverage(self.data.close, period=self.p.sma_fast_period)\n",
    "        self.sma_slow = bt.indicators.SimpleMovingAverage(self.data.close, period=self.p.sma_slow_period)\n",
    "        self.crossover = bt.indicators.CrossOver(self.sma_fast, self.sma_slow)  # +1 when fast crosses above slow, -1 when below\n",
    "    \n",
    "    def next(self):\n",
    "        if len(self.data) < max(self.p.lookback, self.p.sma_slow_period):\n",
    "            return  # wait until enough data\n",
    "\n",
    "        momentum = (self.data.close[0] / self.data.close[-self.p.lookback]) - 1\n",
    "        size = (self.broker.getvalue() * self.p.trade_size) / self.data.close[0]\n",
    "\n",
    "        # SELL condition: momentum < -threshold AND fast SMA crosses below slow SMA\n",
    "        if momentum < -self.p.threshold and self.position.size > 0 and self.crossover < 0:\n",
    "            self.close()\n",
    "\n",
    "        # BUY condition: momentum > threshold AND fast SMA crosses above slow SMA\n",
    "        elif momentum > self.p.threshold and not self.position and self.crossover > 0:\n",
    "            if size > 0:\n",
    "                self.buy(size=size)\n",
    "            else:\n",
    "                print(\"Calculated size too small to buy\")\n"
   ]
  },
  {
   "cell_type": "code",
   "execution_count": 15,
   "id": "9d99b268-729c-449b-ba4d-5a8fa22aafc3",
   "metadata": {},
   "outputs": [],
   "source": [
    "def run_backtest(strategy_class,data, **strategy_params):\n",
    "    cerebro = bt.Cerebro()\n",
    "    cerebro.addstrategy(strategy_class, **strategy_params)\n",
    "    cerebro.adddata(data)\n",
    "    cerebro.broker.setcash(INITIAL_CASH)\n",
    "    # Add analyzers\n",
    "    cerebro.addanalyzer(bt.analyzers.TradeAnalyzer, _name='trades')\n",
    "    cerebro.addanalyzer(bt.analyzers.SharpeRatio_A, _name='sharpe', timeframe=bt.TimeFrame.Days)\n",
    "    cerebro.addanalyzer(bt.analyzers.DrawDown, _name='drawdown')\n",
    "\n",
    "    results = cerebro.run()\n",
    "    strat = results[0]\n",
    "\n",
    "    trade_stats = strat.analyzers.trades.get_analysis()\n",
    "    sharpe = strat.analyzers.sharpe.get_analysis()\n",
    "    drawdown = strat.analyzers.drawdown.get_analysis()\n",
    "\n",
    "    total_trades = trade_stats.get('total', {}).get('total', 0)\n",
    "    won = trade_stats.get('won', {}).get('total', 0)\n",
    "    lost = trade_stats.get('lost', {}).get('total', 0)\n",
    "    pnl_total = trade_stats.get('pnl', {}).get('net', {}).get('total', 0)\n",
    "    pnl_avg = trade_stats.get('pnl', {}).get('net', {}).get('average', 0)\n",
    "    \n",
    "    print(f\"Strategy: {strategy_class.__name__}\")\n",
    "    print(f\"Total trades: {total_trades}\")\n",
    "    print(f\"Winning trades: {won}\")\n",
    "    print(f\"Losing trades: {lost}\")\n",
    "    print(f\"Total Net PnL: {pnl_total:.2f}\")\n",
    "    print(f\"Average Net PnL: {pnl_avg:.2f}\")\n",
    "    print(\"Sharpe Ratio:\", sharpe.get('sharperatio', 'N/A'))\n",
    "    print(f\"Max Drawdown: {drawdown.drawdown:.2f}%\")\n",
    "    print(f\"Drawdown Duration: {drawdown.len} bars\")\n",
    "    print(\"===================================\")\n"
   ]
  },
  {
   "cell_type": "code",
   "execution_count": 19,
   "id": "81688fa3-16eb-4f25-99e6-488bed993d34",
   "metadata": {},
   "outputs": [
    {
     "name": "stdout",
     "output_type": "stream",
     "text": [
      "Strategy: MomentumStrategy\n",
      "Total trades: 11\n",
      "Winning trades: 3\n",
      "Losing trades: 7\n",
      "Total Net PnL: 22.99\n",
      "Average Net PnL: 2.30\n",
      "Sharpe Ratio: 2.2571171199173774\n",
      "Max Drawdown: 0.10%\n",
      "Drawdown Duration: 9 bars\n",
      "===================================\n",
      "Strategy: MomentumStrategyWithSMA\n",
      "Total trades: 2\n",
      "Winning trades: 2\n",
      "Losing trades: 0\n",
      "Total Net PnL: 78.24\n",
      "Average Net PnL: 39.12\n",
      "Sharpe Ratio: 1.8933456333010261\n",
      "Max Drawdown: 0.12%\n",
      "Drawdown Duration: 197 bars\n",
      "===================================\n"
     ]
    }
   ],
   "source": [
    "run_backtest(MomentumStrategy,datafeed, lookback=20, threshold=0.01, trade_size=0.1)\n",
    "run_backtest(MomentumStrategyWithSMA,datafeed, lookback=20, threshold=0.01, trade_size=0.1, sma_fast_period=10, sma_slow_period=50)\n",
    "\n"
   ]
  },
  {
   "cell_type": "code",
   "execution_count": 20,
   "id": "6b98e3f2-2798-424d-8813-248a575cc036",
   "metadata": {},
   "outputs": [],
   "source": [
    "import itertools\n",
    "import pandas as pd\n",
    "import backtrader as bt\n",
    "\n",
    "def grid_search_strategy(strategy_class, param_grid, data_df, initial_cash=10000, commission=0):\n",
    "    \"\"\"\n",
    "    Perform grid search over strategy hyperparameters.\n",
    "\n",
    "    Parameters:\n",
    "        strategy_class: The Backtrader strategy class to test.\n",
    "        param_grid: dict of parameter name -> list of values.\n",
    "        data_df: pandas DataFrame with OHLCV data.\n",
    "        initial_cash: starting capital for each backtest.\n",
    "        commission: broker commission.\n",
    "\n",
    "    Returns:\n",
    "        pandas DataFrame with each parameter combination and final portfolio value.\n",
    "    \"\"\"\n",
    "\n",
    "    # Build all parameter combinations\n",
    "    keys, values = zip(*param_grid.items())\n",
    "    param_combinations = [dict(zip(keys, v)) for v in itertools.product(*values)]\n",
    "\n",
    "    results = []\n",
    "    total_runs = len(param_combinations)\n",
    "    print(f\"Total backtests to run: {total_runs}\")\n",
    "\n",
    "    for i, params in enumerate(param_combinations):\n",
    "        # Skip invalid combos, e.g. fast SMA >= slow SMA\n",
    "        if 'sma_fast_period' in params and 'sma_slow_period' in params:\n",
    "            if params['sma_fast_period'] >= params['sma_slow_period']:\n",
    "                continue\n",
    "\n",
    "        # if i % 10 == 0:\n",
    "            print(f\"Running backtest {i + 1}/{total_runs} with params: {params}\")\n",
    "\n",
    "        cerebro = bt.Cerebro()\n",
    "        cerebro.addstrategy(strategy_class, **params)\n",
    "\n",
    "        data = bt.feeds.PandasData(dataname=data_df)\n",
    "        cerebro.adddata(data)\n",
    "\n",
    "        cerebro.broker.setcash(initial_cash)\n",
    "        cerebro.broker.setcommission(commission=commission)\n",
    "\n",
    "        cerebro.run()\n",
    "        final_value = cerebro.broker.getvalue()\n",
    "\n",
    "        results.append({**params, 'final_value': final_value})\n",
    "\n",
    "    results_df = pd.DataFrame(results).sort_values(by='final_value', ascending=False).reset_index(drop=True)\n",
    "    return results_df\n"
   ]
  },
  {
   "cell_type": "code",
   "execution_count": 21,
   "id": "1980aaf0-a86a-48be-b671-885e6c2908ed",
   "metadata": {},
   "outputs": [
    {
     "name": "stdout",
     "output_type": "stream",
     "text": [
      "Total backtests to run: 162\n",
      "Running backtest 1/162 with params: {'lookback': 20, 'threshold': 0.01, 'trade_size': 0.01, 'sma_fast_period': 30, 'sma_slow_period': 50}\n",
      "Running backtest 2/162 with params: {'lookback': 20, 'threshold': 0.01, 'trade_size': 0.01, 'sma_fast_period': 30, 'sma_slow_period': 100}\n",
      "Running backtest 3/162 with params: {'lookback': 20, 'threshold': 0.01, 'trade_size': 0.01, 'sma_fast_period': 30, 'sma_slow_period': 200}\n",
      "Running backtest 4/162 with params: {'lookback': 20, 'threshold': 0.01, 'trade_size': 0.01, 'sma_fast_period': 20, 'sma_slow_period': 50}\n",
      "Running backtest 5/162 with params: {'lookback': 20, 'threshold': 0.01, 'trade_size': 0.01, 'sma_fast_period': 20, 'sma_slow_period': 100}\n",
      "Running backtest 6/162 with params: {'lookback': 20, 'threshold': 0.01, 'trade_size': 0.01, 'sma_fast_period': 20, 'sma_slow_period': 200}\n",
      "Running backtest 7/162 with params: {'lookback': 20, 'threshold': 0.01, 'trade_size': 0.05, 'sma_fast_period': 30, 'sma_slow_period': 50}\n",
      "Running backtest 8/162 with params: {'lookback': 20, 'threshold': 0.01, 'trade_size': 0.05, 'sma_fast_period': 30, 'sma_slow_period': 100}\n",
      "Running backtest 9/162 with params: {'lookback': 20, 'threshold': 0.01, 'trade_size': 0.05, 'sma_fast_period': 30, 'sma_slow_period': 200}\n",
      "Running backtest 10/162 with params: {'lookback': 20, 'threshold': 0.01, 'trade_size': 0.05, 'sma_fast_period': 20, 'sma_slow_period': 50}\n",
      "Running backtest 11/162 with params: {'lookback': 20, 'threshold': 0.01, 'trade_size': 0.05, 'sma_fast_period': 20, 'sma_slow_period': 100}\n",
      "Running backtest 12/162 with params: {'lookback': 20, 'threshold': 0.01, 'trade_size': 0.05, 'sma_fast_period': 20, 'sma_slow_period': 200}\n",
      "Running backtest 13/162 with params: {'lookback': 20, 'threshold': 0.01, 'trade_size': 0.1, 'sma_fast_period': 30, 'sma_slow_period': 50}\n",
      "Running backtest 14/162 with params: {'lookback': 20, 'threshold': 0.01, 'trade_size': 0.1, 'sma_fast_period': 30, 'sma_slow_period': 100}\n",
      "Running backtest 15/162 with params: {'lookback': 20, 'threshold': 0.01, 'trade_size': 0.1, 'sma_fast_period': 30, 'sma_slow_period': 200}\n",
      "Running backtest 16/162 with params: {'lookback': 20, 'threshold': 0.01, 'trade_size': 0.1, 'sma_fast_period': 20, 'sma_slow_period': 50}\n",
      "Running backtest 17/162 with params: {'lookback': 20, 'threshold': 0.01, 'trade_size': 0.1, 'sma_fast_period': 20, 'sma_slow_period': 100}\n",
      "Running backtest 18/162 with params: {'lookback': 20, 'threshold': 0.01, 'trade_size': 0.1, 'sma_fast_period': 20, 'sma_slow_period': 200}\n",
      "Running backtest 19/162 with params: {'lookback': 20, 'threshold': 0.02, 'trade_size': 0.01, 'sma_fast_period': 30, 'sma_slow_period': 50}\n",
      "Running backtest 20/162 with params: {'lookback': 20, 'threshold': 0.02, 'trade_size': 0.01, 'sma_fast_period': 30, 'sma_slow_period': 100}\n",
      "Running backtest 21/162 with params: {'lookback': 20, 'threshold': 0.02, 'trade_size': 0.01, 'sma_fast_period': 30, 'sma_slow_period': 200}\n",
      "Running backtest 22/162 with params: {'lookback': 20, 'threshold': 0.02, 'trade_size': 0.01, 'sma_fast_period': 20, 'sma_slow_period': 50}\n",
      "Running backtest 23/162 with params: {'lookback': 20, 'threshold': 0.02, 'trade_size': 0.01, 'sma_fast_period': 20, 'sma_slow_period': 100}\n",
      "Running backtest 24/162 with params: {'lookback': 20, 'threshold': 0.02, 'trade_size': 0.01, 'sma_fast_period': 20, 'sma_slow_period': 200}\n",
      "Running backtest 25/162 with params: {'lookback': 20, 'threshold': 0.02, 'trade_size': 0.05, 'sma_fast_period': 30, 'sma_slow_period': 50}\n",
      "Running backtest 26/162 with params: {'lookback': 20, 'threshold': 0.02, 'trade_size': 0.05, 'sma_fast_period': 30, 'sma_slow_period': 100}\n",
      "Running backtest 27/162 with params: {'lookback': 20, 'threshold': 0.02, 'trade_size': 0.05, 'sma_fast_period': 30, 'sma_slow_period': 200}\n",
      "Running backtest 28/162 with params: {'lookback': 20, 'threshold': 0.02, 'trade_size': 0.05, 'sma_fast_period': 20, 'sma_slow_period': 50}\n",
      "Running backtest 29/162 with params: {'lookback': 20, 'threshold': 0.02, 'trade_size': 0.05, 'sma_fast_period': 20, 'sma_slow_period': 100}\n",
      "Running backtest 30/162 with params: {'lookback': 20, 'threshold': 0.02, 'trade_size': 0.05, 'sma_fast_period': 20, 'sma_slow_period': 200}\n",
      "Running backtest 31/162 with params: {'lookback': 20, 'threshold': 0.02, 'trade_size': 0.1, 'sma_fast_period': 30, 'sma_slow_period': 50}\n",
      "Running backtest 32/162 with params: {'lookback': 20, 'threshold': 0.02, 'trade_size': 0.1, 'sma_fast_period': 30, 'sma_slow_period': 100}\n",
      "Running backtest 33/162 with params: {'lookback': 20, 'threshold': 0.02, 'trade_size': 0.1, 'sma_fast_period': 30, 'sma_slow_period': 200}\n",
      "Running backtest 34/162 with params: {'lookback': 20, 'threshold': 0.02, 'trade_size': 0.1, 'sma_fast_period': 20, 'sma_slow_period': 50}\n",
      "Running backtest 35/162 with params: {'lookback': 20, 'threshold': 0.02, 'trade_size': 0.1, 'sma_fast_period': 20, 'sma_slow_period': 100}\n",
      "Running backtest 36/162 with params: {'lookback': 20, 'threshold': 0.02, 'trade_size': 0.1, 'sma_fast_period': 20, 'sma_slow_period': 200}\n",
      "Running backtest 37/162 with params: {'lookback': 20, 'threshold': 0.03, 'trade_size': 0.01, 'sma_fast_period': 30, 'sma_slow_period': 50}\n",
      "Running backtest 38/162 with params: {'lookback': 20, 'threshold': 0.03, 'trade_size': 0.01, 'sma_fast_period': 30, 'sma_slow_period': 100}\n",
      "Running backtest 39/162 with params: {'lookback': 20, 'threshold': 0.03, 'trade_size': 0.01, 'sma_fast_period': 30, 'sma_slow_period': 200}\n",
      "Running backtest 40/162 with params: {'lookback': 20, 'threshold': 0.03, 'trade_size': 0.01, 'sma_fast_period': 20, 'sma_slow_period': 50}\n",
      "Running backtest 41/162 with params: {'lookback': 20, 'threshold': 0.03, 'trade_size': 0.01, 'sma_fast_period': 20, 'sma_slow_period': 100}\n",
      "Running backtest 42/162 with params: {'lookback': 20, 'threshold': 0.03, 'trade_size': 0.01, 'sma_fast_period': 20, 'sma_slow_period': 200}\n",
      "Running backtest 43/162 with params: {'lookback': 20, 'threshold': 0.03, 'trade_size': 0.05, 'sma_fast_period': 30, 'sma_slow_period': 50}\n",
      "Running backtest 44/162 with params: {'lookback': 20, 'threshold': 0.03, 'trade_size': 0.05, 'sma_fast_period': 30, 'sma_slow_period': 100}\n",
      "Running backtest 45/162 with params: {'lookback': 20, 'threshold': 0.03, 'trade_size': 0.05, 'sma_fast_period': 30, 'sma_slow_period': 200}\n",
      "Running backtest 46/162 with params: {'lookback': 20, 'threshold': 0.03, 'trade_size': 0.05, 'sma_fast_period': 20, 'sma_slow_period': 50}\n",
      "Running backtest 47/162 with params: {'lookback': 20, 'threshold': 0.03, 'trade_size': 0.05, 'sma_fast_period': 20, 'sma_slow_period': 100}\n",
      "Running backtest 48/162 with params: {'lookback': 20, 'threshold': 0.03, 'trade_size': 0.05, 'sma_fast_period': 20, 'sma_slow_period': 200}\n",
      "Running backtest 49/162 with params: {'lookback': 20, 'threshold': 0.03, 'trade_size': 0.1, 'sma_fast_period': 30, 'sma_slow_period': 50}\n",
      "Running backtest 50/162 with params: {'lookback': 20, 'threshold': 0.03, 'trade_size': 0.1, 'sma_fast_period': 30, 'sma_slow_period': 100}\n",
      "Running backtest 51/162 with params: {'lookback': 20, 'threshold': 0.03, 'trade_size': 0.1, 'sma_fast_period': 30, 'sma_slow_period': 200}\n",
      "Running backtest 52/162 with params: {'lookback': 20, 'threshold': 0.03, 'trade_size': 0.1, 'sma_fast_period': 20, 'sma_slow_period': 50}\n",
      "Running backtest 53/162 with params: {'lookback': 20, 'threshold': 0.03, 'trade_size': 0.1, 'sma_fast_period': 20, 'sma_slow_period': 100}\n",
      "Running backtest 54/162 with params: {'lookback': 20, 'threshold': 0.03, 'trade_size': 0.1, 'sma_fast_period': 20, 'sma_slow_period': 200}\n",
      "Running backtest 55/162 with params: {'lookback': 50, 'threshold': 0.01, 'trade_size': 0.01, 'sma_fast_period': 30, 'sma_slow_period': 50}\n",
      "Running backtest 56/162 with params: {'lookback': 50, 'threshold': 0.01, 'trade_size': 0.01, 'sma_fast_period': 30, 'sma_slow_period': 100}\n",
      "Running backtest 57/162 with params: {'lookback': 50, 'threshold': 0.01, 'trade_size': 0.01, 'sma_fast_period': 30, 'sma_slow_period': 200}\n",
      "Running backtest 58/162 with params: {'lookback': 50, 'threshold': 0.01, 'trade_size': 0.01, 'sma_fast_period': 20, 'sma_slow_period': 50}\n",
      "Running backtest 59/162 with params: {'lookback': 50, 'threshold': 0.01, 'trade_size': 0.01, 'sma_fast_period': 20, 'sma_slow_period': 100}\n",
      "Running backtest 60/162 with params: {'lookback': 50, 'threshold': 0.01, 'trade_size': 0.01, 'sma_fast_period': 20, 'sma_slow_period': 200}\n",
      "Running backtest 61/162 with params: {'lookback': 50, 'threshold': 0.01, 'trade_size': 0.05, 'sma_fast_period': 30, 'sma_slow_period': 50}\n",
      "Running backtest 62/162 with params: {'lookback': 50, 'threshold': 0.01, 'trade_size': 0.05, 'sma_fast_period': 30, 'sma_slow_period': 100}\n",
      "Running backtest 63/162 with params: {'lookback': 50, 'threshold': 0.01, 'trade_size': 0.05, 'sma_fast_period': 30, 'sma_slow_period': 200}\n",
      "Running backtest 64/162 with params: {'lookback': 50, 'threshold': 0.01, 'trade_size': 0.05, 'sma_fast_period': 20, 'sma_slow_period': 50}\n",
      "Running backtest 65/162 with params: {'lookback': 50, 'threshold': 0.01, 'trade_size': 0.05, 'sma_fast_period': 20, 'sma_slow_period': 100}\n",
      "Running backtest 66/162 with params: {'lookback': 50, 'threshold': 0.01, 'trade_size': 0.05, 'sma_fast_period': 20, 'sma_slow_period': 200}\n",
      "Running backtest 67/162 with params: {'lookback': 50, 'threshold': 0.01, 'trade_size': 0.1, 'sma_fast_period': 30, 'sma_slow_period': 50}\n",
      "Running backtest 68/162 with params: {'lookback': 50, 'threshold': 0.01, 'trade_size': 0.1, 'sma_fast_period': 30, 'sma_slow_period': 100}\n",
      "Running backtest 69/162 with params: {'lookback': 50, 'threshold': 0.01, 'trade_size': 0.1, 'sma_fast_period': 30, 'sma_slow_period': 200}\n",
      "Running backtest 70/162 with params: {'lookback': 50, 'threshold': 0.01, 'trade_size': 0.1, 'sma_fast_period': 20, 'sma_slow_period': 50}\n",
      "Running backtest 71/162 with params: {'lookback': 50, 'threshold': 0.01, 'trade_size': 0.1, 'sma_fast_period': 20, 'sma_slow_period': 100}\n",
      "Running backtest 72/162 with params: {'lookback': 50, 'threshold': 0.01, 'trade_size': 0.1, 'sma_fast_period': 20, 'sma_slow_period': 200}\n",
      "Running backtest 73/162 with params: {'lookback': 50, 'threshold': 0.02, 'trade_size': 0.01, 'sma_fast_period': 30, 'sma_slow_period': 50}\n",
      "Running backtest 74/162 with params: {'lookback': 50, 'threshold': 0.02, 'trade_size': 0.01, 'sma_fast_period': 30, 'sma_slow_period': 100}\n",
      "Running backtest 75/162 with params: {'lookback': 50, 'threshold': 0.02, 'trade_size': 0.01, 'sma_fast_period': 30, 'sma_slow_period': 200}\n",
      "Running backtest 76/162 with params: {'lookback': 50, 'threshold': 0.02, 'trade_size': 0.01, 'sma_fast_period': 20, 'sma_slow_period': 50}\n",
      "Running backtest 77/162 with params: {'lookback': 50, 'threshold': 0.02, 'trade_size': 0.01, 'sma_fast_period': 20, 'sma_slow_period': 100}\n",
      "Running backtest 78/162 with params: {'lookback': 50, 'threshold': 0.02, 'trade_size': 0.01, 'sma_fast_period': 20, 'sma_slow_period': 200}\n",
      "Running backtest 79/162 with params: {'lookback': 50, 'threshold': 0.02, 'trade_size': 0.05, 'sma_fast_period': 30, 'sma_slow_period': 50}\n",
      "Running backtest 80/162 with params: {'lookback': 50, 'threshold': 0.02, 'trade_size': 0.05, 'sma_fast_period': 30, 'sma_slow_period': 100}\n",
      "Running backtest 81/162 with params: {'lookback': 50, 'threshold': 0.02, 'trade_size': 0.05, 'sma_fast_period': 30, 'sma_slow_period': 200}\n",
      "Running backtest 82/162 with params: {'lookback': 50, 'threshold': 0.02, 'trade_size': 0.05, 'sma_fast_period': 20, 'sma_slow_period': 50}\n",
      "Running backtest 83/162 with params: {'lookback': 50, 'threshold': 0.02, 'trade_size': 0.05, 'sma_fast_period': 20, 'sma_slow_period': 100}\n",
      "Running backtest 84/162 with params: {'lookback': 50, 'threshold': 0.02, 'trade_size': 0.05, 'sma_fast_period': 20, 'sma_slow_period': 200}\n",
      "Running backtest 85/162 with params: {'lookback': 50, 'threshold': 0.02, 'trade_size': 0.1, 'sma_fast_period': 30, 'sma_slow_period': 50}\n",
      "Running backtest 86/162 with params: {'lookback': 50, 'threshold': 0.02, 'trade_size': 0.1, 'sma_fast_period': 30, 'sma_slow_period': 100}\n",
      "Running backtest 87/162 with params: {'lookback': 50, 'threshold': 0.02, 'trade_size': 0.1, 'sma_fast_period': 30, 'sma_slow_period': 200}\n",
      "Running backtest 88/162 with params: {'lookback': 50, 'threshold': 0.02, 'trade_size': 0.1, 'sma_fast_period': 20, 'sma_slow_period': 50}\n",
      "Running backtest 89/162 with params: {'lookback': 50, 'threshold': 0.02, 'trade_size': 0.1, 'sma_fast_period': 20, 'sma_slow_period': 100}\n",
      "Running backtest 90/162 with params: {'lookback': 50, 'threshold': 0.02, 'trade_size': 0.1, 'sma_fast_period': 20, 'sma_slow_period': 200}\n",
      "Running backtest 91/162 with params: {'lookback': 50, 'threshold': 0.03, 'trade_size': 0.01, 'sma_fast_period': 30, 'sma_slow_period': 50}\n",
      "Running backtest 92/162 with params: {'lookback': 50, 'threshold': 0.03, 'trade_size': 0.01, 'sma_fast_period': 30, 'sma_slow_period': 100}\n",
      "Running backtest 93/162 with params: {'lookback': 50, 'threshold': 0.03, 'trade_size': 0.01, 'sma_fast_period': 30, 'sma_slow_period': 200}\n",
      "Running backtest 94/162 with params: {'lookback': 50, 'threshold': 0.03, 'trade_size': 0.01, 'sma_fast_period': 20, 'sma_slow_period': 50}\n",
      "Running backtest 95/162 with params: {'lookback': 50, 'threshold': 0.03, 'trade_size': 0.01, 'sma_fast_period': 20, 'sma_slow_period': 100}\n",
      "Running backtest 96/162 with params: {'lookback': 50, 'threshold': 0.03, 'trade_size': 0.01, 'sma_fast_period': 20, 'sma_slow_period': 200}\n",
      "Running backtest 97/162 with params: {'lookback': 50, 'threshold': 0.03, 'trade_size': 0.05, 'sma_fast_period': 30, 'sma_slow_period': 50}\n",
      "Running backtest 98/162 with params: {'lookback': 50, 'threshold': 0.03, 'trade_size': 0.05, 'sma_fast_period': 30, 'sma_slow_period': 100}\n",
      "Running backtest 99/162 with params: {'lookback': 50, 'threshold': 0.03, 'trade_size': 0.05, 'sma_fast_period': 30, 'sma_slow_period': 200}\n",
      "Running backtest 100/162 with params: {'lookback': 50, 'threshold': 0.03, 'trade_size': 0.05, 'sma_fast_period': 20, 'sma_slow_period': 50}\n",
      "Running backtest 101/162 with params: {'lookback': 50, 'threshold': 0.03, 'trade_size': 0.05, 'sma_fast_period': 20, 'sma_slow_period': 100}\n",
      "Running backtest 102/162 with params: {'lookback': 50, 'threshold': 0.03, 'trade_size': 0.05, 'sma_fast_period': 20, 'sma_slow_period': 200}\n",
      "Running backtest 103/162 with params: {'lookback': 50, 'threshold': 0.03, 'trade_size': 0.1, 'sma_fast_period': 30, 'sma_slow_period': 50}\n",
      "Running backtest 104/162 with params: {'lookback': 50, 'threshold': 0.03, 'trade_size': 0.1, 'sma_fast_period': 30, 'sma_slow_period': 100}\n",
      "Running backtest 105/162 with params: {'lookback': 50, 'threshold': 0.03, 'trade_size': 0.1, 'sma_fast_period': 30, 'sma_slow_period': 200}\n",
      "Running backtest 106/162 with params: {'lookback': 50, 'threshold': 0.03, 'trade_size': 0.1, 'sma_fast_period': 20, 'sma_slow_period': 50}\n",
      "Running backtest 107/162 with params: {'lookback': 50, 'threshold': 0.03, 'trade_size': 0.1, 'sma_fast_period': 20, 'sma_slow_period': 100}\n",
      "Running backtest 108/162 with params: {'lookback': 50, 'threshold': 0.03, 'trade_size': 0.1, 'sma_fast_period': 20, 'sma_slow_period': 200}\n",
      "Running backtest 109/162 with params: {'lookback': 100, 'threshold': 0.01, 'trade_size': 0.01, 'sma_fast_period': 30, 'sma_slow_period': 50}\n",
      "Running backtest 110/162 with params: {'lookback': 100, 'threshold': 0.01, 'trade_size': 0.01, 'sma_fast_period': 30, 'sma_slow_period': 100}\n",
      "Running backtest 111/162 with params: {'lookback': 100, 'threshold': 0.01, 'trade_size': 0.01, 'sma_fast_period': 30, 'sma_slow_period': 200}\n",
      "Running backtest 112/162 with params: {'lookback': 100, 'threshold': 0.01, 'trade_size': 0.01, 'sma_fast_period': 20, 'sma_slow_period': 50}\n",
      "Running backtest 113/162 with params: {'lookback': 100, 'threshold': 0.01, 'trade_size': 0.01, 'sma_fast_period': 20, 'sma_slow_period': 100}\n",
      "Running backtest 114/162 with params: {'lookback': 100, 'threshold': 0.01, 'trade_size': 0.01, 'sma_fast_period': 20, 'sma_slow_period': 200}\n",
      "Running backtest 115/162 with params: {'lookback': 100, 'threshold': 0.01, 'trade_size': 0.05, 'sma_fast_period': 30, 'sma_slow_period': 50}\n",
      "Running backtest 116/162 with params: {'lookback': 100, 'threshold': 0.01, 'trade_size': 0.05, 'sma_fast_period': 30, 'sma_slow_period': 100}\n",
      "Running backtest 117/162 with params: {'lookback': 100, 'threshold': 0.01, 'trade_size': 0.05, 'sma_fast_period': 30, 'sma_slow_period': 200}\n",
      "Running backtest 118/162 with params: {'lookback': 100, 'threshold': 0.01, 'trade_size': 0.05, 'sma_fast_period': 20, 'sma_slow_period': 50}\n",
      "Running backtest 119/162 with params: {'lookback': 100, 'threshold': 0.01, 'trade_size': 0.05, 'sma_fast_period': 20, 'sma_slow_period': 100}\n",
      "Running backtest 120/162 with params: {'lookback': 100, 'threshold': 0.01, 'trade_size': 0.05, 'sma_fast_period': 20, 'sma_slow_period': 200}\n",
      "Running backtest 121/162 with params: {'lookback': 100, 'threshold': 0.01, 'trade_size': 0.1, 'sma_fast_period': 30, 'sma_slow_period': 50}\n",
      "Running backtest 122/162 with params: {'lookback': 100, 'threshold': 0.01, 'trade_size': 0.1, 'sma_fast_period': 30, 'sma_slow_period': 100}\n",
      "Running backtest 123/162 with params: {'lookback': 100, 'threshold': 0.01, 'trade_size': 0.1, 'sma_fast_period': 30, 'sma_slow_period': 200}\n",
      "Running backtest 124/162 with params: {'lookback': 100, 'threshold': 0.01, 'trade_size': 0.1, 'sma_fast_period': 20, 'sma_slow_period': 50}\n",
      "Running backtest 125/162 with params: {'lookback': 100, 'threshold': 0.01, 'trade_size': 0.1, 'sma_fast_period': 20, 'sma_slow_period': 100}\n",
      "Running backtest 126/162 with params: {'lookback': 100, 'threshold': 0.01, 'trade_size': 0.1, 'sma_fast_period': 20, 'sma_slow_period': 200}\n",
      "Running backtest 127/162 with params: {'lookback': 100, 'threshold': 0.02, 'trade_size': 0.01, 'sma_fast_period': 30, 'sma_slow_period': 50}\n",
      "Running backtest 128/162 with params: {'lookback': 100, 'threshold': 0.02, 'trade_size': 0.01, 'sma_fast_period': 30, 'sma_slow_period': 100}\n",
      "Running backtest 129/162 with params: {'lookback': 100, 'threshold': 0.02, 'trade_size': 0.01, 'sma_fast_period': 30, 'sma_slow_period': 200}\n",
      "Running backtest 130/162 with params: {'lookback': 100, 'threshold': 0.02, 'trade_size': 0.01, 'sma_fast_period': 20, 'sma_slow_period': 50}\n",
      "Running backtest 131/162 with params: {'lookback': 100, 'threshold': 0.02, 'trade_size': 0.01, 'sma_fast_period': 20, 'sma_slow_period': 100}\n",
      "Running backtest 132/162 with params: {'lookback': 100, 'threshold': 0.02, 'trade_size': 0.01, 'sma_fast_period': 20, 'sma_slow_period': 200}\n",
      "Running backtest 133/162 with params: {'lookback': 100, 'threshold': 0.02, 'trade_size': 0.05, 'sma_fast_period': 30, 'sma_slow_period': 50}\n",
      "Running backtest 134/162 with params: {'lookback': 100, 'threshold': 0.02, 'trade_size': 0.05, 'sma_fast_period': 30, 'sma_slow_period': 100}\n",
      "Running backtest 135/162 with params: {'lookback': 100, 'threshold': 0.02, 'trade_size': 0.05, 'sma_fast_period': 30, 'sma_slow_period': 200}\n",
      "Running backtest 136/162 with params: {'lookback': 100, 'threshold': 0.02, 'trade_size': 0.05, 'sma_fast_period': 20, 'sma_slow_period': 50}\n",
      "Running backtest 137/162 with params: {'lookback': 100, 'threshold': 0.02, 'trade_size': 0.05, 'sma_fast_period': 20, 'sma_slow_period': 100}\n",
      "Running backtest 138/162 with params: {'lookback': 100, 'threshold': 0.02, 'trade_size': 0.05, 'sma_fast_period': 20, 'sma_slow_period': 200}\n",
      "Running backtest 139/162 with params: {'lookback': 100, 'threshold': 0.02, 'trade_size': 0.1, 'sma_fast_period': 30, 'sma_slow_period': 50}\n",
      "Running backtest 140/162 with params: {'lookback': 100, 'threshold': 0.02, 'trade_size': 0.1, 'sma_fast_period': 30, 'sma_slow_period': 100}\n",
      "Running backtest 141/162 with params: {'lookback': 100, 'threshold': 0.02, 'trade_size': 0.1, 'sma_fast_period': 30, 'sma_slow_period': 200}\n",
      "Running backtest 142/162 with params: {'lookback': 100, 'threshold': 0.02, 'trade_size': 0.1, 'sma_fast_period': 20, 'sma_slow_period': 50}\n",
      "Running backtest 143/162 with params: {'lookback': 100, 'threshold': 0.02, 'trade_size': 0.1, 'sma_fast_period': 20, 'sma_slow_period': 100}\n",
      "Running backtest 144/162 with params: {'lookback': 100, 'threshold': 0.02, 'trade_size': 0.1, 'sma_fast_period': 20, 'sma_slow_period': 200}\n",
      "Running backtest 145/162 with params: {'lookback': 100, 'threshold': 0.03, 'trade_size': 0.01, 'sma_fast_period': 30, 'sma_slow_period': 50}\n",
      "Running backtest 146/162 with params: {'lookback': 100, 'threshold': 0.03, 'trade_size': 0.01, 'sma_fast_period': 30, 'sma_slow_period': 100}\n",
      "Running backtest 147/162 with params: {'lookback': 100, 'threshold': 0.03, 'trade_size': 0.01, 'sma_fast_period': 30, 'sma_slow_period': 200}\n",
      "Running backtest 148/162 with params: {'lookback': 100, 'threshold': 0.03, 'trade_size': 0.01, 'sma_fast_period': 20, 'sma_slow_period': 50}\n",
      "Running backtest 149/162 with params: {'lookback': 100, 'threshold': 0.03, 'trade_size': 0.01, 'sma_fast_period': 20, 'sma_slow_period': 100}\n",
      "Running backtest 150/162 with params: {'lookback': 100, 'threshold': 0.03, 'trade_size': 0.01, 'sma_fast_period': 20, 'sma_slow_period': 200}\n",
      "Running backtest 151/162 with params: {'lookback': 100, 'threshold': 0.03, 'trade_size': 0.05, 'sma_fast_period': 30, 'sma_slow_period': 50}\n",
      "Running backtest 152/162 with params: {'lookback': 100, 'threshold': 0.03, 'trade_size': 0.05, 'sma_fast_period': 30, 'sma_slow_period': 100}\n",
      "Running backtest 153/162 with params: {'lookback': 100, 'threshold': 0.03, 'trade_size': 0.05, 'sma_fast_period': 30, 'sma_slow_period': 200}\n",
      "Running backtest 154/162 with params: {'lookback': 100, 'threshold': 0.03, 'trade_size': 0.05, 'sma_fast_period': 20, 'sma_slow_period': 50}\n",
      "Running backtest 155/162 with params: {'lookback': 100, 'threshold': 0.03, 'trade_size': 0.05, 'sma_fast_period': 20, 'sma_slow_period': 100}\n",
      "Running backtest 156/162 with params: {'lookback': 100, 'threshold': 0.03, 'trade_size': 0.05, 'sma_fast_period': 20, 'sma_slow_period': 200}\n",
      "Running backtest 157/162 with params: {'lookback': 100, 'threshold': 0.03, 'trade_size': 0.1, 'sma_fast_period': 30, 'sma_slow_period': 50}\n",
      "Running backtest 158/162 with params: {'lookback': 100, 'threshold': 0.03, 'trade_size': 0.1, 'sma_fast_period': 30, 'sma_slow_period': 100}\n",
      "Running backtest 159/162 with params: {'lookback': 100, 'threshold': 0.03, 'trade_size': 0.1, 'sma_fast_period': 30, 'sma_slow_period': 200}\n",
      "Running backtest 160/162 with params: {'lookback': 100, 'threshold': 0.03, 'trade_size': 0.1, 'sma_fast_period': 20, 'sma_slow_period': 50}\n",
      "Running backtest 161/162 with params: {'lookback': 100, 'threshold': 0.03, 'trade_size': 0.1, 'sma_fast_period': 20, 'sma_slow_period': 100}\n",
      "Running backtest 162/162 with params: {'lookback': 100, 'threshold': 0.03, 'trade_size': 0.1, 'sma_fast_period': 20, 'sma_slow_period': 200}\n",
      "   lookback  threshold  trade_size  sma_fast_period  sma_slow_period  \\\n",
      "0        50       0.01         0.1               30               50   \n",
      "1        20       0.02         0.1               20              100   \n",
      "2        50       0.03         0.1               30               50   \n",
      "3        20       0.03         0.1               30               50   \n",
      "4        20       0.03         0.1               20              200   \n",
      "\n",
      "    final_value  \n",
      "0  10132.983784  \n",
      "1  10120.035741  \n",
      "2  10116.000281  \n",
      "3  10116.000281  \n",
      "4  10114.416720  \n"
     ]
    }
   ],
   "source": [
    "param_grid = {\n",
    "    'lookback': [20, 50, 100],  # added longer lookback\n",
    "    'threshold': [ 0.01, 0.02, 0.03],  # wider range for momentum trigger\n",
    "    'trade_size': [0.01, 0.05, 0.1],\n",
    "    'sma_fast_period': [30, 20],  # a slightly longer fast SMA\n",
    "    'sma_slow_period': [ 50, 100, 200],  # longer slow SMAs for multi-year trends\n",
    "}\n",
    "results_df = grid_search_strategy(MomentumStrategyWithSMA, param_grid, df)\n",
    "print(results_df.head())"
   ]
  },
  {
   "cell_type": "markdown",
   "id": "78329cd5-3cd8-4116-8b6c-7863925a4cf1",
   "metadata": {},
   "source": [
    "Now we can see how our new model performs with different hyperparameters. We see that there are lots of cases where we get a positive final_value but there is also one important thing missing and it is information about the trades made. This is imprtant since we cannot rely on algorithms that have simply performed little to none trades that turned out to be lucky. Let's check some more statistics."
   ]
  },
  {
   "cell_type": "code",
   "execution_count": 22,
   "id": "69815995-2980-423c-9921-0652a47dacb9",
   "metadata": {},
   "outputs": [
    {
     "name": "stdout",
     "output_type": "stream",
     "text": [
      "Top results with SMA:\n",
      "   lookback  threshold  trade_size  sma_fast_period  sma_slow_period  \\\n",
      "0        50       0.01         0.1               30               50   \n",
      "1        20       0.02         0.1               20              100   \n",
      "2        50       0.03         0.1               30               50   \n",
      "3        20       0.03         0.1               30               50   \n",
      "4        20       0.03         0.1               20              200   \n",
      "\n",
      "    final_value  \n",
      "0  10132.983784  \n",
      "1  10120.035741  \n",
      "2  10116.000281  \n",
      "3  10116.000281  \n",
      "4  10114.416720  \n",
      "Strategy: MomentumStrategyWithSMA\n",
      "Total trades: 2\n",
      "Winning trades: 1\n",
      "Losing trades: 0\n",
      "Total Net PnL: 16.79\n",
      "Average Net PnL: 16.79\n",
      "Sharpe Ratio: 3.122587139156425\n",
      "Max Drawdown: 0.11%\n",
      "Drawdown Duration: 9 bars\n",
      "===================================\n",
      "Strategy: MomentumStrategyWithSMA\n",
      "Total trades: 1\n",
      "Winning trades: 0\n",
      "Losing trades: 0\n",
      "Total Net PnL: 0.00\n",
      "Average Net PnL: 0.00\n",
      "Sharpe Ratio: 3.7544666075530753\n",
      "Max Drawdown: 0.11%\n",
      "Drawdown Duration: 9 bars\n",
      "===================================\n",
      "Strategy: MomentumStrategyWithSMA\n",
      "Total trades: 1\n",
      "Winning trades: 0\n",
      "Losing trades: 0\n",
      "Total Net PnL: 0.00\n",
      "Average Net PnL: 0.00\n",
      "Sharpe Ratio: 3.6442238233276973\n",
      "Max Drawdown: 0.11%\n",
      "Drawdown Duration: 9 bars\n",
      "===================================\n",
      "Strategy: MomentumStrategyWithSMA\n",
      "Total trades: 1\n",
      "Winning trades: 0\n",
      "Losing trades: 0\n",
      "Total Net PnL: 0.00\n",
      "Average Net PnL: 0.00\n",
      "Sharpe Ratio: 3.6442238233276973\n",
      "Max Drawdown: 0.11%\n",
      "Drawdown Duration: 9 bars\n",
      "===================================\n",
      "Strategy: MomentumStrategyWithSMA\n",
      "Total trades: 1\n",
      "Winning trades: 0\n",
      "Losing trades: 0\n",
      "Total Net PnL: 0.00\n",
      "Average Net PnL: 0.00\n",
      "Sharpe Ratio: 3.597562248845708\n",
      "Max Drawdown: 0.11%\n",
      "Drawdown Duration: 9 bars\n",
      "===================================\n"
     ]
    }
   ],
   "source": [
    "top_5 = results_df.head(5)\n",
    "print(\"Top results with SMA:\")\n",
    "print(results_df.head())\n",
    "for _, row in top_5.iterrows():\n",
    "    if 'sma_fast_period' in row and not pd.isna(row['sma_fast_period']):\n",
    "        run_backtest(MomentumStrategyWithSMA,datafeed,\n",
    "                     lookback=int(row['lookback']),\n",
    "                     threshold=row['threshold'],\n",
    "                     trade_size=row['trade_size'],\n",
    "                     sma_fast_period=int(row['sma_fast_period']),\n",
    "                     sma_slow_period=int(row['sma_slow_period']))\n",
    "    else:\n",
    "        run_backtest(MomentumStrategy,datafeed,\n",
    "                     lookback=int(row['lookback']),\n",
    "                     threshold=row['threshold'],\n",
    "                     trade_size=row['trade_size'])"
   ]
  },
  {
   "cell_type": "markdown",
   "id": "269e23a0-6eb7-41af-8c3a-e1434aaed865",
   "metadata": {},
   "source": [
    "The insights we get from that are extremely valiable. \n",
    "- Firstly we execute little to no trades. This means that the information could be missleading.\n",
    "- Secondly, although the sharpe ration is good, we have not met one of the **assumptions** it has - following a normal distribuution."
   ]
  },
  {
   "cell_type": "markdown",
   "id": "53b2948f-8f12-4281-a16a-2e35cce1f793",
   "metadata": {},
   "source": [
    "Probably the best thing we could do right now is to try and extend the period of our data since we are only using the last 1000 hours."
   ]
  },
  {
   "cell_type": "code",
   "execution_count": 39,
   "id": "191e875c-c171-499f-ab78-e3c16cfd7e54",
   "metadata": {},
   "outputs": [
    {
     "name": "stdout",
     "output_type": "stream",
     "text": [
      "                       Open    High     Low   Close     Volume\n",
      "Open time                                                     \n",
      "2025-05-31 22:00:00  2.1949  2.1967  2.1757  2.1785  3334347.8\n",
      "2025-05-31 23:00:00  2.1785  2.1886  2.1719  2.1738  2507227.4\n",
      "2025-06-01 00:00:00  2.1739  2.1744  2.1641  2.1723  2293178.9\n",
      "2025-06-01 01:00:00  2.1724  2.1786  2.1574  2.1605  2342882.5\n",
      "2025-06-01 02:00:00  2.1605  2.1643  2.1499  2.1594  2347187.6\n",
      "                       Open    High     Low   Close      Volume\n",
      "Open time                                                      \n",
      "2025-07-12 09:00:00  2.7903  2.8253  2.7823  2.8211  11478106.7\n",
      "2025-07-12 10:00:00  2.8210  2.8466  2.8097  2.8367  11457007.4\n",
      "2025-07-12 11:00:00  2.8368  2.8476  2.7972  2.8054  17455955.1\n",
      "2025-07-12 12:00:00  2.8054  2.8087  2.7555  2.7865  17959564.5\n",
      "2025-07-12 13:00:00  2.7865  2.7875  2.7791  2.7798    835772.4\n",
      "Total candles: 26279\n"
     ]
    }
   ],
   "source": [
    "from binance.client import Client\n",
    "import pandas as pd\n",
    "import time\n",
    "from datetime import datetime, timedelta\n",
    "\n",
    "# No API key needed for public data\n",
    "client = Client()\n",
    "\n",
    "# Function to fetch hourly data for up to 3 years\n",
    "def fetch_hourly_data(symbol=\"BTCUSDT\", years=3):\n",
    "    interval = Client.KLINE_INTERVAL_1HOUR\n",
    "    end_time = datetime.utcnow()\n",
    "    start_time = end_time - timedelta(days=365 * years)\n",
    "    \n",
    "    df_list = []\n",
    "    while start_time < end_time:\n",
    "        # Convert to string\n",
    "        start_str = start_time.strftime(\"%d %b %Y %H:%M:%S\")\n",
    "        try:\n",
    "            klines = client.get_historical_klines(symbol, interval, start_str, limit=1000)\n",
    "            if not klines:\n",
    "                break\n",
    "            \n",
    "            temp_df = pd.DataFrame(klines, columns=[\n",
    "                'Open time', 'Open', 'High', 'Low', 'Close', 'Volume',\n",
    "                'Close time', 'Quote asset volume', 'Number of trades',\n",
    "                'Taker buy base asset volume', 'Taker buy quote asset volume', 'Ignore'])\n",
    "\n",
    "            temp_df['Open time'] = pd.to_datetime(temp_df['Open time'], unit='ms')\n",
    "            temp_df['Close time'] = pd.to_datetime(temp_df['Close time'], unit='ms')\n",
    "            temp_df = temp_df[['Open time', 'Open', 'High', 'Low', 'Close', 'Volume']]\n",
    "            temp_df[['Open', 'High', 'Low', 'Close', 'Volume']] = temp_df[['Open', 'High', 'Low', 'Close', 'Volume']].astype(float)\n",
    "            df_list.append(temp_df)\n",
    "\n",
    "            # Step forward 1000 hours\n",
    "            start_time = temp_df['Open time'].iloc[-1] + timedelta(hours=1)\n",
    "            time.sleep(0.5)  # Respect API rate limits\n",
    "        except Exception as e:\n",
    "            print(\"Error:\", e)\n",
    "            time.sleep(1)\n",
    "    \n",
    "    full_df = pd.concat(df_list).set_index('Open time')\n",
    "    return full_df\n",
    "\n",
    "# Fetch 3 years of data\n",
    "df_2 = fetch_hourly_data(years=3)\n",
    "\n",
    "print(df.head())\n",
    "print(df.tail())\n",
    "print(f\"Total candles: {len(df_2)}\")\n"
   ]
  },
  {
   "cell_type": "code",
   "execution_count": 24,
   "id": "96dbb969-c3c0-414f-bb3e-62a7ee878101",
   "metadata": {},
   "outputs": [
    {
     "name": "stderr",
     "output_type": "stream",
     "text": [
      "C:\\Users\\mitko\\AppData\\Local\\Programs\\Python\\Python310\\lib\\site-packages\\mplfinance\\_arg_validators.py:84: UserWarning: \n",
      "\n",
      " ================================================================= \n",
      "\n",
      "   WARNING: YOU ARE PLOTTING SO MUCH DATA THAT IT MAY NOT BE\n",
      "            POSSIBLE TO SEE DETAILS (Candles, Ohlc-Bars, Etc.)\n",
      "   For more information see:\n",
      "   - https://github.com/matplotlib/mplfinance/wiki/Plotting-Too-Much-Data\n",
      "   \n",
      "   TO SILENCE THIS WARNING, set `type='line'` in `mpf.plot()`\n",
      "   OR set kwarg `warn_too_much_data=N` where N is an integer \n",
      "   LARGER than the number of data points you want to plot.\n",
      "\n",
      " ================================================================ \n",
      "  warnings.warn('\\n\\n ================================================================= '+\n"
     ]
    },
    {
     "data": {
      "image/png": "[encoded data removed]",
      "text/plain": [
       "<Figure size 800x575 with 4 Axes>"
      ]
     },
     "metadata": {},
     "output_type": "display_data"
    }
   ],
   "source": [
    "\n",
    "mpf.plot(df_2, type='candle', volume=True, style='classic')\n",
    "\n",
    "plt.show()"
   ]
  },
  {
   "cell_type": "code",
   "execution_count": 25,
   "id": "8b1b682f-9b64-4838-9959-9d1a069e2402",
   "metadata": {},
   "outputs": [
    {
     "ename": "KeyError",
     "evalue": "'sma_fast'",
     "output_type": "error",
     "traceback": [
      "\u001b[1;31m---------------------------------------------------------------------------\u001b[0m",
      "\u001b[1;31mKeyError\u001b[0m                                  Traceback (most recent call last)",
      "File \u001b[1;32m~\\AppData\\Local\\Programs\\Python\\Python310\\lib\\site-packages\\pandas\\core\\indexes\\base.py:3812\u001b[0m, in \u001b[0;36mIndex.get_loc\u001b[1;34m(self, key)\u001b[0m\n\u001b[0;32m   3811\u001b[0m \u001b[38;5;28;01mtry\u001b[39;00m:\n\u001b[1;32m-> 3812\u001b[0m     \u001b[38;5;28;01mreturn\u001b[39;00m \u001b[38;5;28;43mself\u001b[39;49m\u001b[38;5;241;43m.\u001b[39;49m\u001b[43m_engine\u001b[49m\u001b[38;5;241;43m.\u001b[39;49m\u001b[43mget_loc\u001b[49m\u001b[43m(\u001b[49m\u001b[43mcasted_key\u001b[49m\u001b[43m)\u001b[49m\n\u001b[0;32m   3813\u001b[0m \u001b[38;5;28;01mexcept\u001b[39;00m \u001b[38;5;167;01mKeyError\u001b[39;00m \u001b[38;5;28;01mas\u001b[39;00m err:\n",
      "File \u001b[1;32mpandas/_libs/index.pyx:167\u001b[0m, in \u001b[0;36mpandas._libs.index.IndexEngine.get_loc\u001b[1;34m()\u001b[0m\n",
      "File \u001b[1;32mpandas/_libs/index.pyx:196\u001b[0m, in \u001b[0;36mpandas._libs.index.IndexEngine.get_loc\u001b[1;34m()\u001b[0m\n",
      "File \u001b[1;32mpandas/_libs/hashtable_class_helper.pxi:7088\u001b[0m, in \u001b[0;36mpandas._libs.hashtable.PyObjectHashTable.get_item\u001b[1;34m()\u001b[0m\n",
      "File \u001b[1;32mpandas/_libs/hashtable_class_helper.pxi:7096\u001b[0m, in \u001b[0;36mpandas._libs.hashtable.PyObjectHashTable.get_item\u001b[1;34m()\u001b[0m\n",
      "\u001b[1;31mKeyError\u001b[0m: 'sma_fast'",
      "\nThe above exception was the direct cause of the following exception:\n",
      "\u001b[1;31mKeyError\u001b[0m                                  Traceback (most recent call last)",
      "Cell \u001b[1;32mIn[25], line 5\u001b[0m\n\u001b[0;32m      1\u001b[0m run_backtest(MomentumStrategyWithSMA,\n\u001b[0;32m      2\u001b[0m                      lookback\u001b[38;5;241m=\u001b[39m\u001b[38;5;28mint\u001b[39m(row[\u001b[38;5;124m'\u001b[39m\u001b[38;5;124mlookback\u001b[39m\u001b[38;5;124m'\u001b[39m]),\n\u001b[0;32m      3\u001b[0m                      threshold\u001b[38;5;241m=\u001b[39mrow[\u001b[38;5;124m'\u001b[39m\u001b[38;5;124mthreshold\u001b[39m\u001b[38;5;124m'\u001b[39m],\n\u001b[0;32m      4\u001b[0m                      trade_size\u001b[38;5;241m=\u001b[39mrow[\u001b[38;5;124m'\u001b[39m\u001b[38;5;124mtrade_size\u001b[39m\u001b[38;5;124m'\u001b[39m],\n\u001b[1;32m----> 5\u001b[0m                      sma_fast_period\u001b[38;5;241m=\u001b[39m\u001b[38;5;28mint\u001b[39m(\u001b[43mrow\u001b[49m\u001b[43m[\u001b[49m\u001b[38;5;124;43m'\u001b[39;49m\u001b[38;5;124;43msma_fast\u001b[39;49m\u001b[38;5;124;43m'\u001b[39;49m\u001b[43m]\u001b[49m),\n\u001b[0;32m      6\u001b[0m                      sma_slow_period\u001b[38;5;241m=\u001b[39m\u001b[38;5;28mint\u001b[39m(row[\u001b[38;5;124m'\u001b[39m\u001b[38;5;124msma_slow\u001b[39m\u001b[38;5;124m'\u001b[39m]))\n",
      "File \u001b[1;32m~\\AppData\\Local\\Programs\\Python\\Python310\\lib\\site-packages\\pandas\\core\\series.py:1130\u001b[0m, in \u001b[0;36mSeries.__getitem__\u001b[1;34m(self, key)\u001b[0m\n\u001b[0;32m   1127\u001b[0m     \u001b[38;5;28;01mreturn\u001b[39;00m \u001b[38;5;28mself\u001b[39m\u001b[38;5;241m.\u001b[39m_values[key]\n\u001b[0;32m   1129\u001b[0m \u001b[38;5;28;01melif\u001b[39;00m key_is_scalar:\n\u001b[1;32m-> 1130\u001b[0m     \u001b[38;5;28;01mreturn\u001b[39;00m \u001b[38;5;28;43mself\u001b[39;49m\u001b[38;5;241;43m.\u001b[39;49m\u001b[43m_get_value\u001b[49m\u001b[43m(\u001b[49m\u001b[43mkey\u001b[49m\u001b[43m)\u001b[49m\n\u001b[0;32m   1132\u001b[0m \u001b[38;5;66;03m# Convert generator to list before going through hashable part\u001b[39;00m\n\u001b[0;32m   1133\u001b[0m \u001b[38;5;66;03m# (We will iterate through the generator there to check for slices)\u001b[39;00m\n\u001b[0;32m   1134\u001b[0m \u001b[38;5;28;01mif\u001b[39;00m is_iterator(key):\n",
      "File \u001b[1;32m~\\AppData\\Local\\Programs\\Python\\Python310\\lib\\site-packages\\pandas\\core\\series.py:1246\u001b[0m, in \u001b[0;36mSeries._get_value\u001b[1;34m(self, label, takeable)\u001b[0m\n\u001b[0;32m   1243\u001b[0m     \u001b[38;5;28;01mreturn\u001b[39;00m \u001b[38;5;28mself\u001b[39m\u001b[38;5;241m.\u001b[39m_values[label]\n\u001b[0;32m   1245\u001b[0m \u001b[38;5;66;03m# Similar to Index.get_value, but we do not fall back to positional\u001b[39;00m\n\u001b[1;32m-> 1246\u001b[0m loc \u001b[38;5;241m=\u001b[39m \u001b[38;5;28;43mself\u001b[39;49m\u001b[38;5;241;43m.\u001b[39;49m\u001b[43mindex\u001b[49m\u001b[38;5;241;43m.\u001b[39;49m\u001b[43mget_loc\u001b[49m\u001b[43m(\u001b[49m\u001b[43mlabel\u001b[49m\u001b[43m)\u001b[49m\n\u001b[0;32m   1248\u001b[0m \u001b[38;5;28;01mif\u001b[39;00m is_integer(loc):\n\u001b[0;32m   1249\u001b[0m     \u001b[38;5;28;01mreturn\u001b[39;00m \u001b[38;5;28mself\u001b[39m\u001b[38;5;241m.\u001b[39m_values[loc]\n",
      "File \u001b[1;32m~\\AppData\\Local\\Programs\\Python\\Python310\\lib\\site-packages\\pandas\\core\\indexes\\base.py:3819\u001b[0m, in \u001b[0;36mIndex.get_loc\u001b[1;34m(self, key)\u001b[0m\n\u001b[0;32m   3814\u001b[0m     \u001b[38;5;28;01mif\u001b[39;00m \u001b[38;5;28misinstance\u001b[39m(casted_key, \u001b[38;5;28mslice\u001b[39m) \u001b[38;5;129;01mor\u001b[39;00m (\n\u001b[0;32m   3815\u001b[0m         \u001b[38;5;28misinstance\u001b[39m(casted_key, abc\u001b[38;5;241m.\u001b[39mIterable)\n\u001b[0;32m   3816\u001b[0m         \u001b[38;5;129;01mand\u001b[39;00m \u001b[38;5;28many\u001b[39m(\u001b[38;5;28misinstance\u001b[39m(x, \u001b[38;5;28mslice\u001b[39m) \u001b[38;5;28;01mfor\u001b[39;00m x \u001b[38;5;129;01min\u001b[39;00m casted_key)\n\u001b[0;32m   3817\u001b[0m     ):\n\u001b[0;32m   3818\u001b[0m         \u001b[38;5;28;01mraise\u001b[39;00m InvalidIndexError(key)\n\u001b[1;32m-> 3819\u001b[0m     \u001b[38;5;28;01mraise\u001b[39;00m \u001b[38;5;167;01mKeyError\u001b[39;00m(key) \u001b[38;5;28;01mfrom\u001b[39;00m\u001b[38;5;250m \u001b[39m\u001b[38;5;21;01merr\u001b[39;00m\n\u001b[0;32m   3820\u001b[0m \u001b[38;5;28;01mexcept\u001b[39;00m \u001b[38;5;167;01mTypeError\u001b[39;00m:\n\u001b[0;32m   3821\u001b[0m     \u001b[38;5;66;03m# If we have a listlike key, _check_indexing_error will raise\u001b[39;00m\n\u001b[0;32m   3822\u001b[0m     \u001b[38;5;66;03m#  InvalidIndexError. Otherwise we fall through and re-raise\u001b[39;00m\n\u001b[0;32m   3823\u001b[0m     \u001b[38;5;66;03m#  the TypeError.\u001b[39;00m\n\u001b[0;32m   3824\u001b[0m     \u001b[38;5;28mself\u001b[39m\u001b[38;5;241m.\u001b[39m_check_indexing_error(key)\n",
      "\u001b[1;31mKeyError\u001b[0m: 'sma_fast'"
     ]
    }
   ],
   "source": [
    "run_backtest(MomentumStrategyWithSMA,\n",
    "                     lookback=int(row['lookback']),\n",
    "                     threshold=row['threshold'],\n",
    "                     trade_size=row['trade_size'],\n",
    "                     sma_fast_period=int(row['sma_fast']),\n",
    "                     sma_slow_period=int(row['sma_slow']))"
   ]
  },
  {
   "cell_type": "markdown",
   "id": "e7d53764-34e0-4d63-8476-5ccb38dcfa2f",
   "metadata": {},
   "source": [
    "Now lets run the tests we had but on the new data"
   ]
  },
  {
   "cell_type": "code",
   "execution_count": null,
   "id": "a20a59aa-c5b2-40cd-aa9d-c3ead0620382",
   "metadata": {},
   "outputs": [],
   "source": [
    "datafeed_2 = bt.feeds.PandasData(dataname=df_2)\n",
    "run_backtest(MomentumStrategy,datafeed_2, lookback=20, threshold=0.01, trade_size=0.1)\n",
    "run_backtest(MomentumStrategyWithSMA,datafeed_2, lookback=100, threshold=0.01, trade_size=0.1, sma_fast_period=50, sma_slow_period=168)\n",
    "\n"
   ]
  },
  {
   "cell_type": "markdown",
   "id": "25108d0b-49a3-4aad-9824-c835adb4742f",
   "metadata": {},
   "source": [
    "## Momentum with stop-loss"
   ]
  },
  {
   "cell_type": "code",
   "execution_count": null,
   "id": "885a11b7-a460-417c-92b8-a711d4c6aa96",
   "metadata": {},
   "outputs": [],
   "source": [
    "\n",
    "\n",
    "class MomentumStrategyWithSMAstopLoss(bt.Strategy):\n",
    "    params = (\n",
    "        ('lookback', 20),\n",
    "        ('threshold', 0.01),\n",
    "        ('trade_size', 0.1),\n",
    "        ('sma_fast_period', 10),  # short-term SMA\n",
    "        ('sma_slow_period', 30),  # long-term SMA\n",
    "        ('stop_loss_pct', 0.02),  # 2% stop loss by default\n",
    "    )\n",
    "    \n",
    "    def __init__(self):\n",
    "        self.sma_fast = bt.indicators.SimpleMovingAverage(self.data.close, period=self.p.sma_fast_period)\n",
    "        self.sma_slow = bt.indicators.SimpleMovingAverage(self.data.close, period=self.p.sma_slow_period)\n",
    "        self.crossover = bt.indicators.CrossOver(self.sma_fast, self.sma_slow)  # +1 when fast crosses above slow, -1 when below\n",
    "        self.stop_price = None  # to track stop loss level\n",
    "\n",
    "    def next(self):\n",
    "        if len(self.data) < max(self.p.lookback, self.p.sma_slow_period):\n",
    "            return  # wait until enough data\n",
    "\n",
    "        momentum = (self.data.close[0] / self.data.close[-self.p.lookback]) - 1\n",
    "        size = (self.broker.getvalue() * self.p.trade_size) / self.data.close[0]\n",
    "\n",
    "        # Check stop loss first\n",
    "        if self.position.size > 0 and self.stop_price is not None:\n",
    "            if self.data.close[0] <= self.stop_price:\n",
    "                self.log(f'STOP LOSS TRIGGERED: Closing position at {self.data.close[0]:.2f}')\n",
    "                self.close()\n",
    "                self.stop_price = None\n",
    "                return  # no further action on this bar after stop loss\n",
    "\n",
    "        # SELL condition: momentum < -threshold AND fast SMA crosses below slow SMA\n",
    "        if momentum < -self.p.threshold and self.position.size > 0 and self.crossover < 0:\n",
    "            self.log(f'SELL signal: Closing position at {self.data.close[0]:.2f}')\n",
    "            self.close()\n",
    "            self.stop_price = None\n",
    "\n",
    "        # BUY condition: momentum > threshold AND fast SMA crosses above slow SMA\n",
    "        elif momentum > self.p.threshold and not self.position and self.crossover > 0:\n",
    "            if size > 0:\n",
    "                self.buy(size=size)\n",
    "                # Set stop loss price after buying\n",
    "                self.stop_price = self.data.close[0] * (1 - self.p.stop_loss_pct)\n",
    "                self.log(f'BUY signal: Buying at {self.data.close[0]:.2f} with stop loss at {self.stop_price:.2f}')\n",
    "            else:\n",
    "                print(\"Calculated size too small to buy\")\n",
    "\n",
    "    def log(self, txt):\n",
    "        dt = self.datas[0].datetime.date(0)\n",
    "        print(f'{dt.isoformat()} - {txt}')\n"
   ]
  },
  {
   "cell_type": "code",
   "execution_count": null,
   "id": "fad57450-2d67-4e5a-b57b-afdf58edebf1",
   "metadata": {},
   "outputs": [],
   "source": [
    "run_backtest(MomentumStrategyWithSMAstopLoss,datafeed_2, lookback=100, threshold=0.01, trade_size=0.1, sma_fast_period=50, sma_slow_period=250)"
   ]
  },
  {
   "cell_type": "markdown",
   "id": "57e6df5e-0006-4cb4-a889-ad389cee7d65",
   "metadata": {},
   "source": [
    "To manage risk using a stop-loss step, we observe that while the maximum drawdown decreases, the number of losing trades increases. This reflects a trade-off that must be considered. An alternative approach is to use the Average True Range (ATR), which adjusts the stop-loss dynamically based on market volatility. Additionally, techniques like Grid Search can be employed to optimize the stop-loss level based on historical performance."
   ]
  },
  {
   "cell_type": "markdown",
   "id": "35c81dfc-a604-4519-a76f-96467e7c84d1",
   "metadata": {},
   "source": [
    "# Dynamic position sizing\n",
    "In this section, I will implement dynamic position sizing to improve trade management.\n",
    "\n",
    "**More about the concept can be found in the notebook: Premise, research.ipynb**\n",
    "\n",
    "We will use three core ideas to determine trade size more effectively:\n",
    "\n",
    "- **Volatility Adjustment:** Reduce trade size in more volatile markets using ATR.\n",
    "\n",
    "- **Conviction Score:** Increase size when both momentum and volume agree (strong signal).\n",
    "\n",
    "- **Drawdown Awareness:** Reduce size after consecutive losses to protect capital."
   ]
  },
  {
   "cell_type": "code",
   "execution_count": 17,
   "id": "e3da7b70-c5aa-48b7-87b2-5bb3c30c18ba",
   "metadata": {},
   "outputs": [],
   "source": [
    "import backtrader as bt\n",
    "\n",
    "class MomentumStrategyWithSMApositionSizing(bt.Strategy):\n",
    "    params = (\n",
    "        ('lookback', 20),\n",
    "        ('threshold', 0.01),\n",
    "        ('trade_size', 0.1),\n",
    "        ('sma_fast_period', 10),\n",
    "        ('sma_slow_period', 30),\n",
    "        ('atr_period', 14),\n",
    "    )\n",
    "\n",
    "    def __init__(self):\n",
    "        self.sma_fast = bt.indicators.SimpleMovingAverage(self.data.close, period=self.p.sma_fast_period)\n",
    "        self.sma_slow = bt.indicators.SimpleMovingAverage(self.data.close, period=self.p.sma_slow_period)\n",
    "        self.crossover = bt.indicators.CrossOver(self.sma_fast, self.sma_slow)\n",
    "        self.atr = bt.indicators.ATR(self.data, period=self.p.atr_period)\n",
    "        self.buy_signals = []   # I am adding those to store signals if we want to plot where we sell and where we buy\n",
    "        self.sell_signals = []\n",
    "\n",
    "        self.max_equity = None  # track max equity for drawdown adjustment\n",
    "\n",
    "    def next(self):\n",
    "        if len(self.data) < max(self.p.lookback, self.p.sma_slow_period, self.p.atr_period):\n",
    "            return\n",
    "\n",
    "        momentum = (self.data.close[0] / self.data.close[-self.p.lookback]) - 1\n",
    "\n",
    "        # Base size\n",
    "        size = (self.broker.getvalue() * self.p.trade_size) / self.data.close[0]\n",
    "\n",
    "        #  ATR-based volatility adjustment \n",
    "        atr = self.atr[0]\n",
    "        if atr > 0:\n",
    "            size /= (1 + atr / self.data.close[0])\n",
    "\n",
    "        # Conviction score\n",
    "        momentum_score = max(0, (momentum - self.p.threshold)) * 100  # scaled\n",
    "        volume_mean = sum(self.data.volume.get(size=self.p.lookback, ago=-1)) / self.p.lookback\n",
    "        volume_score = self.data.volume[0] / volume_mean if volume_mean > 0 else 1\n",
    "        conviction_multiplier = min(momentum_score * volume_score, 2.0)\n",
    "        size *= conviction_multiplier\n",
    "\n",
    "        # Drawdown-aware size reduction\n",
    "        current_equity = self.broker.getvalue()\n",
    "        if self.max_equity is None or current_equity > self.max_equity:\n",
    "            self.max_equity = current_equity\n",
    "        drawdown = (self.max_equity - current_equity) / self.max_equity\n",
    "        if drawdown > 0.05:\n",
    "            size *= max(0.5, 1 - drawdown * 2)\n",
    "\n",
    "       # Here is the logic\n",
    "        if momentum < -self.p.threshold and self.position.size > 0 and self.crossover < 0:\n",
    "            self.close()\n",
    "            self.sell_signals.append((self.data.datetime.datetime(0), self.data.close[0]))\n",
    "\n",
    "        elif momentum > self.p.threshold and not self.position and self.crossover > 0:\n",
    "            if size > 0:\n",
    "                self.buy(size=size)\n",
    "                self.buy_signals.append((self.data.datetime.datetime(0), self.data.close[0]))\n",
    "            else:\n",
    "                print(\"Calculated size too small to buy\")\n"
   ]
  },
  {
   "cell_type": "code",
   "execution_count": 1,
   "id": "e3fe14c3-e4c6-48a6-9b73-d41badce5300",
   "metadata": {},
   "outputs": [
    {
     "ename": "NameError",
     "evalue": "name 'strategy' is not defined",
     "output_type": "error",
     "traceback": [
      "\u001b[1;31m---------------------------------------------------------------------------\u001b[0m",
      "\u001b[1;31mNameError\u001b[0m                                 Traceback (most recent call last)",
      "Cell \u001b[1;32mIn[1], line 1\u001b[0m\n\u001b[1;32m----> 1\u001b[0m buy_dates \u001b[38;5;241m=\u001b[39m [x[\u001b[38;5;241m0\u001b[39m] \u001b[38;5;28;01mfor\u001b[39;00m x \u001b[38;5;129;01min\u001b[39;00m \u001b[43mstrategy\u001b[49m\u001b[38;5;241m.\u001b[39mbuy_signals]\n\u001b[0;32m      2\u001b[0m buy_prices \u001b[38;5;241m=\u001b[39m [x[\u001b[38;5;241m1\u001b[39m] \u001b[38;5;28;01mfor\u001b[39;00m x \u001b[38;5;129;01min\u001b[39;00m strategy\u001b[38;5;241m.\u001b[39mbuy_signals]\n\u001b[0;32m      4\u001b[0m sell_dates \u001b[38;5;241m=\u001b[39m [x[\u001b[38;5;241m0\u001b[39m] \u001b[38;5;28;01mfor\u001b[39;00m x \u001b[38;5;129;01min\u001b[39;00m strategy\u001b[38;5;241m.\u001b[39msell_signals]\n",
      "\u001b[1;31mNameError\u001b[0m: name 'strategy' is not defined"
     ]
    }
   ],
   "source": [
    "run_backtest(MomentumStrategyWithSMApositionSizing)"
   ]
  },
  {
   "cell_type": "markdown",
   "id": "1f6518d8-b181-418d-8cb3-30877cfbaee1",
   "metadata": {},
   "source": [
    "### Note on Risk Management\n",
    "\n",
    "In this implementation, no explicit stop-loss mechanism is used. Instead, the strategy employs adaptive position sizing to mitigate risk. When market conditions deteriorate - such as during increased volatility, weakening momentum, or account drawdowns - the size of new trades is systematically reduced.\n",
    "\n",
    "This approach serves as a soft alternative to traditional stop-losses, as it minimizes capital at risk during unfavorable conditions without prematurely exiting positions. However, this method does not preclude the use of stop-losses; both techniques can be combined to create a layered risk management framework that balances flexibility with protective constraints."
   ]
  },
  {
   "cell_type": "code",
   "execution_count": 196,
   "id": "5854a85c-1130-499a-a431-49138af85a03",
   "metadata": {},
   "outputs": [
    {
     "name": "stdout",
     "output_type": "stream",
     "text": [
      "Strategy: MomentumStrategyWithSMApositionSizing\n",
      "Total trades: 24\n",
      "Winning trades: 8\n",
      "Losing trades: 16\n",
      "Total Net PnL: 1116.62\n",
      "Average Net PnL: 46.53\n",
      "Sharpe Ratio: 0.3173235192088905\n",
      "Max Drawdown: 3.57%\n",
      "Drawdown Duration: 4889 bars\n",
      "===================================\n"
     ]
    }
   ],
   "source": [
    "run_backtest(MomentumStrategyWithSMApositionSizing,datafeed_2, lookback=200, threshold=0.01, trade_size=0.1, sma_fast_period=50, sma_slow_period=350)"
   ]
  },
  {
   "cell_type": "markdown",
   "id": "43a72cc7-d900-46f6-9bbe-a98eb192e607",
   "metadata": {},
   "source": [
    "Now if we want we could print a graph and show when buys and sells are executed using the signal lists."
   ]
  },
  {
   "cell_type": "code",
   "execution_count": 218,
   "id": "b0765b83-8811-4f04-9958-e42eefe1e566",
   "metadata": {},
   "outputs": [],
   "source": [
    "param_grid = {\n",
    "    'lookback': [20, 50],\n",
    "    'threshold': [0.01, 0.02],\n",
    "    'trade_size': [0.05, 0.1],\n",
    "    'sma_fast_period': [20],\n",
    "    'sma_slow_period': [50, 100],\n",
    "    'atr_period': [14],\n",
    "}"
   ]
  },
  {
   "cell_type": "markdown",
   "id": "8e25dfcb-5481-4543-8ca4-369343230d4d",
   "metadata": {},
   "source": [
    "#### Note\n",
    "I am not using many parameters since each backtesting for the df_2 data takes a lot of time"
   ]
  },
  {
   "cell_type": "code",
   "execution_count": 219,
   "id": "8a021a33-0b21-427c-9b2c-114ed93909e1",
   "metadata": {},
   "outputs": [
    {
     "name": "stdout",
     "output_type": "stream",
     "text": [
      "Total backtests to run: 16\n",
      "Running backtest 1/16 with params: {'lookback': 20, 'threshold': 0.01, 'trade_size': 0.05, 'sma_fast_period': 20, 'sma_slow_period': 50, 'atr_period': 14}\n",
      "Running backtest 2/16 with params: {'lookback': 20, 'threshold': 0.01, 'trade_size': 0.05, 'sma_fast_period': 20, 'sma_slow_period': 100, 'atr_period': 14}\n",
      "Running backtest 3/16 with params: {'lookback': 20, 'threshold': 0.01, 'trade_size': 0.1, 'sma_fast_period': 20, 'sma_slow_period': 50, 'atr_period': 14}\n",
      "Running backtest 4/16 with params: {'lookback': 20, 'threshold': 0.01, 'trade_size': 0.1, 'sma_fast_period': 20, 'sma_slow_period': 100, 'atr_period': 14}\n",
      "Running backtest 5/16 with params: {'lookback': 20, 'threshold': 0.02, 'trade_size': 0.05, 'sma_fast_period': 20, 'sma_slow_period': 50, 'atr_period': 14}\n",
      "Running backtest 6/16 with params: {'lookback': 20, 'threshold': 0.02, 'trade_size': 0.05, 'sma_fast_period': 20, 'sma_slow_period': 100, 'atr_period': 14}\n",
      "Running backtest 7/16 with params: {'lookback': 20, 'threshold': 0.02, 'trade_size': 0.1, 'sma_fast_period': 20, 'sma_slow_period': 50, 'atr_period': 14}\n",
      "Running backtest 8/16 with params: {'lookback': 20, 'threshold': 0.02, 'trade_size': 0.1, 'sma_fast_period': 20, 'sma_slow_period': 100, 'atr_period': 14}\n",
      "Running backtest 9/16 with params: {'lookback': 50, 'threshold': 0.01, 'trade_size': 0.05, 'sma_fast_period': 20, 'sma_slow_period': 50, 'atr_period': 14}\n",
      "Running backtest 10/16 with params: {'lookback': 50, 'threshold': 0.01, 'trade_size': 0.05, 'sma_fast_period': 20, 'sma_slow_period': 100, 'atr_period': 14}\n",
      "Running backtest 11/16 with params: {'lookback': 50, 'threshold': 0.01, 'trade_size': 0.1, 'sma_fast_period': 20, 'sma_slow_period': 50, 'atr_period': 14}\n",
      "Running backtest 12/16 with params: {'lookback': 50, 'threshold': 0.01, 'trade_size': 0.1, 'sma_fast_period': 20, 'sma_slow_period': 100, 'atr_period': 14}\n",
      "Running backtest 13/16 with params: {'lookback': 50, 'threshold': 0.02, 'trade_size': 0.05, 'sma_fast_period': 20, 'sma_slow_period': 50, 'atr_period': 14}\n",
      "Running backtest 14/16 with params: {'lookback': 50, 'threshold': 0.02, 'trade_size': 0.05, 'sma_fast_period': 20, 'sma_slow_period': 100, 'atr_period': 14}\n",
      "Running backtest 15/16 with params: {'lookback': 50, 'threshold': 0.02, 'trade_size': 0.1, 'sma_fast_period': 20, 'sma_slow_period': 50, 'atr_period': 14}\n",
      "Running backtest 16/16 with params: {'lookback': 50, 'threshold': 0.02, 'trade_size': 0.1, 'sma_fast_period': 20, 'sma_slow_period': 100, 'atr_period': 14}\n",
      "   lookback  threshold  trade_size  sma_fast_period  sma_slow_period  \\\n",
      "0        50       0.02        0.10               20               50   \n",
      "1        50       0.01        0.10               20               50   \n",
      "2        50       0.02        0.05               20               50   \n",
      "3        50       0.01        0.05               20               50   \n",
      "4        20       0.02        0.10               20              100   \n",
      "\n",
      "   atr_period   final_value  \n",
      "0          14  14318.507559  \n",
      "1          14  12796.778620  \n",
      "2          14  12014.057022  \n",
      "3          14  11365.901677  \n",
      "4          14  11361.169310  \n"
     ]
    }
   ],
   "source": [
    "results_df = grid_search_strategy(MomentumStrategyWithSMApositionSizing, param_grid, df_2)\n",
    "print(results_df.head())"
   ]
  },
  {
   "cell_type": "code",
   "execution_count": 225,
   "id": "d2c441e4-27c4-4c20-821f-179ae644d3fb",
   "metadata": {},
   "outputs": [
    {
     "name": "stdout",
     "output_type": "stream",
     "text": [
      "Strategy: MomentumStrategyWithSMApositionSizing\n",
      "Total trades: 16\n",
      "Winning trades: 9\n",
      "Losing trades: 6\n",
      "Total Net PnL: 3494.18\n",
      "Average Net PnL: 232.95\n",
      "Sharpe Ratio: 1.2491940742060248\n",
      "Max Drawdown: 0.67%\n",
      "Drawdown Duration: 1156 bars\n",
      "===================================\n"
     ]
    }
   ],
   "source": [
    "run_backtest(MomentumStrategyWithSMApositionSizing,datafeed_2, lookback=50, threshold=0.02, trade_size=0.1, sma_fast_period=20,sma_slow_period = 50,atr_period = 14)"
   ]
  },
  {
   "cell_type": "markdown",
   "id": "1d17e4c2-8ef9-4a9c-88c0-1f813bfd9fd9",
   "metadata": {},
   "source": [
    "Here we have only tried 16 combinations but with enough computational power we could increase them significantly. After all that we could see that we can make a good net profit. Let us take for example a strategy with a return of 13500 and start of 10000:\n",
    "#### Annualized Return Calculation\n",
    "\n",
    "We assume an initial investment of \\\\$10,000 that grows to \\\\$13,500 over 3 years.\n",
    "\n",
    "To compute the average annual return, we use the **Compound Annual Growth Rate (CAGR)** formula:\n",
    "\n",
    "$$\n",
    "\\text{CAGR} = \\left( \\frac{V_f}{V_i} \\right)^{\\frac{1}{n}} - 1\n",
    "$$\n",
    "\n",
    "Where:\n",
    "- $ V_f = 13,500 $ is the final value,\n",
    "- $ V_i = 10,000 $ is the initial value,\n",
    "- $ n = 3 $ years.\n",
    "\n",
    "Substituting in the values:\n",
    "\n",
    "$$\n",
    "\\text{CAGR} = \\left( \\frac{13,500}{10,000} \\right)^{\\frac{1}{3}} - 1 = (1.35)^{\\frac{1}{3}} - 1 \\approx 0.1057\n",
    "$$\n",
    "\n",
    "So the **annualized return is approximately 10.57% per year**.\n"
   ]
  },
  {
   "cell_type": "markdown",
   "id": "355f82d3-e475-4125-891a-e15cb459cd03",
   "metadata": {},
   "source": [
    "However, there is another concern to address in this situation. Even though we may have found a strategy with a winning rate that **outperforms benchmarks like the S&P 500, bonds, or even traditional banks**, we must be cautious.\n",
    "\n",
    "The danger lies in the fact that we may simply be **adapting to the asset's historical behavior**, selecting only the parameter combinations that *happen to have worked well* — not because of sound logic, but by chance. This might be overfitting and might perform bad on unseen data.\n",
    "\n",
    "If we were dealing with a machine learning problem **we would approach this using k-fold cross validation and test train splits.** However since we are working with time series the solution to this problem will require other methods. We could use **Time Series Cross-Validation:**\n",
    "- **Expanding window:** You increase the training size with each fold.\n",
    "\n",
    "- **Rolling window:** Keep training window size fixed and roll it forward.\n",
    "\n",
    "- **Walk-Forward Validation**\n",
    "    - You **retrain the model at each step** using the latest available data.\n",
    "    - Each forecast is made for **a single time point** or **a small forecast horizon**.\n",
    "\n"
   ]
  },
  {
   "cell_type": "markdown",
   "id": "27cabd07-09f0-45f5-bc4c-602eeef150c2",
   "metadata": {},
   "source": [
    "For the sake of time, I will implement only one of the following strategies, acknowledging that more could be explored and the best one chosen based on the specific asset."
   ]
  },
  {
   "cell_type": "markdown",
   "id": "c39930c9-b4a4-4542-91d3-d378dc6a5695",
   "metadata": {},
   "source": [
    "### Implementing Time series cross validation"
   ]
  },
  {
   "cell_type": "markdown",
   "id": "2e7c2d8a-0733-407e-94b7-30581e3b1c98",
   "metadata": {},
   "source": [
    "In this section I will try to implement a time series cross validation with grid search in order to **choose the best params while not overfitting the model. Firstly we are going to import ```from sklearn.model_selection import TimeSeriesSplit.```"
   ]
  },
  {
   "cell_type": "markdown",
   "id": "6f172d01-f29d-448f-81df-8fdfa581ff8f",
   "metadata": {},
   "source": [
    "Now we will approach that in the following order:\n",
    "1. **Define a grid of params**\n",
    "2. **Define the cross-validation function**\n",
    "3. **Run the grid search with cross validation**\n"
   ]
  },
  {
   "cell_type": "code",
   "execution_count": 229,
   "id": "e7df7450-a929-45b9-a19e-966ec2330013",
   "metadata": {},
   "outputs": [],
   "source": [
    "from itertools import product\n",
    "\n",
    "param_grid = {\n",
    "    'lookback': [20, 50],\n",
    "    'threshold': [0.01, 0.02],\n",
    "    'trade_size': [0.05, 0.1],\n",
    "    'sma_fast_period': [10, 20],\n",
    "    'sma_slow_period': [30, 50],\n",
    "    'atr_period': [14],\n",
    "}\n",
    "\n",
    "param_combinations = list(product(*param_grid.values()))\n",
    "param_names = list(param_grid.keys())"
   ]
  },
  {
   "cell_type": "code",
   "execution_count": 240,
   "id": "45719fd5-964e-4a1f-b525-ecb401c38f49",
   "metadata": {},
   "outputs": [],
   "source": [
    "from sklearn.model_selection import TimeSeriesSplit\n",
    "\n",
    "def cross_validate_strategy(df, strategy_cls, param_dict, n_splits=3):\n",
    "    tscv = TimeSeriesSplit(n_splits=n_splits)\n",
    "    final_values = []\n",
    "\n",
    "    for train_index, test_index in tscv.split(df):\n",
    "        df_train = df.iloc[train_index].copy()\n",
    "        df_test = df.iloc[test_index].copy()\n",
    "\n",
    "        cerebro = bt.Cerebro()\n",
    "        cerebro.addstrategy(strategy_cls, **param_dict)\n",
    "\n",
    "        data = bt.feeds.PandasData(dataname=pd.concat([df_train, df_test])) # use full data so indicators work\n",
    "        cerebro.adddata(data)\n",
    "\n",
    "        cerebro.broker.setcash(10000)\n",
    "        cerebro.broker.setcommission(commission=0)\n",
    "        cerebro.run()\n",
    "\n",
    "        final_values.append(cerebro.broker.getvalue())\n",
    "\n",
    "    avg_value = sum(final_values) / len(final_values)\n",
    "    return avg_value\n"
   ]
  },
  {
   "cell_type": "code",
   "execution_count": 241,
   "id": "25d26a6c-78fa-4ff4-8964-f59cebcf0ce0",
   "metadata": {},
   "outputs": [
    {
     "data": {
      "text/plain": [
       "list"
      ]
     },
     "execution_count": 241,
     "metadata": {},
     "output_type": "execute_result"
    }
   ],
   "source": [
    "\n",
    "type(results)"
   ]
  },
  {
   "cell_type": "code",
   "execution_count": 244,
   "id": "f785ea6e-08dc-4cda-87f5-8b11ce58fe4e",
   "metadata": {},
   "outputs": [
    {
     "name": "stdout",
     "output_type": "stream",
     "text": [
      "1\n",
      "2\n",
      "3\n",
      "4\n",
      "5\n",
      "6\n",
      "7\n",
      "8\n",
      "9\n",
      "10\n",
      "11\n",
      "12\n",
      "13\n",
      "14\n",
      "15\n",
      "16\n",
      "17\n",
      "18\n",
      "19\n",
      "20\n",
      "21\n",
      "22\n",
      "23\n",
      "24\n",
      "25\n",
      "26\n",
      "27\n",
      "28\n",
      "29\n",
      "30\n",
      "31\n",
      "32\n",
      "    lookback  threshold  trade_size  sma_fast_period  sma_slow_period  \\\n",
      "31        50       0.02        0.10               20               50   \n",
      "23        50       0.01        0.10               20               50   \n",
      "27        50       0.02        0.05               20               50   \n",
      "4         20       0.01        0.10               10               30   \n",
      "29        50       0.02        0.10               10               50   \n",
      "\n",
      "    atr_period  avg_final_value  \n",
      "31          14     12672.416421  \n",
      "23          14     11910.408657  \n",
      "27          14     11274.271528  \n",
      "4           14     11262.476279  \n",
      "29          14     11152.843129  \n"
     ]
    }
   ],
   "source": [
    "results = []\n",
    "counter = 1\n",
    "for combo in param_combinations:\n",
    "    print(counter)\n",
    "    param_dict = dict(zip(param_names, combo))\n",
    "    \n",
    "    if param_dict['sma_fast_period'] >= param_dict['sma_slow_period']:\n",
    "        continue\n",
    "\n",
    "    avg_final_value = cross_validate_strategy(df_2, MomentumStrategyWithSMApositionSizing, param_dict)\n",
    "\n",
    "    results.append({\n",
    "        **param_dict,\n",
    "        'avg_final_value': avg_final_value\n",
    "    })\n",
    "    counter+=1\n",
    "\n",
    "# Convert to DataFrame\n",
    "import pandas as pd\n",
    "results_df = pd.DataFrame(results)\n",
    "results_df = results_df.sort_values(by='avg_final_value', ascending=False)\n",
    "print(results_df.head())\n"
   ]
  },
  {
   "cell_type": "code",
   "execution_count": 248,
   "id": "a6cd5512-204b-49a3-a57f-e939b8e2a9c2",
   "metadata": {},
   "outputs": [
    {
     "name": "stdout",
     "output_type": "stream",
     "text": [
      "Strategy: MomentumStrategyWithSMApositionSizing\n",
      "Total trades: 16\n",
      "Winning trades: 9\n",
      "Losing trades: 6\n",
      "Total Net PnL: 3494.18\n",
      "Average Net PnL: 232.95\n",
      "Sharpe Ratio: 1.2491940742060248\n",
      "Max Drawdown: 0.67%\n",
      "Drawdown Duration: 1156 bars\n",
      "===================================\n"
     ]
    }
   ],
   "source": [
    "run_backtest(MomentumStrategyWithSMApositionSizing,datafeed_2,**param_dict) # This backtest however is not using cross validation but shows us some info."
   ]
  },
  {
   "cell_type": "markdown",
   "id": "7f8af0f5-7727-4972-a3db-5cdd229ad231",
   "metadata": {},
   "source": [
    "This function, however, takes some time to perform, since we not only have to test it on all the different hyperparameter combinations, but also do cross-validation on different time periods of the data. Nevertheless, this is not inherently bad, it is expected and even necessary to ensure that the strategy is robust and not overfitting to a specific period. Investing this computational effort helps us find hyperparameters that generalize well across various market conditions, ultimately leading to more reliable and consistent performance in live trading.\n",
    "\n",
    "#### Note\n",
    "We must also mention that for parameter optimization we could use Random Search or Bayesian Optimization in order to lower the computation time."
   ]
  },
  {
   "cell_type": "markdown",
   "id": "3506e82e-57a5-4c54-a961-79e7a0399534",
   "metadata": {},
   "source": [
    "## Multiple assets evaluation"
   ]
  },
  {
   "cell_type": "markdown",
   "id": "0372d503-f8cc-4198-baf2-931926eac175",
   "metadata": {},
   "source": [
    "It is visible that we can keep modifying our algorithm by adding RSI or bollinger bands, etc. However, I will try to use the simple algorithm we have developed up until now and test it on more then one asset."
   ]
  },
  {
   "cell_type": "code",
   "execution_count": 1,
   "id": "b196eb8e-115d-4ecd-8bb7-b4dbbd99babf",
   "metadata": {},
   "outputs": [],
   "source": [
    "symbols = [\"BTCUSDT\", \"ETHUSDT\", \"BNBUSDT\", \"SOLUSDT\", \"XRPUSDT\"]"
   ]
  },
  {
   "cell_type": "code",
   "execution_count": 9,
   "id": "0a0ce49d-ea6b-4c87-ad9e-2f7aafd54d74",
   "metadata": {},
   "outputs": [],
   "source": [
    "client = Client()"
   ]
  },
  {
   "cell_type": "code",
   "execution_count": 40,
   "id": "c005b371-3906-4137-b037-da3e93310325",
   "metadata": {},
   "outputs": [
    {
     "name": "stdout",
     "output_type": "stream",
     "text": [
      "Fetched 3 years data for BTCUSDT\n",
      "Fetched 3 years data for ETHUSDT\n",
      "Fetched 3 years data for BNBUSDT\n",
      "Fetched 3 years data for SOLUSDT\n",
      "Fetched 3 years data for XRPUSDT\n"
     ]
    }
   ],
   "source": [
    "for symbol in symbols:\n",
    "    try:\n",
    "        df = fetch_hourly_data(symbol, years=3)\n",
    "        data_dict[symbol] = df\n",
    "        print(f\"Fetched 3 years data for {symbol}\")\n",
    "    except Exception as e:\n",
    "        print(f\"Error fetching {symbol}: {e}\")\n"
   ]
  },
  {
   "cell_type": "code",
   "execution_count": 36,
   "id": "d2ced7f7-f4e1-4772-b2ef-7a3cf94c782b",
   "metadata": {},
   "outputs": [
    {
     "name": "stdout",
     "output_type": "stream",
     "text": [
      "Fetched data for BTCUSDT\n",
      "Fetched data for ETHUSDT\n",
      "Fetched data for BNBUSDT\n",
      "Fetched data for SOLUSDT\n",
      "Fetched data for XRPUSDT\n"
     ]
    }
   ],
   "source": [
    "data_dict = {}\n",
    "\n",
    "for symbol in symbols:\n",
    "    try:\n",
    "        df = fetch_binance_klines(symbol, Client.KLINE_INTERVAL_1HOUR, \"1000 hours ago UTC\")\n",
    "        data_dict[symbol] = df\n",
    "        print(f\"Fetched data for {symbol}\")\n",
    "    except Exception as e:\n",
    "        print(f\"Error fetching {symbol}: {e}\")\n"
   ]
  },
  {
   "cell_type": "code",
   "execution_count": 41,
   "id": "2f05477a-2f48-4d12-bb34-ad32c4b3897f",
   "metadata": {},
   "outputs": [
    {
     "name": "stdout",
     "output_type": "stream",
     "text": [
      "\n",
      "Running backtest for BTCUSDT...\n",
      "Strategy: MomentumStrategyWithSMApositionSizing\n",
      "Total trades: 71\n",
      "Winning trades: 30\n",
      "Losing trades: 40\n",
      "Total Net PnL: 197.01\n",
      "Average Net PnL: 2.81\n",
      "Sharpe Ratio: -0.032718887229778566\n",
      "Max Drawdown: 2.36%\n",
      "Drawdown Duration: 3161 bars\n",
      "===================================\n",
      "\n",
      "Running backtest for ETHUSDT...\n",
      "Strategy: MomentumStrategyWithSMApositionSizing\n",
      "Total trades: 90\n",
      "Winning trades: 36\n",
      "Losing trades: 53\n",
      "Total Net PnL: -260.40\n",
      "Average Net PnL: -2.93\n",
      "Sharpe Ratio: -0.17619667044760062\n",
      "Max Drawdown: 5.21%\n",
      "Drawdown Duration: 25249 bars\n",
      "===================================\n",
      "\n",
      "Running backtest for BNBUSDT...\n",
      "Strategy: MomentumStrategyWithSMApositionSizing\n",
      "Total trades: 82\n",
      "Winning trades: 40\n",
      "Losing trades: 41\n",
      "Total Net PnL: 1637.01\n",
      "Average Net PnL: 20.21\n",
      "Sharpe Ratio: 0.5457500468805107\n",
      "Max Drawdown: 4.48%\n",
      "Drawdown Duration: 9624 bars\n",
      "===================================\n",
      "\n",
      "Running backtest for SOLUSDT...\n",
      "Strategy: MomentumStrategyWithSMApositionSizing\n",
      "Total trades: 160\n",
      "Winning trades: 61\n",
      "Losing trades: 98\n",
      "Total Net PnL: 5097.34\n",
      "Average Net PnL: 32.06\n",
      "Sharpe Ratio: 0.9341171261518061\n",
      "Max Drawdown: 8.75%\n",
      "Drawdown Duration: 4178 bars\n",
      "===================================\n",
      "\n",
      "Running backtest for XRPUSDT...\n",
      "Strategy: MomentumStrategyWithSMApositionSizing\n",
      "Total trades: 107\n",
      "Winning trades: 41\n",
      "Losing trades: 65\n",
      "Total Net PnL: 3208.96\n",
      "Average Net PnL: 30.27\n",
      "Sharpe Ratio: 0.6194895472270902\n",
      "Max Drawdown: 6.52%\n",
      "Drawdown Duration: 4245 bars\n",
      "===================================\n"
     ]
    }
   ],
   "source": [
    "strategy_params = {\n",
    "    'lookback': 20,\n",
    "    'threshold': 0.02,\n",
    "    'trade_size': 0.1,\n",
    "    'sma_fast_period': 20,\n",
    "    'sma_slow_period': 50,\n",
    "    'atr_period': 14,\n",
    "}\n",
    "\n",
    "# Now loop through all symbols\n",
    "for symbol, df in data_dict.items():\n",
    "    print(f\"\\nRunning backtest for {symbol}...\")\n",
    "\n",
    "    # Create Backtrader datafeed from each DataFrame\n",
    "    datafeed = bt.feeds.PandasData(dataname=df)\n",
    "\n",
    "    # Run backtest for this datafeed and strategy\n",
    "    run_backtest(MomentumStrategyWithSMApositionSizing, datafeed, **strategy_params)"
   ]
  },
  {
   "cell_type": "markdown",
   "id": "0c68c8c6-1ac8-45b0-b1d4-a759b8f0e8af",
   "metadata": {},
   "source": [
    "We got the results (we used static params). The results however differ depending on the asset that we used for trading."
   ]
  },
  {
   "cell_type": "markdown",
   "id": "5918168f-01f1-4319-8496-640d8c7cc379",
   "metadata": {},
   "source": [
    "### Resources \n",
    "- https://medium.com/funny-ai-quant/momentum-based-strategy-optimization-with-grid-search-on-backtrader-8c0d6cd1cc36\n",
    "- https://www.a1trading.com/how-to-calculate-the-right-lot-size-for-forex-trading/#:~:text=To%20calculate%20the%20correct%20lot%20size%20for%20a,away%20is%20your%20stop%20loss%20from%20your%20entry%3F\n",
    "- https://quantstrattrader.com/2016/01/13/on-the-relationship-between-the-sma-and-momentum/"
   ]
  },
  {
   "cell_type": "code",
   "execution_count": null,
   "id": "5272c5ee-db6b-48a6-bf8c-7106c1685ea4",
   "metadata": {},
   "outputs": [],
   "source": []
  },
  {
   "cell_type": "code",
   "execution_count": null,
   "id": "7bfba520-a100-4f59-afe9-bf9b9e51ec5c",
   "metadata": {},
   "outputs": [],
   "source": []
  }
 ],
 "metadata": {
  "kernelspec": {
   "display_name": "Python 3 (ipykernel)",
   "language": "python",
   "name": "python3"
  },
  "language_info": {
   "codemirror_mode": {
    "name": "ipython",
    "version": 3
   },
   "file_extension": ".py",
   "mimetype": "text/x-python",
   "name": "python",
   "nbconvert_exporter": "python",
   "pygments_lexer": "ipython3",
   "version": "3.10.0"
  }
 },
 "nbformat": 4,
 "nbformat_minor": 5
}
