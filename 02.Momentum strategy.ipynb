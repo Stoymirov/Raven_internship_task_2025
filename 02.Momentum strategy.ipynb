{
 "cells": [
  {
   "cell_type": "code",
   "execution_count": 1,
   "id": "f8693086-9e25-4455-86f4-5e8757d5dd55",
   "metadata": {},
   "outputs": [],
   "source": [
    "import pandas as pd\n",
    "from binance.client import Client\n",
    "import backtrader as bt\n",
    "import matplotlib.pyplot as plt\n",
    "import mplfinance as mpf\n",
    "import itertools\n",
    "import numpy as np\n",
    "import seaborn as sns\n",
    "%matplotlib inline\n",
    "import yfinance as yf\n",
    "from sklearn.model_selection import TimeSeriesSplit\n",
    "import time\n",
    "from datetime import datetime, timedelta\n",
    "from itertools import product\n",
    "import pprint"
   ]
  },
  {
   "cell_type": "markdown",
   "id": "41a825fd-8763-4566-a586-dc96eb3c369e",
   "metadata": {},
   "source": [
    "### Premise on the workflow\n",
    "This workflow is designed to closely follow my thought process. At points where the code is modified from earlier versions, I explain the reasons behind the changes, including any mistakes identified and room for improvement. This approach aims to provide insight into the development and analysis steps, helping the reader understand why certain adjustments were made. At points it might have been better to simply rewrite the old code, but this would miss the thinking process."
   ]
  },
  {
   "cell_type": "markdown",
   "id": "0be4c6e2-9c01-4edd-9f95-79204fa8e2c9",
   "metadata": {},
   "source": [
    "# Momentum + SMA crossover strategy development plan\n",
    "\n",
    "\n",
    "## 1. Strategy Implementation  \n",
    "\n",
    "### Momentum strategy  \n",
    "- Use **momentum indicator** over a lookback window to detect trends  \n",
    "- Adjust position sizing dynamically based on volatility (ATR) and conviction (momentum strength × volume)  \n",
    "\n",
    "### SMA Crossover strategy  \n",
    "- Define **short-term (fast) and long-term (slow) SMAs** as additional signals  \n",
    "- Generate buy signals when fast SMA crosses above slow SMA  \n",
    "- Generate sell signals when fast SMA crosses below slow SMA  \n",
    "\n",
    "\n",
    "## 2. Backtesting engine  \n",
    "- Use the **Backtrader framework** to simulate historical trades for the different strategies and modifications  \n",
    "- Feed combined historical data for indicators and price  \n",
    "- Implement cross-validation\n",
    "- Collect final portfolio values for performance comparison  \n",
    "\n",
    "\n",
    "## 3. Performance analysis  \n",
    "- Calculate key metrics for each strategy and their combinations:  \n",
    "  - Total return  \n",
    "  - Sharpe Ratio  \n",
    "  - Maximum Drawdown  \n",
    "  - Win Rate (percentage of profitable trades)  \n",
    "- Compare momentum-only, SMA-only, and combined strategy performance  \n",
    "\n",
    "\n",
    "## 4. Visualization  \n",
    "- Plot assets\n",
    "- Plot price charts with buy/sell markers\n",
    "- Show equity curves side-by-side to visualize strategy growth over time  \n",
    "\n",
    "\n",
    "\n",
    "\n",
    "## 5. Parameter optimization and cross validation  \n",
    "- Perform grid search over key hyperparameters such as:  \n",
    "  - Momentum lookback window  \n",
    "  - Momentum threshold  \n",
    "  - SMA fast and slow periods  \n",
    "  - ATR period for volatility adjustment  \n",
    "- Use **cross-validation** with multiple time splits to avoid overfitting  \n",
    "\n",
    "\n",
    "\n",
    "## 6. Conclusion and Insights  \n",
    "- Summarize how momentum and SMA crossover strategies individually and jointly perform  \n",
    "- Discuss when momentum signals are more effective and when SMA crossovers help  \n",
    "- Reflect on:  \n",
    "  - Strengths and weaknesses of each approach  \n",
    "  - Impact of volatility and conviction weighting on position sizing  \n",
    "  - Future improvements: adding machine learning signals, risk management (e.g., drawdown control), or more complex indicators  \n"
   ]
  },
  {
   "cell_type": "markdown",
   "id": "6f15181b-8965-4a2d-b7d2-525a2d90b75d",
   "metadata": {},
   "source": [
    "## Initial model"
   ]
  },
  {
   "cell_type": "markdown",
   "id": "476c3761-5138-43ac-b4f7-0a0609f10fae",
   "metadata": {},
   "source": [
    "We will start small. We are going to begin by implementing a very basic momentum trading strategy and then go ahead from there.\n",
    "- If the price has gone up a lot over the last $N$ days, we buy\n",
    "- If the price has dropped over the last $N$ days, we sel\n",
    "\n",
    "For this purpose we are going to use ```backtrader```\n"
   ]
  },
  {
   "cell_type": "markdown",
   "id": "108f4dc1-c74e-40a3-a361-6880aa0be190",
   "metadata": {},
   "source": [
    "We are going to create a ```MomentumStrategy``` class where we we calculate the momentum over the last ```lookback``` days using the formula: $$\n",
    "\\text{Momentum}_t = \\frac{P_t - P_{t - L}}{P_{t - L}} = \\frac{P_t}{P_{t - L}} - 1\n",
    "$$"
   ]
  },
  {
   "cell_type": "code",
   "execution_count": 2,
   "id": "aa2237dd-bf11-44b6-b9aa-45981e3f7306",
   "metadata": {},
   "outputs": [],
   "source": [
    "class MomentumStrategy(bt.Strategy):\n",
    "    params = (\n",
    "        ('lookback', 20),\n",
    "        ('threshold', 0.01),\n",
    "        ('trade_size', 0.1),\n",
    "    )\n",
    "\n",
    "    def __init__(self):\n",
    "        self.equity_curve = []\n",
    "\n",
    "    def next(self):\n",
    "        if len(self) < self.p.lookback:\n",
    "            self.equity_curve.append(self.broker.getvalue())\n",
    "            return \n",
    "\n",
    "        momentum = (self.data.close[0] / self.data.close[-self.p.lookback]) - 1\n",
    "        size = (self.broker.getvalue() * self.p.trade_size) / self.data.close[0]\n",
    "\n",
    "        # conditions to sell\n",
    "        if momentum < -self.p.threshold and self.position.size > 0:\n",
    "            self.close()\n",
    "\n",
    "        # conditions to buy\n",
    "        elif momentum > self.p.threshold and not self.position:\n",
    "            if size > 0:\n",
    "                self.buy(size=size)\n",
    "            else:\n",
    "                print(\"Calculated size too small to buy\")\n",
    "\n",
    "        self.equity_curve.append(self.broker.getvalue())\n"
   ]
  },
  {
   "cell_type": "markdown",
   "id": "4cacf88c-728f-4cee-a5c7-02118ab68bf4",
   "metadata": {},
   "source": [
    "We start by defining key parameters such as lookback, threshold, and trade_size. The momentum is calculated using these parameters based on historical price data.\n",
    "\n",
    "- In the ```next``` method, we first check if we have enough data to calculate momentum. Once we have enough information, we compute the momentum value.\n",
    "\n",
    "- If the momentum falls below the negative threshold and we currently hold a position, we sell to exit the trade.\n",
    "\n",
    "Conversely, if the momentum rises above the positive threshold and we do not hold any position, we buy a calculated amount of shares based on our portfolio size and the **trade_size** parameter."
   ]
  },
  {
   "cell_type": "markdown",
   "id": "ad67c876-240f-4441-99ed-c87c427f3fe2",
   "metadata": {},
   "source": [
    "### Doing backtesting on the small engine\n",
    "\n",
    "For the purpose of backtesting I am going to use \"Cerebro engine\". Before doing that I will run ```pip install python-binance``` to get access to information about the market."
   ]
  },
  {
   "cell_type": "code",
   "execution_count": 3,
   "id": "eea17fa0-a085-4451-a50b-ed884411e7eb",
   "metadata": {},
   "outputs": [
    {
     "name": "stdout",
     "output_type": "stream",
     "text": [
      "                          Open       High        Low      Close     Volume\n",
      "Open time                                                                 \n",
      "2025-06-03 18:00:00  105943.99  106047.62  105592.17  106013.15  412.44980\n",
      "2025-06-03 19:00:00  106013.15  106428.58  106013.15  106238.81  403.87736\n",
      "2025-06-03 20:00:00  106238.81  106254.92  105353.50  105738.69  512.78907\n",
      "2025-06-03 21:00:00  105738.70  105847.71  105274.95  105367.93  366.43282\n",
      "2025-06-03 22:00:00  105367.92  105902.93  105308.00  105743.74  299.07218\n"
     ]
    }
   ],
   "source": [
    "\n",
    "\n",
    "\n",
    "client = Client()\n",
    "\n",
    "# FGet info for the last 1000 hours, 1 hour kline\n",
    "klines = client.get_historical_klines(\"BTCUSDT\", Client.KLINE_INTERVAL_1HOUR, \"1000 hours ago UTC\")\n",
    "\n",
    "# Convert to DataFrame and select columns\n",
    "df = pd.DataFrame(klines, columns=[\n",
    "    'Open time', 'Open', 'High', 'Low', 'Close', 'Volume',\n",
    "    'Close time', 'Quote asset volume', 'Number of trades',\n",
    "    'Taker buy base asset volume', 'Taker buy quote asset volume', 'Ignore'])\n",
    "\n",
    "# convert the timestamps\n",
    "df['Open time'] = pd.to_datetime(df['Open time'], unit='ms')\n",
    "df['Close time'] = pd.to_datetime(df['Close time'], unit='ms')\n",
    "\n",
    "# Keep only useful columns for backtesting\n",
    "df = df[['Open time', 'Open', 'High', 'Low', 'Close', 'Volume']]\n",
    "\n",
    "# To float\n",
    "df[['Open', 'High', 'Low', 'Close', 'Volume']] = df[['Open', 'High', 'Low', 'Close', 'Volume']].astype(float)\n",
    "\n",
    "# Set 'Open time' as the datetime index for mplfinance compatibility, we will use that later on\n",
    "df.set_index('Open time', inplace=True)\n",
    "\n",
    "print(df.head())\n"
   ]
  },
  {
   "cell_type": "code",
   "execution_count": 4,
   "id": "517ade70-8ac2-45d4-ba5b-3f71f662b6c3",
   "metadata": {},
   "outputs": [
    {
     "data": {
      "image/png": "[encoded data removed]",
      "text/plain": [
       "<Figure size 1200x600 with 1 Axes>"
      ]
     },
     "metadata": {},
     "output_type": "display_data"
    }
   ],
   "source": [
    "lookback = 20\n",
    "\n",
    "df['momentum'] = df['Close'].pct_change(lookback)\n",
    "\n",
    "plt.figure(figsize=(12, 6))\n",
    "plt.plot(df.index[lookback:], df['momentum'].dropna(), label='Momentum', color='blue')\n",
    "plt.axhline(y=0.01, color='green', linestyle='--', label='Buy Threshold')\n",
    "plt.axhline(y=-0.01, color='red', linestyle='--', label='Sell Threshold')\n",
    "plt.title(f'{lookback}-Hour Momentum Signal on BTC/USDT')\n",
    "plt.xlabel('Date')\n",
    "plt.ylabel('Momentum')\n",
    "plt.legend()\n",
    "plt.grid(True)\n",
    "plt.show()\n"
   ]
  },
  {
   "cell_type": "markdown",
   "id": "c892a8e9-3083-404a-9d06-a9a5ec421229",
   "metadata": {},
   "source": [
    "Now we plotted, starting from the first of june up until now, how the momentul is changing each they as well as plotted the threshholds for buying and selling."
   ]
  },
  {
   "cell_type": "markdown",
   "id": "62732103-f6aa-4b29-a6f9-8c15c1cceda8",
   "metadata": {},
   "source": [
    "We will also plot the asset data."
   ]
  },
  {
   "cell_type": "code",
   "execution_count": 5,
   "id": "ccb19022-0641-4bc8-bb9b-91a29426604f",
   "metadata": {},
   "outputs": [
    {
     "name": "stderr",
     "output_type": "stream",
     "text": [
      "C:\\Users\\mitko\\AppData\\Local\\Programs\\Python\\Python310\\lib\\site-packages\\mplfinance\\_arg_validators.py:84: UserWarning: \n",
      "\n",
      " ================================================================= \n",
      "\n",
      "   WARNING: YOU ARE PLOTTING SO MUCH DATA THAT IT MAY NOT BE\n",
      "            POSSIBLE TO SEE DETAILS (Candles, Ohlc-Bars, Etc.)\n",
      "   For more information see:\n",
      "   - https://github.com/matplotlib/mplfinance/wiki/Plotting-Too-Much-Data\n",
      "   \n",
      "   TO SILENCE THIS WARNING, set `type='line'` in `mpf.plot()`\n",
      "   OR set kwarg `warn_too_much_data=N` where N is an integer \n",
      "   LARGER than the number of data points you want to plot.\n",
      "\n",
      " ================================================================ \n",
      "  warnings.warn('\\n\\n ================================================================= '+\n"
     ]
    },
    {
     "data": {
      "image/png": "[encoded data removed]",
      "text/plain": [
       "<Figure size 800x575 with 4 Axes>"
      ]
     },
     "metadata": {},
     "output_type": "display_data"
    }
   ],
   "source": [
    "\n",
    "mpf.plot(df, type='candle', volume=True, style='classic')\n",
    "\n",
    "plt.show()"
   ]
  },
  {
   "cell_type": "markdown",
   "id": "0d65d780-f2dc-439e-a9c3-7b673056f7ad",
   "metadata": {},
   "source": [
    "Now that we can visually see we can go forward and try to do simple backtesting. Before that I will rename the columns for conviniency."
   ]
  },
  {
   "cell_type": "code",
   "execution_count": 6,
   "id": "a738d1b6-2e91-4ec8-a483-283a7e8ef633",
   "metadata": {},
   "outputs": [],
   "source": [
    "df.rename(columns={\n",
    "    'Open': 'open',\n",
    "    'High': 'high',\n",
    "    'Low': 'low',\n",
    "    'Close': 'close',\n",
    "    'Volume': 'volume'\n",
    "}, inplace=True)"
   ]
  },
  {
   "cell_type": "markdown",
   "id": "1d8772da-24ef-4d31-97af-8e50c9b56365",
   "metadata": {},
   "source": [
    "Let us create a datafeed."
   ]
  },
  {
   "cell_type": "code",
   "execution_count": 7,
   "id": "9ce11f62-ea0e-424f-b891-e27107c1fa83",
   "metadata": {},
   "outputs": [],
   "source": [
    "datafeed = bt.feeds.PandasData(dataname=df)"
   ]
  },
  {
   "cell_type": "code",
   "execution_count": 8,
   "id": "0db65a72-88ad-46db-b4d9-71590947c087",
   "metadata": {},
   "outputs": [],
   "source": [
    "INITIAL_CASH = 10000\n",
    "cerebro = bt.Cerebro()\n",
    "\n",
    "cerebro.addstrategy(MomentumStrategy, lookback=20, threshold=0.02, trade_size=0.1) # We also can adjust the params here.\n",
    "\n",
    "cerebro.adddata(datafeed)\n",
    "\n",
    "cerebro.broker.setcash(INITIAL_CASH)\n",
    "\n",
    "# I am not going to set commission since we assume that we are trading in a firm and have no commissions.\n",
    "results = cerebro.run()"
   ]
  },
  {
   "cell_type": "code",
   "execution_count": 9,
   "id": "d2c4fbdc-cc19-4ce7-b7b4-4e15535d5aff",
   "metadata": {},
   "outputs": [
    {
     "name": "stdout",
     "output_type": "stream",
     "text": [
      "Final Portfolio Value: 10141.35\n"
     ]
    }
   ],
   "source": [
    "print(f\"Final Portfolio Value: {cerebro.broker.getvalue():.2f}\")"
   ]
  },
  {
   "cell_type": "markdown",
   "id": "88389d26-1772-4077-b092-1796c9a37918",
   "metadata": {},
   "source": [
    "I want to notice that I used to get a value 10000 for the portfolio. Therefore no trades were made. We have not bought, our position stays at zero, we can not sell. Where is this problem coming from? After some observation we can notice that we are using ```size = int((self.broker.getvalue() * self.p.trade_size) / close_price)``` which returns 0 if the value is less than 0. Since we are buyin Bitcoins, we are never buying more than 1 bitcoin at a time. After removing the parsing to int the problem is no longer there.\n",
    "\n",
    "Okey, we got a result and we see that we have increased our portfolio with not too many dollars. It is a possitive increase but not hing impresive. Let us analyze some more this result before moving to improvements.\n",
    "\n",
    "I will add analyzers, do backtesting and also plot the equity curve, showing how our portfolio grows with time. Later on I will take the backtesting in a function for conviniency"
   ]
  },
  {
   "cell_type": "code",
   "execution_count": 10,
   "id": "b5aadb61-9c2b-4dad-a042-9fe01efffc05",
   "metadata": {},
   "outputs": [],
   "source": [
    "cerebro.addanalyzer(bt.analyzers.TradeAnalyzer, _name='trades')\n",
    "cerebro.addanalyzer(bt.analyzers.SharpeRatio_A, _name='sharpe', timeframe=bt.TimeFrame.Days)\n",
    "cerebro.addanalyzer(bt.analyzers.DrawDown, _name='drawdown')"
   ]
  },
  {
   "cell_type": "code",
   "execution_count": 11,
   "id": "ca1406df-caf2-484f-b456-0e4404d658c5",
   "metadata": {},
   "outputs": [],
   "source": [
    "results = cerebro.run()\n",
    "strat = results[0]\n"
   ]
  },
  {
   "cell_type": "code",
   "execution_count": 12,
   "id": "9f7345e9-59b0-440f-bbe3-21768d17aa7b",
   "metadata": {},
   "outputs": [
    {
     "data": {
      "image/png": "[encoded data removed]",
      "text/plain": [
       "<Figure size 1200x600 with 1 Axes>"
      ]
     },
     "metadata": {},
     "output_type": "display_data"
    }
   ],
   "source": [
    "plt.figure(figsize=(12, 6))\n",
    "plt.plot(strat.equity_curve, label='Portfolio Value')\n",
    "plt.title('Equity Curve')\n",
    "plt.xlabel('Time Step')\n",
    "plt.ylabel('Portfolio Value')\n",
    "plt.legend()\n",
    "plt.grid(True)\n",
    "plt.show()\n"
   ]
  },
  {
   "cell_type": "code",
   "execution_count": 13,
   "id": "023c5f39-3189-478e-9d6b-c60b6606ea9e",
   "metadata": {},
   "outputs": [
    {
     "name": "stdout",
     "output_type": "stream",
     "text": [
      "Total trades: 4\n",
      "Open trades: 0\n",
      "Closed trades: 4\n",
      "Winning trades: 3\n",
      "Losing trades: 1\n",
      "Total Net PnL: 141.35\n",
      "Average Net PnL: 35.34\n"
     ]
    }
   ],
   "source": [
    "\n",
    "trade_stats = strat.analyzers.trades.get_analysis()\n",
    "\n",
    "# Total trades\n",
    "total_trades = trade_stats.total.total\n",
    "open_trades = trade_stats.total.open\n",
    "closed_trades = trade_stats.total.closed\n",
    "\n",
    "# Wins and losses\n",
    "won = trade_stats.won.total\n",
    "lost = trade_stats.lost.total\n",
    "\n",
    "# PnL\n",
    "total_net_pnl = trade_stats.pnl.net.total\n",
    "average_net_pnl = trade_stats.pnl.net.average\n",
    "\n",
    "print(f\"Total trades: {total_trades}\")\n",
    "print(f\"Open trades: {open_trades}\")\n",
    "print(f\"Closed trades: {closed_trades}\")\n",
    "print(f\"Winning trades: {won}\")\n",
    "print(f\"Losing trades: {lost}\")\n",
    "print(f\"Total Net PnL: {total_net_pnl:.2f}\")\n",
    "print(f\"Average Net PnL: {average_net_pnl:.2f}\")"
   ]
  },
  {
   "cell_type": "code",
   "execution_count": 14,
   "id": "05590733-7993-40ee-a282-8f0a010bef0d",
   "metadata": {},
   "outputs": [
    {
     "name": "stdout",
     "output_type": "stream",
     "text": [
      "Sharpe Ratio: 3.257710654996289\n",
      "Max Drawdown: 0.38%\n",
      "Drawdown Duration: 26 bars\n"
     ]
    }
   ],
   "source": [
    "sharpe = strat.analyzers.sharpe.get_analysis()\n",
    "drawdown = strat.analyzers.drawdown.get_analysis()\n",
    "\n",
    "print(\"Sharpe Ratio:\", sharpe.get('sharperatio', 'N/A'))\n",
    "print(f\"Max Drawdown: {drawdown.drawdown:.2f}%\")\n",
    "print(f\"Drawdown Duration: {drawdown.len} bars\")"
   ]
  },
  {
   "cell_type": "markdown",
   "id": "6f1c2af2-0b6f-4532-ac2f-e10df64baaeb",
   "metadata": {},
   "source": [
    "### Improving the simple model\n",
    "Based on the information above, we can conclude that our model functions but is far from optimal. Next, we will work on making it more complex and improving its performance. The first thing that might come to mind is how we actually decide on the hyperparameters we are using such as the threshhold and the trade size. There are a couple approaches when it comes to choosing those:\n",
    "\n",
    "\n",
    "- **Grid Search**  \n",
    "  Try all combinations of discrete values\n",
    "\n",
    "- **Random Search**  \n",
    "  Randomly sample combinations from the hyperparameter space\n",
    "\n",
    "- **Bayesian Optimization**  \n",
    "  Use prior evaluations to guide the search (e.g., maximize Sharpe ratio)\n",
    "\n",
    "- **Walk-Forward Optimization**  \n",
    "  1. Train on time window $$[t, t+k]$$  \n",
    "  2. Test on $$[t+k+1, t+2k]$$  \n",
    "  3. Slide the window forward\n"
   ]
  },
  {
   "cell_type": "markdown",
   "id": "c7283851-c909-453f-9d2f-60e82b33e84b",
   "metadata": {},
   "source": [
    "Before implementing GridSearch, we should ensure that the parameter values are not chosen arbitrarily, but are instead grounded in reasonable assumptions and sound trading principles. For instance, a trade size of 0.3 or 0.4 is clearly unreasonable, as it allocates a disproportionately large portion of the capital to a single trade, which significantly increases risk."
   ]
  },
  {
   "cell_type": "code",
   "execution_count": 15,
   "id": "be693e34-ea8a-41b3-a92f-2a355610cc48",
   "metadata": {},
   "outputs": [
    {
     "name": "stdout",
     "output_type": "stream",
     "text": [
      " Top Results:\n",
      "    lookback  threshold  trade_size   final_value\n",
      "26        10       0.02        0.09  10158.160395\n",
      "17        10       0.01        0.09  10157.837282\n",
      "25        10       0.02        0.08  10140.602413\n",
      "16        10       0.01        0.08  10140.237894\n",
      "44        20       0.01        0.09  10129.777836\n"
     ]
    }
   ],
   "source": [
    "class BinanceData(bt.feeds.PandasData):\n",
    "    params = (\n",
    "        ('datetime', None),\n",
    "        ('open', 'Open'),\n",
    "        ('high', 'High'),\n",
    "        ('low', 'Low'),\n",
    "        ('close', 'Close'),\n",
    "        ('volume', 'Volume'),\n",
    "        ('openinterest', -1),\n",
    "    )\n",
    "lookbacks = [10, 20, 50]\n",
    "thresholds = [0.005, 0.01, 0.02]\n",
    "trade_sizes = np.arange(0.01,0.1,0.01)\n",
    "\n",
    "results = []\n",
    "\n",
    "for lookback, threshold, trade_size in itertools.product(lookbacks, thresholds, trade_sizes):\n",
    "    cerebro = bt.Cerebro()\n",
    "    cerebro.addstrategy(MomentumStrategy,\n",
    "                        lookback=lookback,\n",
    "                        threshold=threshold,\n",
    "                        trade_size=trade_size)\n",
    "    \n",
    "    data = BinanceData(dataname=df)\n",
    "    cerebro.adddata(data)\n",
    "\n",
    "    cerebro.broker.setcash(10000)\n",
    "    cerebro.broker.setcommission(commission=0)\n",
    "    cerebro.run()\n",
    "\n",
    "    final_value = cerebro.broker.getvalue()\n",
    "    results.append({\n",
    "        'lookback': lookback,\n",
    "        'threshold': threshold,\n",
    "        'trade_size': trade_size,\n",
    "        'final_value': final_value\n",
    "    })\n",
    "results_df = pd.DataFrame(results)\n",
    "results_df = results_df.sort_values(by='final_value', ascending=False)\n",
    "\n",
    "print(\" Top Results:\")\n",
    "print(results_df.head())"
   ]
  },
  {
   "cell_type": "markdown",
   "id": "59cefd10-9ed8-4290-b67e-f920ab552868",
   "metadata": {},
   "source": [
    "What we did here was to create a custom class BinanceData mapping some info. Then we choose 90 different combinations of hyperparamethers, tried each, ran a backtest and showed the best results."
   ]
  },
  {
   "cell_type": "markdown",
   "id": "633c9e48-3023-4ac4-b0f3-07a1a8e63157",
   "metadata": {},
   "source": [
    "## Momentum with SMA"
   ]
  },
  {
   "cell_type": "markdown",
   "id": "a53e0ed2-c5c0-4213-8e78-b734a3eacb1b",
   "metadata": {},
   "source": [
    "If we make the trade size bigger we will notice that we can increase the final value, however this comes with a lot of risk. For now we will leave that and do something else. **Our model is still extremely simply and we are going to make it a bit more complex.** I am going to try and implement a **SMA crossover.** For this purpose I will\n",
    "- Define short-term and long-term SMAs  \n",
    "- Generate **buy signals** when the short SMA crosses above the long SMA  \n",
    "- Generate **sell signals** when the short SMA crosses below the long SMA\n",
    "\n",
    "Let's add this to our model."
   ]
  },
  {
   "cell_type": "code",
   "execution_count": 16,
   "id": "5a50defd-a4c9-4eba-8c9d-9b2fd888522b",
   "metadata": {},
   "outputs": [],
   "source": [
    "\n",
    "class MomentumStrategyWithSMA(bt.Strategy):\n",
    "    params = (\n",
    "        ('lookback', 20),\n",
    "        ('threshold', 0.01),\n",
    "        ('trade_size', 0.1),\n",
    "        ('sma_fast_period', 10),  \n",
    "        ('sma_slow_period', 30), \n",
    "    )\n",
    "    \n",
    "    def __init__(self):\n",
    "        self.sma_fast = bt.indicators.SimpleMovingAverage(self.data.close, period=self.p.sma_fast_period)\n",
    "        self.sma_slow = bt.indicators.SimpleMovingAverage(self.data.close, period=self.p.sma_slow_period)\n",
    "        self.crossover = bt.indicators.CrossOver(self.sma_fast, self.sma_slow)  # +1 when fast crosses above slow, -1 when below\n",
    "    \n",
    "    def next(self):\n",
    "        if len(self.data) < max(self.p.lookback, self.p.sma_slow_period):\n",
    "            return \n",
    "\n",
    "        momentum = (self.data.close[0] / self.data.close[-self.p.lookback]) - 1\n",
    "        size = (self.broker.getvalue() * self.p.trade_size) / self.data.close[0]\n",
    "\n",
    "       \n",
    "        if momentum < -self.p.threshold and self.position.size > 0 and self.crossover < 0:\n",
    "            self.close()\n",
    "\n",
    "        \n",
    "        elif momentum > self.p.threshold and not self.position and self.crossover > 0:\n",
    "            if size > 0:\n",
    "                self.buy(size=size)\n",
    "            else:\n",
    "                print(\"Calculated size too small to buy\")\n"
   ]
  },
  {
   "cell_type": "markdown",
   "id": "a4ea1d58-486d-433e-a9d9-34aeee2fac4f",
   "metadata": {},
   "source": [
    "Since we will be running a lot of backtests, it might be a good idea to take it into a function"
   ]
  },
  {
   "cell_type": "code",
   "execution_count": 17,
   "id": "9d99b268-729c-449b-ba4d-5a8fa22aafc3",
   "metadata": {},
   "outputs": [],
   "source": [
    "def run_backtest(strategy_class, data, initial_cash=10000, commission=0, **strategy_params):\n",
    "    cerebro = bt.Cerebro()\n",
    "    cerebro.addstrategy(strategy_class, **strategy_params)\n",
    "    cerebro.adddata(data)\n",
    "    cerebro.broker.setcash(initial_cash)\n",
    "    cerebro.broker.setcommission(commission=commission)\n",
    "\n",
    "    # Add analyzers\n",
    "    cerebro.addanalyzer(bt.analyzers.TradeAnalyzer, _name='trades')\n",
    "    cerebro.addanalyzer(bt.analyzers.SharpeRatio_A, _name='sharpe', timeframe=bt.TimeFrame.Days)\n",
    "    cerebro.addanalyzer(bt.analyzers.DrawDown, _name='drawdown')\n",
    "\n",
    "    results = cerebro.run()\n",
    "    strat = results[0]\n",
    "\n",
    "    trade_stats = strat.analyzers.trades.get_analysis()\n",
    "    sharpe = strat.analyzers.sharpe.get_analysis()\n",
    "    drawdown = strat.analyzers.drawdown.get_analysis()\n",
    "\n",
    "    stats = {\n",
    "        'final_value': cerebro.broker.getvalue(),\n",
    "        'total_trades': trade_stats.get('total', {}).get('total', 0),\n",
    "        'won': trade_stats.get('won', {}).get('total', 0),\n",
    "        'lost': trade_stats.get('lost', {}).get('total', 0),\n",
    "        'pnl_total': trade_stats.get('pnl', {}).get('net', {}).get('total', 0),\n",
    "        'pnl_avg': trade_stats.get('pnl', {}).get('net', {}).get('average', 0),\n",
    "        'sharpe': sharpe.get('sharperatio', 'N/A'),\n",
    "        'max_drawdown': drawdown.drawdown,\n",
    "        'drawdown_duration': drawdown.len\n",
    "    }\n",
    "\n",
    "    return strat, stats\n"
   ]
  },
  {
   "cell_type": "markdown",
   "id": "645d47e0-a9f9-40a4-98ec-73c590fce085",
   "metadata": {},
   "source": [
    "Having that I am going to run backtests on both strategies to see results"
   ]
  },
  {
   "cell_type": "code",
   "execution_count": 18,
   "id": "81688fa3-16eb-4f25-99e6-488bed993d34",
   "metadata": {},
   "outputs": [],
   "source": [
    "strat1, stats1 = run_backtest(MomentumStrategy,datafeed, lookback=20, threshold=0.01, trade_size=0.1)\n",
    "strat2, stats2 = run_backtest(MomentumStrategyWithSMA,datafeed, lookback=20, threshold=0.01, trade_size=0.1, sma_fast_period=10, sma_slow_period=50)"
   ]
  },
  {
   "cell_type": "code",
   "execution_count": 19,
   "id": "df3c3ade-1d92-438a-9cf9-709a38bc417d",
   "metadata": {},
   "outputs": [
    {
     "name": "stdout",
     "output_type": "stream",
     "text": [
      "Stats for MomentumStrategy:\n",
      "{ 'drawdown_duration': 26,\n",
      "  'final_value': 10144.229391833518,\n",
      "  'lost': 5,\n",
      "  'max_drawdown': 0.2932944354914176,\n",
      "  'pnl_avg': 16.025487981501747,\n",
      "  'pnl_total': 144.22939183351573,\n",
      "  'sharpe': 3.4854173644042232,\n",
      "  'total_trades': 9,\n",
      "  'won': 4}\n",
      "\n",
      "Stats for MomentumStrategyWithSMA:\n",
      "{ 'drawdown_duration': 284,\n",
      "  'final_value': 10078.236038318271,\n",
      "  'lost': 0,\n",
      "  'max_drawdown': 0.12274958684236169,\n",
      "  'pnl_avg': 39.11801915913598,\n",
      "  'pnl_total': 78.23603831827197,\n",
      "  'sharpe': 1.8587250313980614,\n",
      "  'total_trades': 2,\n",
      "  'won': 2}\n"
     ]
    }
   ],
   "source": [
    "pp = pprint.PrettyPrinter(indent=2)\n",
    "\n",
    "print(\"Stats for MomentumStrategy:\")\n",
    "pp.pprint(stats1)\n",
    "\n",
    "print(\"\\nStats for MomentumStrategyWithSMA:\")\n",
    "pp.pprint(stats2)\n"
   ]
  },
  {
   "cell_type": "code",
   "execution_count": 20,
   "id": "6b98e3f2-2798-424d-8813-248a575cc036",
   "metadata": {},
   "outputs": [],
   "source": [
    "def grid_search_strategy(strategy_class, param_grid, data_df, initial_cash=10000, commission=0):\n",
    "    keys, values = zip(*param_grid.items())\n",
    "    param_combinations = [dict(zip(keys, v)) for v in itertools.product(*values)]\n",
    "\n",
    "    results = []\n",
    "    total_runs = len(param_combinations)\n",
    "    print(f\"Total backtests to run: {total_runs}\")\n",
    "\n",
    "    for i, params in enumerate(param_combinations):\n",
    "        if 'sma_fast_period' in params and 'sma_slow_period' in params:\n",
    "            if params['sma_fast_period'] >= params['sma_slow_period']:\n",
    "                continue\n",
    "\n",
    "        if (i + 1) % 10 == 0 or i == 0 or i == total_runs - 1:\n",
    "            print(f\"Running backtest {i + 1}/{total_runs} with params: {params}\")\n",
    "\n",
    "        data = bt.feeds.PandasData(dataname=data_df)\n",
    "\n",
    "        strat, stats = run_backtest(strategy_class, data,\n",
    "                                    initial_cash=initial_cash,\n",
    "                                    commission=commission,\n",
    "                                    **params)\n",
    "\n",
    "        results.append({**params, **stats})\n",
    "\n",
    "    results_df = pd.DataFrame(results).sort_values(by='final_value', ascending=False).reset_index(drop=True)\n",
    "    return results_df\n"
   ]
  },
  {
   "cell_type": "code",
   "execution_count": 21,
   "id": "1980aaf0-a86a-48be-b671-885e6c2908ed",
   "metadata": {},
   "outputs": [
    {
     "name": "stdout",
     "output_type": "stream",
     "text": [
      "Total backtests to run: 162\n",
      "Running backtest 1/162 with params: {'lookback': 20, 'threshold': 0.01, 'trade_size': 0.01, 'sma_fast_period': 30, 'sma_slow_period': 50}\n",
      "Running backtest 10/162 with params: {'lookback': 20, 'threshold': 0.01, 'trade_size': 0.05, 'sma_fast_period': 20, 'sma_slow_period': 50}\n",
      "Running backtest 20/162 with params: {'lookback': 20, 'threshold': 0.02, 'trade_size': 0.01, 'sma_fast_period': 30, 'sma_slow_period': 100}\n",
      "Running backtest 30/162 with params: {'lookback': 20, 'threshold': 0.02, 'trade_size': 0.05, 'sma_fast_period': 20, 'sma_slow_period': 200}\n",
      "Running backtest 40/162 with params: {'lookback': 20, 'threshold': 0.03, 'trade_size': 0.01, 'sma_fast_period': 20, 'sma_slow_period': 50}\n",
      "Running backtest 50/162 with params: {'lookback': 20, 'threshold': 0.03, 'trade_size': 0.1, 'sma_fast_period': 30, 'sma_slow_period': 100}\n",
      "Running backtest 60/162 with params: {'lookback': 50, 'threshold': 0.01, 'trade_size': 0.01, 'sma_fast_period': 20, 'sma_slow_period': 200}\n",
      "Running backtest 70/162 with params: {'lookback': 50, 'threshold': 0.01, 'trade_size': 0.1, 'sma_fast_period': 20, 'sma_slow_period': 50}\n",
      "Running backtest 80/162 with params: {'lookback': 50, 'threshold': 0.02, 'trade_size': 0.05, 'sma_fast_period': 30, 'sma_slow_period': 100}\n",
      "Running backtest 90/162 with params: {'lookback': 50, 'threshold': 0.02, 'trade_size': 0.1, 'sma_fast_period': 20, 'sma_slow_period': 200}\n",
      "Running backtest 100/162 with params: {'lookback': 50, 'threshold': 0.03, 'trade_size': 0.05, 'sma_fast_period': 20, 'sma_slow_period': 50}\n",
      "Running backtest 110/162 with params: {'lookback': 100, 'threshold': 0.01, 'trade_size': 0.01, 'sma_fast_period': 30, 'sma_slow_period': 100}\n",
      "Running backtest 120/162 with params: {'lookback': 100, 'threshold': 0.01, 'trade_size': 0.05, 'sma_fast_period': 20, 'sma_slow_period': 200}\n",
      "Running backtest 130/162 with params: {'lookback': 100, 'threshold': 0.02, 'trade_size': 0.01, 'sma_fast_period': 20, 'sma_slow_period': 50}\n",
      "Running backtest 140/162 with params: {'lookback': 100, 'threshold': 0.02, 'trade_size': 0.1, 'sma_fast_period': 30, 'sma_slow_period': 100}\n",
      "Running backtest 150/162 with params: {'lookback': 100, 'threshold': 0.03, 'trade_size': 0.01, 'sma_fast_period': 20, 'sma_slow_period': 200}\n",
      "Running backtest 160/162 with params: {'lookback': 100, 'threshold': 0.03, 'trade_size': 0.1, 'sma_fast_period': 20, 'sma_slow_period': 50}\n",
      "Running backtest 162/162 with params: {'lookback': 100, 'threshold': 0.03, 'trade_size': 0.1, 'sma_fast_period': 20, 'sma_slow_period': 200}\n",
      "   lookback  threshold  trade_size  sma_fast_period  sma_slow_period  \\\n",
      "0        20       0.02         0.1               20              100   \n",
      "1        50       0.03         0.1               30               50   \n",
      "2        50       0.01         0.1               30               50   \n",
      "3        20       0.03         0.1               30               50   \n",
      "4        50       0.02         0.1               30               50   \n",
      "\n",
      "    final_value  total_trades  won  lost  pnl_total  pnl_avg    sharpe  \\\n",
      "0  10117.133985             1    0     0        0.0      0.0  3.230606   \n",
      "1  10113.108980             1    0     0        0.0      0.0  3.128269   \n",
      "2  10113.108980             1    0     0        0.0      0.0  3.128269   \n",
      "3  10113.108980             1    0     0        0.0      0.0  3.128269   \n",
      "4  10113.108980             1    0     0        0.0      0.0  3.128269   \n",
      "\n",
      "   max_drawdown  drawdown_duration  \n",
      "0      0.536077                 26  \n",
      "1      0.534367                 26  \n",
      "2      0.534367                 26  \n",
      "3      0.534367                 26  \n",
      "4      0.534367                 26  \n"
     ]
    }
   ],
   "source": [
    "param_grid = {\n",
    "    'lookback': [20, 50, 100],  \n",
    "    'threshold': [ 0.01, 0.02, 0.03],\n",
    "    'trade_size': [0.01, 0.05, 0.1],\n",
    "    'sma_fast_period': [30, 20], \n",
    "    'sma_slow_period': [ 50, 100, 200], \n",
    "}\n",
    "results_df = grid_search_strategy(MomentumStrategyWithSMA, param_grid, df)\n",
    "print(results_df.head())"
   ]
  },
  {
   "cell_type": "markdown",
   "id": "269e23a0-6eb7-41af-8c3a-e1434aaed865",
   "metadata": {},
   "source": [
    "The insights we get from that are extremely valiable. \n",
    "- Firstly we execute little to no trades. This means that the information could be missleading.\n",
    "- Secondly, although the sharpe ration is good, we have not met one of the **assumptions** it has - following a normal distribuution."
   ]
  },
  {
   "cell_type": "markdown",
   "id": "53b2948f-8f12-4281-a16a-2e35cce1f793",
   "metadata": {},
   "source": [
    "Probably the best thing we could do right now is to try and extend the period of our data since we are only using the last 1000 hours."
   ]
  },
  {
   "cell_type": "code",
   "execution_count": 22,
   "id": "191e875c-c171-499f-ab78-e3c16cfd7e54",
   "metadata": {},
   "outputs": [
    {
     "name": "stdout",
     "output_type": "stream",
     "text": [
      "                          open       high        low      close     volume  \\\n",
      "Open time                                                                    \n",
      "2025-06-03 18:00:00  105943.99  106047.62  105592.17  106013.15  412.44980   \n",
      "2025-06-03 19:00:00  106013.15  106428.58  106013.15  106238.81  403.87736   \n",
      "2025-06-03 20:00:00  106238.81  106254.92  105353.50  105738.69  512.78907   \n",
      "2025-06-03 21:00:00  105738.70  105847.71  105274.95  105367.93  366.43282   \n",
      "2025-06-03 22:00:00  105367.92  105902.93  105308.00  105743.74  299.07218   \n",
      "\n",
      "                     momentum  \n",
      "Open time                      \n",
      "2025-06-03 18:00:00       NaN  \n",
      "2025-06-03 19:00:00       NaN  \n",
      "2025-06-03 20:00:00       NaN  \n",
      "2025-06-03 21:00:00       NaN  \n",
      "2025-06-03 22:00:00       NaN  \n",
      "                          open       high        low      close      volume  \\\n",
      "Open time                                                                     \n",
      "2025-07-15 05:00:00  117480.48  117765.40  116962.97  117335.12  1161.25519   \n",
      "2025-07-15 06:00:00  117335.12  117335.12  116766.00  117070.54  1050.33694   \n",
      "2025-07-15 07:00:00  117070.54  117270.86  116400.00  116779.12  1413.22370   \n",
      "2025-07-15 08:00:00  116779.13  116862.02  116300.00  116777.47  1086.30795   \n",
      "2025-07-15 09:00:00  116777.47  117041.61  116777.46  117024.03   246.88097   \n",
      "\n",
      "                     momentum  \n",
      "Open time                      \n",
      "2025-07-15 05:00:00 -0.038030  \n",
      "2025-07-15 06:00:00 -0.039661  \n",
      "2025-07-15 07:00:00 -0.038596  \n",
      "2025-07-15 08:00:00 -0.042164  \n",
      "2025-07-15 09:00:00 -0.038506  \n",
      "Total candles: 26279\n"
     ]
    }
   ],
   "source": [
    "\n",
    "\n",
    "client = Client()\n",
    "\n",
    "\n",
    "def fetch_hourly_data(symbol=\"BTCUSDT\", years=3):\n",
    "    interval = Client.KLINE_INTERVAL_1HOUR\n",
    "    end_time = datetime.utcnow()\n",
    "    start_time = end_time - timedelta(days=365 * years)\n",
    "    \n",
    "    df_list = []\n",
    "    while start_time < end_time:\n",
    "        # Convert to string\n",
    "        start_str = start_time.strftime(\"%d %b %Y %H:%M:%S\")\n",
    "        try:\n",
    "            klines = client.get_historical_klines(symbol, interval, start_str, limit=1000)\n",
    "            if not klines:\n",
    "                break\n",
    "            \n",
    "            temp_df = pd.DataFrame(klines, columns=[\n",
    "                'Open time', 'Open', 'High', 'Low', 'Close', 'Volume',\n",
    "                'Close time', 'Quote asset volume', 'Number of trades',\n",
    "                'Taker buy base asset volume', 'Taker buy quote asset volume', 'Ignore'])\n",
    "\n",
    "            temp_df['Open time'] = pd.to_datetime(temp_df['Open time'], unit='ms')\n",
    "            temp_df['Close time'] = pd.to_datetime(temp_df['Close time'], unit='ms')\n",
    "            temp_df = temp_df[['Open time', 'Open', 'High', 'Low', 'Close', 'Volume']]\n",
    "            temp_df[['Open', 'High', 'Low', 'Close', 'Volume']] = temp_df[['Open', 'High', 'Low', 'Close', 'Volume']].astype(float)\n",
    "            df_list.append(temp_df)\n",
    "\n",
    "            # Step forward 1000 hours\n",
    "            start_time = temp_df['Open time'].iloc[-1] + timedelta(hours=1)\n",
    "            time.sleep(0.5)  # Respect API rate limits\n",
    "        except Exception as e:\n",
    "            print(\"Error:\", e)\n",
    "            time.sleep(1)\n",
    "    \n",
    "    full_df = pd.concat(df_list).set_index('Open time')\n",
    "    return full_df\n",
    "\n",
    "# Fetch 3 years of data\n",
    "df_2 = fetch_hourly_data(years=3)\n",
    "\n",
    "print(df.head())\n",
    "print(df.tail())\n",
    "print(f\"Total candles: {len(df_2)}\")\n"
   ]
  },
  {
   "cell_type": "code",
   "execution_count": 23,
   "id": "96dbb969-c3c0-414f-bb3e-62a7ee878101",
   "metadata": {},
   "outputs": [
    {
     "name": "stderr",
     "output_type": "stream",
     "text": [
      "C:\\Users\\mitko\\AppData\\Local\\Programs\\Python\\Python310\\lib\\site-packages\\mplfinance\\_arg_validators.py:84: UserWarning: \n",
      "\n",
      " ================================================================= \n",
      "\n",
      "   WARNING: YOU ARE PLOTTING SO MUCH DATA THAT IT MAY NOT BE\n",
      "            POSSIBLE TO SEE DETAILS (Candles, Ohlc-Bars, Etc.)\n",
      "   For more information see:\n",
      "   - https://github.com/matplotlib/mplfinance/wiki/Plotting-Too-Much-Data\n",
      "   \n",
      "   TO SILENCE THIS WARNING, set `type='line'` in `mpf.plot()`\n",
      "   OR set kwarg `warn_too_much_data=N` where N is an integer \n",
      "   LARGER than the number of data points you want to plot.\n",
      "\n",
      " ================================================================ \n",
      "  warnings.warn('\\n\\n ================================================================= '+\n"
     ]
    },
    {
     "data": {
      "image/png": "[encoded data removed]",
      "text/plain": [
       "<Figure size 800x575 with 4 Axes>"
      ]
     },
     "metadata": {},
     "output_type": "display_data"
    }
   ],
   "source": [
    "\n",
    "mpf.plot(df_2, type='candle', volume=True, style='classic')\n",
    "\n",
    "plt.show()"
   ]
  },
  {
   "cell_type": "markdown",
   "id": "e7d53764-34e0-4d63-8476-5ccb38dcfa2f",
   "metadata": {},
   "source": [
    "Now lets run the tests we had but on the new data"
   ]
  },
  {
   "cell_type": "code",
   "execution_count": 24,
   "id": "95e2a2f6-80f4-4b25-bc71-174876a49948",
   "metadata": {},
   "outputs": [],
   "source": [
    "datafeed_2 = bt.feeds.PandasData(dataname=df_2)"
   ]
  },
  {
   "cell_type": "code",
   "execution_count": 25,
   "id": "a20a59aa-c5b2-40cd-aa9d-c3ead0620382",
   "metadata": {},
   "outputs": [
    {
     "name": "stdout",
     "output_type": "stream",
     "text": [
      "Stats for MomentumStrategy with feed2:\n",
      "{ 'drawdown_duration': 5642,\n",
      "  'final_value': 11465.180774572085,\n",
      "  'lost': 237,\n",
      "  'max_drawdown': 1.4424531302533692,\n",
      "  'pnl_avg': 3.9280985913460587,\n",
      "  'pnl_total': 1465.1807745720798,\n",
      "  'sharpe': 0.72297128941847,\n",
      "  'total_trades': 373,\n",
      "  'won': 136}\n",
      "\n",
      "Stats for MomentumStrategyWithSMA with feed2:\n",
      "{ 'drawdown_duration': 5035,\n",
      "  'final_value': 11393.300350720765,\n",
      "  'lost': 29,\n",
      "  'max_drawdown': 1.26922302159014,\n",
      "  'pnl_avg': 29.178264281521674,\n",
      "  'pnl_total': 1313.0218926684754,\n",
      "  'sharpe': 0.6670148392140827,\n",
      "  'total_trades': 46,\n",
      "  'won': 16}\n"
     ]
    }
   ],
   "source": [
    "\n",
    "strat1, stats1 = run_backtest(MomentumStrategy,datafeed_2, lookback=20, threshold=0.01, trade_size=0.1)\n",
    "strat2, stats2 = run_backtest(MomentumStrategyWithSMA,datafeed_2, lookback=100, threshold=0.01, trade_size=0.1, sma_fast_period=50, sma_slow_period=168)\n",
    "\n",
    "pp = pprint.PrettyPrinter(indent=2)\n",
    "\n",
    "print(\"Stats for MomentumStrategy with feed2:\")\n",
    "pp.pprint(stats1)\n",
    "\n",
    "print(\"\\nStats for MomentumStrategyWithSMA with feed2:\")\n",
    "pp.pprint(stats2)\n"
   ]
  },
  {
   "cell_type": "markdown",
   "id": "d4c07b0c-0c96-458a-9a4d-fe9b435f6b98",
   "metadata": {},
   "source": [
    "We see that the base momentum strategy slightly outperforms in final value and total profit, but the SMA version achieves much higher profit per trade - meaning it's more selective and efficient. In conclusion, while both strategies yield similar overall returns, the MomentumStrategy operates with a high number of trades and higher drawdown, achieving slightly better final value and Sharpe ratio. In contrast, the MomentumStrategyWithSMA takes significantly fewer trades with a much higher average profit per trade and lower drawdown, indicating better trade efficiency and reduced risk. This makes the SMA-enhanced version more robust and stable, especially in environments where capital preservation and lower volatility are prioritized."
   ]
  },
  {
   "cell_type": "markdown",
   "id": "25108d0b-49a3-4aad-9824-c835adb4742f",
   "metadata": {},
   "source": [
    "## Momentum with stop-loss\n",
    "\n",
    "The next thing that we shall try to include is a stop-loss. The idea behind this is to limit potential losses by automatically exiting a position once it reaches a predefined negative threshold. This helps to protect capital during adverse market movements and adds a risk management layer to the strategy. By incorporating a stop-loss, we aim to reduce drawdowns and improve the overall risk-adjusted performance, particularly during volatile or trending market conditions where the existing logic might otherwise hold onto losing positions for too long."
   ]
  },
  {
   "cell_type": "code",
   "execution_count": 26,
   "id": "885a11b7-a460-417c-92b8-a711d4c6aa96",
   "metadata": {},
   "outputs": [],
   "source": [
    "\n",
    "\n",
    "class MomentumStrategyWithSMAstopLoss(bt.Strategy):\n",
    "    params = (\n",
    "        ('lookback', 20),\n",
    "        ('threshold', 0.01),\n",
    "        ('trade_size', 0.1),\n",
    "        ('sma_fast_period', 10),  \n",
    "        ('sma_slow_period', 30), \n",
    "        ('stop_loss_pct', 0.02),  \n",
    "    )\n",
    "    \n",
    "    def __init__(self):\n",
    "        self.sma_fast = bt.indicators.SimpleMovingAverage(self.data.close, period=self.p.sma_fast_period)\n",
    "        self.sma_slow = bt.indicators.SimpleMovingAverage(self.data.close, period=self.p.sma_slow_period)\n",
    "        self.crossover = bt.indicators.CrossOver(self.sma_fast, self.sma_slow)  \n",
    "        self.stop_price = None  \n",
    "\n",
    "    def next(self):\n",
    "        if len(self.data) < max(self.p.lookback, self.p.sma_slow_period):\n",
    "            return  \n",
    "\n",
    "        momentum = (self.data.close[0] / self.data.close[-self.p.lookback]) - 1\n",
    "        size = (self.broker.getvalue() * self.p.trade_size) / self.data.close[0]\n",
    "\n",
    "        # Check stop loss first\n",
    "        if self.position.size > 0 and self.stop_price is not None:\n",
    "            if self.data.close[0] <= self.stop_price:\n",
    "                self.log(f'STOP LOSS TRIGGERED: Closing position at {self.data.close[0]:.2f}')\n",
    "                self.close()\n",
    "                self.stop_price = None\n",
    "                return \n",
    "\n",
    "        \n",
    "        if momentum < -self.p.threshold and self.position.size > 0 and self.crossover < 0:\n",
    "            self.log(f'SELL signal: Closing position at {self.data.close[0]:.2f}')\n",
    "            self.close()\n",
    "            self.stop_price = None\n",
    "\n",
    "      \n",
    "        elif momentum > self.p.threshold and not self.position and self.crossover > 0:\n",
    "            if size > 0:\n",
    "                self.buy(size=size)\n",
    "                # Set stop loss price after buying\n",
    "                self.stop_price = self.data.close[0] * (1 - self.p.stop_loss_pct)\n",
    "                self.log(f'BUY signal: Buying at {self.data.close[0]:.2f} with stop loss at {self.stop_price:.2f}')\n",
    "            else:\n",
    "                print(\"Calculated size too small to buy\")\n",
    "\n",
    "    def log(self, txt):\n",
    "        dt = self.datas[0].datetime.date(0)\n",
    "        print(f'{dt.isoformat()} - {txt}')\n"
   ]
  },
  {
   "cell_type": "code",
   "execution_count": 27,
   "id": "fad57450-2d67-4e5a-b57b-afdf58edebf1",
   "metadata": {},
   "outputs": [
    {
     "name": "stdout",
     "output_type": "stream",
     "text": [
      "2022-07-29 - BUY signal: Buying at 23880.60 with stop loss at 23402.99\n",
      "2022-07-31 - STOP LOSS TRIGGERED: Closing position at 23377.48\n",
      "2022-08-08 - BUY signal: Buying at 23964.99 with stop loss at 23485.69\n",
      "2022-08-09 - STOP LOSS TRIGGERED: Closing position at 23472.62\n",
      "2022-09-09 - BUY signal: Buying at 21291.62 with stop loss at 20865.79\n",
      "2022-09-13 - STOP LOSS TRIGGERED: Closing position at 20829.77\n",
      "2022-09-27 - BUY signal: Buying at 20229.26 with stop loss at 19824.67\n",
      "2022-09-27 - STOP LOSS TRIGGERED: Closing position at 19110.79\n",
      "2022-10-03 - BUY signal: Buying at 19611.65 with stop loss at 19219.42\n",
      "2022-10-09 - SELL signal: Closing position at 19401.97\n",
      "2022-10-18 - BUY signal: Buying at 19596.34 with stop loss at 19204.41\n",
      "2022-10-19 - STOP LOSS TRIGGERED: Closing position at 19190.20\n",
      "2022-11-05 - BUY signal: Buying at 21387.53 with stop loss at 20959.78\n",
      "2022-11-06 - STOP LOSS TRIGGERED: Closing position at 20905.58\n",
      "2022-11-30 - BUY signal: Buying at 16884.18 with stop loss at 16546.50\n",
      "2022-12-17 - SELL signal: Closing position at 16711.70\n",
      "2023-02-01 - BUY signal: Buying at 23681.05 with stop loss at 23207.43\n",
      "2023-02-05 - STOP LOSS TRIGGERED: Closing position at 23170.56\n",
      "2023-02-16 - BUY signal: Buying at 24583.17 with stop loss at 24091.51\n",
      "2023-02-16 - STOP LOSS TRIGGERED: Closing position at 23994.76\n",
      "2023-03-13 - BUY signal: Buying at 24113.48 with stop loss at 23631.21\n",
      "2023-03-27 - SELL signal: Closing position at 27090.81\n",
      "2023-03-30 - BUY signal: Buying at 28725.01 with stop loss at 28150.51\n",
      "2023-03-30 - STOP LOSS TRIGGERED: Closing position at 27839.41\n",
      "2023-04-10 - BUY signal: Buying at 29273.14 with stop loss at 28687.68\n",
      "2023-04-19 - SELL signal: Closing position at 29218.66\n",
      "2023-04-27 - BUY signal: Buying at 28990.77 with stop loss at 28410.95\n",
      "2023-05-01 - STOP LOSS TRIGGERED: Closing position at 28170.64\n",
      "2023-05-24 - BUY signal: Buying at 27156.70 with stop loss at 26613.57\n",
      "2023-05-24 - STOP LOSS TRIGGERED: Closing position at 26442.86\n",
      "2023-05-28 - BUY signal: Buying at 27181.31 with stop loss at 26637.68\n",
      "2023-06-02 - SELL signal: Closing position at 26811.90\n",
      "2023-06-17 - BUY signal: Buying at 26521.43 with stop loss at 25991.00\n",
      "2023-07-06 - SELL signal: Closing position at 29895.43\n",
      "2023-07-12 - BUY signal: Buying at 30776.25 with stop loss at 30160.72\n",
      "2023-07-14 - STOP LOSS TRIGGERED: Closing position at 30091.83\n",
      "2023-08-08 - BUY signal: Buying at 29884.24 with stop loss at 29286.56\n",
      "2023-08-14 - STOP LOSS TRIGGERED: Closing position at 29266.00\n",
      "2023-08-29 - BUY signal: Buying at 27423.44 with stop loss at 26874.97\n",
      "2023-08-31 - STOP LOSS TRIGGERED: Closing position at 26234.23\n",
      "2023-09-13 - BUY signal: Buying at 26111.48 with stop loss at 25589.25\n",
      "2023-10-10 - SELL signal: Closing position at 27425.71\n",
      "2023-10-16 - BUY signal: Buying at 28509.57 with stop loss at 27939.38\n",
      "2023-12-12 - SELL signal: Closing position at 41810.78\n",
      "2023-12-20 - BUY signal: Buying at 42776.99 with stop loss at 41921.45\n",
      "2023-12-27 - SELL signal: Closing position at 42215.98\n",
      "2024-01-02 - BUY signal: Buying at 45179.48 with stop loss at 44275.89\n",
      "2024-01-03 - STOP LOSS TRIGGERED: Closing position at 43702.88\n",
      "2024-01-27 - BUY signal: Buying at 41779.28 with stop loss at 40943.69\n",
      "2024-02-23 - SELL signal: Closing position at 51219.59\n",
      "2024-02-26 - BUY signal: Buying at 53502.60 with stop loss at 52432.55\n",
      "2024-03-16 - SELL signal: Closing position at 67884.01\n",
      "2024-03-25 - BUY signal: Buying at 70559.09 with stop loss at 69147.91\n",
      "2024-03-27 - STOP LOSS TRIGGERED: Closing position at 68874.00\n",
      "2024-04-07 - BUY signal: Buying at 69309.69 with stop loss at 67923.50\n",
      "2024-04-12 - STOP LOSS TRIGGERED: Closing position at 66492.00\n",
      "2024-04-22 - BUY signal: Buying at 66377.99 with stop loss at 65050.43\n",
      "2024-04-24 - STOP LOSS TRIGGERED: Closing position at 64610.11\n",
      "2024-05-05 - BUY signal: Buying at 63315.47 with stop loss at 62049.16\n",
      "2024-05-08 - STOP LOSS TRIGGERED: Closing position at 61570.01\n",
      "2024-05-15 - BUY signal: Buying at 64759.27 with stop loss at 63464.08\n",
      "2024-06-11 - SELL signal: Closing position at 68024.04\n",
      "2024-07-01 - BUY signal: Buying at 63292.53 with stop loss at 62026.68\n",
      "2024-07-02 - STOP LOSS TRIGGERED: Closing position at 61948.08\n",
      "2024-07-13 - BUY signal: Buying at 58076.02 with stop loss at 56914.50\n",
      "2024-07-25 - SELL signal: Closing position at 64835.00\n",
      "2024-08-10 - BUY signal: Buying at 60733.58 with stop loss at 59518.91\n",
      "2024-08-11 - STOP LOSS TRIGGERED: Closing position at 58504.92\n",
      "2024-09-11 - BUY signal: Buying at 56712.00 with stop loss at 55577.76\n",
      "2024-10-01 - SELL signal: Closing position at 62628.85\n",
      "2024-10-08 - BUY signal: Buying at 62440.00 with stop loss at 61191.20\n",
      "2024-10-09 - STOP LOSS TRIGGERED: Closing position at 61031.98\n",
      "2024-10-12 - BUY signal: Buying at 63000.01 with stop loss at 61740.01\n",
      "2024-10-23 - SELL signal: Closing position at 66414.01\n",
      "2024-10-28 - BUY signal: Buying at 68984.00 with stop loss at 67604.32\n",
      "2024-11-03 - SELL signal: Closing position at 67777.00\n",
      "2024-11-06 - BUY signal: Buying at 74171.47 with stop loss at 72688.04\n",
      "2024-11-27 - SELL signal: Closing position at 92588.00\n",
      "2024-12-04 - BUY signal: Buying at 98747.97 with stop loss at 96773.01\n",
      "2024-12-05 - STOP LOSS TRIGGERED: Closing position at 96589.04\n",
      "2025-01-03 - BUY signal: Buying at 96966.85 with stop loss at 95027.51\n",
      "2025-01-08 - STOP LOSS TRIGGERED: Closing position at 94888.01\n",
      "2025-01-15 - BUY signal: Buying at 98645.65 with stop loss at 96672.74\n",
      "2025-01-27 - SELL signal: Closing position at 99048.02\n",
      "2025-02-21 - BUY signal: Buying at 98236.32 with stop loss at 96271.59\n",
      "2025-02-21 - STOP LOSS TRIGGERED: Closing position at 95285.11\n",
      "2025-03-06 - BUY signal: Buying at 91156.08 with stop loss at 89332.96\n",
      "2025-03-06 - STOP LOSS TRIGGERED: Closing position at 89316.02\n",
      "2025-04-11 - BUY signal: Buying at 83423.84 with stop loss at 81755.36\n",
      "2025-05-05 - SELL signal: Closing position at 94242.02\n",
      "2025-05-07 - BUY signal: Buying at 96923.91 with stop loss at 94985.43\n",
      "2025-05-29 - SELL signal: Closing position at 105837.13\n",
      "2025-06-25 - BUY signal: Buying at 106600.01 with stop loss at 104468.01\n",
      "{ 'drawdown_duration': 26,\n",
      "  'final_value': 11459.502286579444,\n",
      "  'lost': 32,\n",
      "  'max_drawdown': 0.52686716479131,\n",
      "  'pnl_avg': 29.313423294825483,\n",
      "  'pnl_total': 1348.4174715619722,\n",
      "  'sharpe': 0.8372355465150609,\n",
      "  'total_trades': 47,\n",
      "  'won': 14}\n"
     ]
    }
   ],
   "source": [
    "strat, stats = run_backtest(MomentumStrategyWithSMAstopLoss,datafeed_2, lookback=100, threshold=0.01, trade_size=0.1, sma_fast_period=50, sma_slow_period=250)\n",
    "\n",
    "pp = pprint.PrettyPrinter(indent=2)\n",
    "\n",
    "pp.pprint(stats)"
   ]
  },
  {
   "cell_type": "markdown",
   "id": "57e6df5e-0006-4cb4-a889-ad389cee7d65",
   "metadata": {},
   "source": [
    "To manage risk using a stop-loss step, we observe that while the maximum drawdown decreases, the number of losing trades increases. This reflects a trade-off that must be considered. An alternative approach is to use the Average True Range (ATR), which adjusts the stop-loss dynamically based on market volatility. Additionally, techniques like Grid Search can be employed to optimize the stop-loss level based on historical performance."
   ]
  },
  {
   "cell_type": "markdown",
   "id": "35c81dfc-a604-4519-a76f-96467e7c84d1",
   "metadata": {},
   "source": [
    "# Dynamic position sizing\n",
    "In this section, I will implement dynamic position sizing to improve trade management.\n",
    "\n",
    "**More about the concept can be found in the notebook: Premise, research.ipynb**\n",
    "\n",
    "We will use three core ideas to determine trade size more effectively:\n",
    "\n",
    "- **Volatility Adjustment:** Reduce trade size in more volatile markets using ATR.\n",
    "\n",
    "- **Conviction Score:** Increase size when both momentum and volume agree (strong signal).\n",
    "\n",
    "- **Drawdown Awareness:** Reduce size after consecutive losses to protect capital."
   ]
  },
  {
   "cell_type": "code",
   "execution_count": 28,
   "id": "e3da7b70-c5aa-48b7-87b2-5bb3c30c18ba",
   "metadata": {},
   "outputs": [],
   "source": [
    "class MomentumStrategyWithSMApositionSizing(bt.Strategy):\n",
    "    params = (\n",
    "        ('lookback', 20),\n",
    "        ('threshold', 0.01),\n",
    "        ('trade_size', 0.1),\n",
    "        ('sma_fast_period', 10),\n",
    "        ('sma_slow_period', 30),\n",
    "        ('atr_period', 14),\n",
    "    )\n",
    "\n",
    "    def __init__(self):\n",
    "        self.sma_fast = bt.indicators.SimpleMovingAverage(self.data.close, period=self.p.sma_fast_period)\n",
    "        self.sma_slow = bt.indicators.SimpleMovingAverage(self.data.close, period=self.p.sma_slow_period)\n",
    "        self.crossover = bt.indicators.CrossOver(self.sma_fast, self.sma_slow)\n",
    "        self.atr = bt.indicators.ATR(self.data, period=self.p.atr_period)\n",
    "        self.buy_signals = []\n",
    "        self.sell_signals = []\n",
    "        self.equity_curve = []  # track portfolio value over time\n",
    "\n",
    "        self.max_equity = None  # track max equity for drawdown adjustment\n",
    "\n",
    "    def next(self):\n",
    "        # Record equity at each step\n",
    "        self.equity_curve.append(self.broker.getvalue())\n",
    "\n",
    "        if len(self.data) < max(self.p.lookback, self.p.sma_slow_period, self.p.atr_period):\n",
    "            return\n",
    "\n",
    "        momentum = (self.data.close[0] / self.data.close[-self.p.lookback]) - 1\n",
    "\n",
    "        # Base size\n",
    "        size = (self.broker.getvalue() * self.p.trade_size) / self.data.close[0]\n",
    "\n",
    "        # ATR-based volatility adjustment\n",
    "        atr = self.atr[0]\n",
    "        if atr > 0:\n",
    "            size /= (1 + atr / self.data.close[0])\n",
    "\n",
    "        # Conviction score\n",
    "        momentum_score = max(0, (momentum - self.p.threshold)) * 100  # scaled\n",
    "        volume_mean = sum(self.data.volume.get(size=self.p.lookback, ago=-1)) / self.p.lookback\n",
    "        volume_score = self.data.volume[0] / volume_mean if volume_mean > 0 else 1\n",
    "        conviction_multiplier = min(momentum_score * volume_score, 2.0)\n",
    "        size *= conviction_multiplier\n",
    "\n",
    "        # Drawdown-aware size reduction\n",
    "        current_equity = self.broker.getvalue()\n",
    "        if self.max_equity is None or current_equity > self.max_equity:\n",
    "            self.max_equity = current_equity\n",
    "        drawdown = (self.max_equity - current_equity) / self.max_equity\n",
    "        if drawdown > 0.05:\n",
    "            size *= max(0.5, 1 - drawdown * 2)\n",
    "\n",
    "        # Trading logic\n",
    "        if momentum < -self.p.threshold and self.position.size > 0 and self.crossover < 0:\n",
    "            self.close()\n",
    "            self.sell_signals.append((self.data.datetime.datetime(0), self.data.close[0]))\n",
    "\n",
    "        elif momentum > self.p.threshold and not self.position and self.crossover > 0:\n",
    "            if size > 0:\n",
    "                self.buy(size=size)\n",
    "                self.buy_signals.append((self.data.datetime.datetime(0), self.data.close[0]))\n",
    "            else:\n",
    "                print(\"Calculated size too small to buy\")\n"
   ]
  },
  {
   "cell_type": "markdown",
   "id": "1f6518d8-b181-418d-8cb3-30877cfbaee1",
   "metadata": {},
   "source": [
    "### Note on Risk Management\n",
    "\n",
    "In this implementation, no explicit stop-loss mechanism is used. Instead, the strategy employs adaptive position sizing to mitigate risk. When market conditions deteriorate - such as during increased volatility, weakening momentum, or account drawdowns - the size of new trades is systematically reduced.\n",
    "\n",
    "This approach serves as a soft alternative to traditional stop-losses, as it minimizes capital at risk during unfavorable conditions without prematurely exiting positions. However, this method does not preclude the use of stop-losses; both techniques can be combined to create a layered risk management framework that balances flexibility with protective constraints."
   ]
  },
  {
   "cell_type": "code",
   "execution_count": 29,
   "id": "337568c9-69bb-48b6-8ee4-3b125dc939b6",
   "metadata": {},
   "outputs": [
    {
     "name": "stdout",
     "output_type": "stream",
     "text": [
      "{ 'drawdown_duration': 1302,\n",
      "  'final_value': 11482.516207270433,\n",
      "  'lost': 13,\n",
      "  'max_drawdown': 1.5910716166562457,\n",
      "  'pnl_avg': 74.12581036352178,\n",
      "  'pnl_total': 1482.5162072704356,\n",
      "  'sharpe': 0.4282204178641853,\n",
      "  'total_trades': 20,\n",
      "  'won': 7}\n"
     ]
    }
   ],
   "source": [
    "strat, stats = stratPositionSizing = run_backtest(MomentumStrategyWithSMApositionSizing,datafeed_2, lookback=200, threshold=0.01, trade_size=0.1, sma_fast_period=50, sma_slow_period=350)\n",
    "\n",
    "pp = pprint.PrettyPrinter(indent=2)\n",
    "\n",
    "pp.pprint(stats)"
   ]
  },
  {
   "cell_type": "markdown",
   "id": "d0237178-09b8-4fa0-b5ae-194747b54355",
   "metadata": {},
   "source": [
    "## Printing buy/sell plot\n",
    "Now if we want we could print a graph and show when buys and sells are executed using the signal lists."
   ]
  },
  {
   "cell_type": "code",
   "execution_count": 30,
   "id": "d2a8a949-db5a-44b8-8f58-ea2cc38ad0a6",
   "metadata": {},
   "outputs": [
    {
     "name": "stderr",
     "output_type": "stream",
     "text": [
      "C:\\Users\\mitko\\AppData\\Local\\Programs\\Python\\Python310\\lib\\site-packages\\mplfinance\\_arg_validators.py:84: UserWarning: \n",
      "\n",
      " ================================================================= \n",
      "\n",
      "   WARNING: YOU ARE PLOTTING SO MUCH DATA THAT IT MAY NOT BE\n",
      "            POSSIBLE TO SEE DETAILS (Candles, Ohlc-Bars, Etc.)\n",
      "   For more information see:\n",
      "   - https://github.com/matplotlib/mplfinance/wiki/Plotting-Too-Much-Data\n",
      "   \n",
      "   TO SILENCE THIS WARNING, set `type='line'` in `mpf.plot()`\n",
      "   OR set kwarg `warn_too_much_data=N` where N is an integer \n",
      "   LARGER than the number of data points you want to plot.\n",
      "\n",
      " ================================================================ \n",
      "  warnings.warn('\\n\\n ================================================================= '+\n"
     ]
    },
    {
     "data": {
      "image/png": "[encoded data removed]",
      "text/plain": [
       "<Figure size 800x575 with 4 Axes>"
      ]
     },
     "metadata": {},
     "output_type": "display_data"
    }
   ],
   "source": [
    "\n",
    "df_2['Buy'] = float('nan')\n",
    "df_2['Sell'] = float('nan')\n",
    "\n",
    "\n",
    "for buy_dt, buy_price in strat.buy_signals:\n",
    "    if buy_dt in df_2.index:\n",
    "        df_2.at[buy_dt, 'Buy'] = buy_price\n",
    "\n",
    "for sell_dt, sell_price in strat.sell_signals:\n",
    "    if sell_dt in df_2.index:\n",
    "        df_2.at[sell_dt, 'Sell'] = sell_price\n",
    "\n",
    "ap = [\n",
    "    mpf.make_addplot(df_2['Buy'], type='scatter', markersize=100, marker='^', color='g'),\n",
    "    mpf.make_addplot(df_2['Sell'], type='scatter', markersize=100, marker='v', color='r'),\n",
    "]\n",
    "\n",
    "mpf.plot(df_2, type='candle', volume=True, style='classic', addplot=ap)\n",
    "plt.show()\n"
   ]
  },
  {
   "cell_type": "markdown",
   "id": "43a72cc7-d900-46f6-9bbe-a98eb192e607",
   "metadata": {},
   "source": [
    "We plotted the last three years of price data along with the points where we bought and sold. As expected, the strategy tends to sell more frequently than it buys. This aligns with the strategy’s design, which favors taking fewer but higher-quality trades rather than holding positions that lack strong conviction.\n",
    "\n",
    "However, the plot also reveals some shortcomings: there are instances where it would have been reasonable to sell, yet the strategy held the stock. Conversely, there are moments when the strategy exited positions prematurely due to being misled by short, sharp drops in momentum or SMA signals. These rapid but temporary fluctuations caused the algorithm to sell when it might have been better to maintain the position.\n",
    "\n"
   ]
  },
  {
   "cell_type": "markdown",
   "id": "8e193c1e-a61b-4645-830a-877649d073ac",
   "metadata": {},
   "source": [
    "## Performing grid-search"
   ]
  },
  {
   "cell_type": "code",
   "execution_count": 31,
   "id": "b0765b83-8811-4f04-9958-e42eefe1e566",
   "metadata": {},
   "outputs": [],
   "source": [
    "param_grid = {\n",
    "    'lookback': [20, 50],\n",
    "    'threshold': [0.01, 0.02],\n",
    "    'trade_size': [0.05, 0.1],\n",
    "    'sma_fast_period': [20],\n",
    "    'sma_slow_period': [50, 100],\n",
    "    'atr_period': [14],\n",
    "}"
   ]
  },
  {
   "cell_type": "markdown",
   "id": "8e25dfcb-5481-4543-8ca4-369343230d4d",
   "metadata": {},
   "source": [
    "#### Note\n",
    "I am not using many parameters since each backtesting for the df_2 data takes a lot of time"
   ]
  },
  {
   "cell_type": "code",
   "execution_count": 32,
   "id": "8a021a33-0b21-427c-9b2c-114ed93909e1",
   "metadata": {},
   "outputs": [
    {
     "name": "stdout",
     "output_type": "stream",
     "text": [
      "Total backtests to run: 16\n",
      "Running backtest 1/16 with params: {'lookback': 20, 'threshold': 0.01, 'trade_size': 0.05, 'sma_fast_period': 20, 'sma_slow_period': 50, 'atr_period': 14}\n",
      "Running backtest 10/16 with params: {'lookback': 50, 'threshold': 0.01, 'trade_size': 0.05, 'sma_fast_period': 20, 'sma_slow_period': 100, 'atr_period': 14}\n",
      "Running backtest 16/16 with params: {'lookback': 50, 'threshold': 0.02, 'trade_size': 0.1, 'sma_fast_period': 20, 'sma_slow_period': 100, 'atr_period': 14}\n",
      "   lookback  threshold  trade_size  sma_fast_period  sma_slow_period  \\\n",
      "0        50       0.02        0.10               20               50   \n",
      "1        50       0.01        0.10               20               50   \n",
      "2        50       0.02        0.05               20               50   \n",
      "3        50       0.01        0.05               20               50   \n",
      "4        20       0.02        0.10               20              100   \n",
      "\n",
      "   atr_period   final_value  total_trades  won  lost    pnl_total     pnl_avg  \\\n",
      "0          14  14583.055904            16    9     6  3494.177742  232.945183   \n",
      "1          14  12931.396829            35   16    18  2754.503096   81.014797   \n",
      "2          14  12128.332176            16    9     6  1657.976862  110.531791   \n",
      "3          14  11425.768798            35   16    18  1347.081780   39.620052   \n",
      "4          14  11184.808050            51   22    28  1117.633375   22.352668   \n",
      "\n",
      "     sharpe  max_drawdown  drawdown_duration  \n",
      "0  1.312151      1.237403                 26  \n",
      "1  0.963280      1.400510               5628  \n",
      "2  1.147350      0.646541                 26  \n",
      "3  0.789650      0.559733               5628  \n",
      "4  0.390226      0.278050                 26  \n"
     ]
    }
   ],
   "source": [
    "results_df = grid_search_strategy(MomentumStrategyWithSMApositionSizing, param_grid, df_2)\n",
    "print(results_df.head())"
   ]
  },
  {
   "cell_type": "markdown",
   "id": "1d17e4c2-8ef9-4a9c-88c0-1f813bfd9fd9",
   "metadata": {},
   "source": [
    "Here we have only tried 16 combinations but with enough computational power we could increase them significantly. After all that we could see that we can make a good net profit. Let us take for example a strategy with a return of 13500 and start of 10000:\n",
    "#### Annualized Return Calculation\n",
    "\n",
    "We assume an initial investment of \\\\$10,000 that grows to \\\\$13,500 over 3 years.\n",
    "\n",
    "To compute the average annual return, we use the **Compound Annual Growth Rate (CAGR)** formula:\n",
    "\n",
    "$$\n",
    "\\text{CAGR} = \\left( \\frac{V_f}{V_i} \\right)^{\\frac{1}{n}} - 1\n",
    "$$\n",
    "\n",
    "Where:\n",
    "- $ V_f = 13,500 $ is the final value,\n",
    "- $ V_i = 10,000 $ is the initial value,\n",
    "- $ n = 3 $ years.\n",
    "\n",
    "Substituting in the values:\n",
    "\n",
    "$$\n",
    "\\text{CAGR} = \\left( \\frac{13,500}{10,000} \\right)^{\\frac{1}{3}} - 1 = (1.35)^{\\frac{1}{3}} - 1 \\approx 0.1057\n",
    "$$\n",
    "\n",
    "So the **annualized return is approximately 10.57% per year**.\n"
   ]
  },
  {
   "cell_type": "markdown",
   "id": "355f82d3-e475-4125-891a-e15cb459cd03",
   "metadata": {},
   "source": [
    "However, there is another concern to address in this situation. Even though we may have found a strategy with a winning rate that **outperforms benchmarks like the S&P 500, bonds, or even traditional banks**, we must be cautious.\n",
    "\n",
    "The danger lies in the fact that we may simply be **adapting to the asset's historical behavior**, selecting only the parameter combinations that *happen to have worked well* - not because of sound logic, but by chance. This might be overfitting and might perform bad on unseen data.\n",
    "\n",
    "If we were dealing with a machine learning problem **we would approach this using k-fold cross validation and test train splits.** However since we are working with time series the solution to this problem will require other methods. We could use **Time series cross-validation:**\n",
    "- **Expanding window:** You increase the training size with each fold.\n",
    "\n",
    "- **Rolling window:** Keep training window size fixed and roll it forward.\n",
    "\n",
    "- **Walk-forward validation**\n",
    "    - You **retrain the model at each step** using the latest available data.\n",
    "    - Each forecast is made for **a single time point** or **a small forecast horizon**.\n",
    "\n"
   ]
  },
  {
   "cell_type": "markdown",
   "id": "27cabd07-09f0-45f5-bc4c-602eeef150c2",
   "metadata": {},
   "source": [
    "For the sake of time, I will implement only one of the following strategies, acknowledging that more could be explored and the best one chosen based on the specific asset."
   ]
  },
  {
   "cell_type": "markdown",
   "id": "c39930c9-b4a4-4542-91d3-d378dc6a5695",
   "metadata": {},
   "source": [
    "### Implementing Time series cross validation"
   ]
  },
  {
   "cell_type": "markdown",
   "id": "2e7c2d8a-0733-407e-94b7-30581e3b1c98",
   "metadata": {},
   "source": [
    "In this section I will try to implement a time series cross validation with grid search in order to **choose the best params while not overfitting the model.** Firstly we are going to import ```from sklearn.model_selection import TimeSeriesSplit.```"
   ]
  },
  {
   "cell_type": "markdown",
   "id": "6f172d01-f29d-448f-81df-8fdfa581ff8f",
   "metadata": {},
   "source": [
    "Now we will approach that in the following order:\n",
    "1. **Define a grid of params**\n",
    "2. **Define the cross-validation function**\n",
    "3. **Run the grid search with cross validation**\n"
   ]
  },
  {
   "cell_type": "code",
   "execution_count": 33,
   "id": "e7df7450-a929-45b9-a19e-966ec2330013",
   "metadata": {},
   "outputs": [],
   "source": [
    "param_grid = {\n",
    "    'lookback': [20, 50],\n",
    "    'threshold': [0.01, 0.02],\n",
    "    'trade_size': [0.05, 0.1],\n",
    "    'sma_fast_period': [10, 20],\n",
    "    'sma_slow_period': [30, 50],\n",
    "    'atr_period': [14],\n",
    "}\n",
    "\n",
    "param_combinations = list(product(*param_grid.values()))\n",
    "param_names = list(param_grid.keys())"
   ]
  },
  {
   "cell_type": "code",
   "execution_count": 34,
   "id": "45719fd5-964e-4a1f-b525-ecb401c38f49",
   "metadata": {},
   "outputs": [],
   "source": [
    "def cross_validate_strategy(df, strategy_cls, param_dict, n_splits=3):\n",
    "    tscv = TimeSeriesSplit(n_splits=n_splits)\n",
    "    final_values = []\n",
    "\n",
    "    for train_index, test_index in tscv.split(df):\n",
    "        df_train = df.iloc[train_index].copy()\n",
    "        df_test = df.iloc[test_index].copy()\n",
    "\n",
    "        cerebro = bt.Cerebro()\n",
    "        cerebro.addstrategy(strategy_cls, **param_dict)\n",
    "\n",
    "        data = bt.feeds.PandasData(dataname=pd.concat([df_train, df_test])) # use full data so indicators work\n",
    "        cerebro.adddata(data)\n",
    "\n",
    "        cerebro.broker.setcash(10000)\n",
    "        cerebro.broker.setcommission(commission=0)\n",
    "        cerebro.run()\n",
    "\n",
    "        final_values.append(cerebro.broker.getvalue())\n",
    "\n",
    "    avg_value = sum(final_values) / len(final_values)\n",
    "    return avg_value\n"
   ]
  },
  {
   "cell_type": "code",
   "execution_count": 35,
   "id": "25d26a6c-78fa-4ff4-8964-f59cebcf0ce0",
   "metadata": {},
   "outputs": [
    {
     "data": {
      "text/plain": [
       "list"
      ]
     },
     "execution_count": 35,
     "metadata": {},
     "output_type": "execute_result"
    }
   ],
   "source": [
    "type(results)"
   ]
  },
  {
   "cell_type": "markdown",
   "id": "cfeba8e8-359f-4c8c-8c16-0a5f5cb731ba",
   "metadata": {},
   "source": [
    "Now we are going to run the cross-validation which will take sometime becuase of the computational power needed. We are going to perfrom the ```cross_validation_strategy``` 32 times"
   ]
  },
  {
   "cell_type": "code",
   "execution_count": 36,
   "id": "f785ea6e-08dc-4cda-87f5-8b11ce58fe4e",
   "metadata": {},
   "outputs": [
    {
     "name": "stdout",
     "output_type": "stream",
     "text": [
      "1\n",
      "2\n",
      "3\n",
      "4\n",
      "5\n",
      "6\n",
      "7\n",
      "8\n",
      "9\n",
      "10\n",
      "11\n",
      "12\n",
      "13\n",
      "14\n",
      "15\n",
      "16\n",
      "17\n",
      "18\n",
      "19\n",
      "20\n",
      "21\n",
      "22\n",
      "23\n",
      "24\n",
      "25\n",
      "26\n",
      "27\n",
      "28\n",
      "29\n",
      "30\n",
      "31\n",
      "32\n",
      "    lookback  threshold  trade_size  sma_fast_period  sma_slow_period  \\\n",
      "31        50       0.02        0.10               20               50   \n",
      "23        50       0.01        0.10               20               50   \n",
      "27        50       0.02        0.05               20               50   \n",
      "4         20       0.01        0.10               10               30   \n",
      "29        50       0.02        0.10               10               50   \n",
      "\n",
      "    atr_period  avg_final_value  \n",
      "31          14     12743.456107  \n",
      "23          14     11954.300559  \n",
      "27          14     11302.667182  \n",
      "4           14     11263.032986  \n",
      "29          14     10968.980039  \n"
     ]
    }
   ],
   "source": [
    "results = []\n",
    "counter = 1\n",
    "for combo in param_combinations:\n",
    "    print(counter)\n",
    "    param_dict = dict(zip(param_names, combo))\n",
    "    \n",
    "    if param_dict['sma_fast_period'] >= param_dict['sma_slow_period']:\n",
    "        continue\n",
    "\n",
    "    avg_final_value = cross_validate_strategy(df_2, MomentumStrategyWithSMApositionSizing, param_dict)\n",
    "\n",
    "    results.append({\n",
    "        **param_dict,\n",
    "        'avg_final_value': avg_final_value\n",
    "    })\n",
    "    counter+=1\n",
    "\n",
    "results_df = pd.DataFrame(results)\n",
    "results_df = results_df.sort_values(by='avg_final_value', ascending=False)\n",
    "print(results_df.head())\n"
   ]
  },
  {
   "cell_type": "markdown",
   "id": "7f8af0f5-7727-4972-a3db-5cdd229ad231",
   "metadata": {},
   "source": [
    "This function, however, takes some time to perform, since we not only have to test it on all the different hyperparameter combinations, but also do cross-validation on different time periods of the data. Nevertheless, this is not inherently bad, it is expected and even necessary to ensure that the strategy is robust and not overfitting to a specific period. Investing this computational effort helps us find hyperparameters that generalize well across various market conditions, ultimately leading to more reliable and consistent performance in live trading.\n",
    "\n",
    "#### Note\n",
    "We must also mention that for parameter optimization we could use Random Search or Bayesian Optimization in order to lower the computation time."
   ]
  },
  {
   "cell_type": "markdown",
   "id": "3506e82e-57a5-4c54-a961-79e7a0399534",
   "metadata": {},
   "source": [
    "## Multiple assets evaluation"
   ]
  },
  {
   "cell_type": "markdown",
   "id": "0372d503-f8cc-4198-baf2-931926eac175",
   "metadata": {},
   "source": [
    "It is visible that we can keep modifying our algorithm by adding RSI or bollinger bands, etc. However, I will try to use the simple algorithm we have developed up until now and test it on more then one asset. \n",
    "\n",
    "**It is important to say that I am going to choose assets that are expected to have a momentum attitude. This could be considered p-hacking, but in our case it is not, since our model works on the assumption that the stock follows a momentum flow.**"
   ]
  },
  {
   "cell_type": "code",
   "execution_count": 37,
   "id": "c005b371-3906-4137-b037-da3e93310325",
   "metadata": {},
   "outputs": [
    {
     "name": "stderr",
     "output_type": "stream",
     "text": [
      "C:\\Users\\mitko\\AppData\\Local\\Temp\\ipykernel_19452\\3835241949.py:6: FutureWarning: YF.download() has changed argument auto_adjust default to True\n",
      "  df = yf.download(symbol, period=\"3y\", interval=\"1d\")\n",
      "[*********************100%***********************]  1 of 1 completed\n",
      "C:\\Users\\mitko\\AppData\\Local\\Temp\\ipykernel_19452\\3835241949.py:6: FutureWarning: YF.download() has changed argument auto_adjust default to True\n",
      "  df = yf.download(symbol, period=\"3y\", interval=\"1d\")\n"
     ]
    },
    {
     "name": "stdout",
     "output_type": "stream",
     "text": [
      "Fetched data for NVDA\n"
     ]
    },
    {
     "name": "stderr",
     "output_type": "stream",
     "text": [
      "[*********************100%***********************]  1 of 1 completed\n",
      "C:\\Users\\mitko\\AppData\\Local\\Temp\\ipykernel_19452\\3835241949.py:6: FutureWarning: YF.download() has changed argument auto_adjust default to True\n",
      "  df = yf.download(symbol, period=\"3y\", interval=\"1d\")\n"
     ]
    },
    {
     "name": "stdout",
     "output_type": "stream",
     "text": [
      "Fetched data for MTUM\n"
     ]
    },
    {
     "name": "stderr",
     "output_type": "stream",
     "text": [
      "[*********************100%***********************]  1 of 1 completed\n",
      "C:\\Users\\mitko\\AppData\\Local\\Temp\\ipykernel_19452\\3835241949.py:6: FutureWarning: YF.download() has changed argument auto_adjust default to True\n",
      "  df = yf.download(symbol, period=\"3y\", interval=\"1d\")\n"
     ]
    },
    {
     "name": "stdout",
     "output_type": "stream",
     "text": [
      "Fetched data for BTC-USD\n"
     ]
    },
    {
     "name": "stderr",
     "output_type": "stream",
     "text": [
      "[*********************100%***********************]  1 of 1 completed\n",
      "C:\\Users\\mitko\\AppData\\Local\\Temp\\ipykernel_19452\\3835241949.py:6: FutureWarning: YF.download() has changed argument auto_adjust default to True\n",
      "  df = yf.download(symbol, period=\"3y\", interval=\"1d\")\n"
     ]
    },
    {
     "name": "stdout",
     "output_type": "stream",
     "text": [
      "Fetched data for ICLN\n"
     ]
    },
    {
     "name": "stderr",
     "output_type": "stream",
     "text": [
      "[*********************100%***********************]  1 of 1 completed\n",
      "C:\\Users\\mitko\\AppData\\Local\\Temp\\ipykernel_19452\\3835241949.py:6: FutureWarning: YF.download() has changed argument auto_adjust default to True\n",
      "  df = yf.download(symbol, period=\"3y\", interval=\"1d\")\n"
     ]
    },
    {
     "name": "stdout",
     "output_type": "stream",
     "text": [
      "Fetched data for SPMO\n"
     ]
    },
    {
     "name": "stderr",
     "output_type": "stream",
     "text": [
      "[*********************100%***********************]  1 of 1 completed\n",
      "C:\\Users\\mitko\\AppData\\Local\\Temp\\ipykernel_19452\\3835241949.py:6: FutureWarning: YF.download() has changed argument auto_adjust default to True\n",
      "  df = yf.download(symbol, period=\"3y\", interval=\"1d\")\n"
     ]
    },
    {
     "name": "stdout",
     "output_type": "stream",
     "text": [
      "Fetched data for AAPL\n"
     ]
    },
    {
     "name": "stderr",
     "output_type": "stream",
     "text": [
      "[*********************100%***********************]  1 of 1 completed\n",
      "C:\\Users\\mitko\\AppData\\Local\\Temp\\ipykernel_19452\\3835241949.py:6: FutureWarning: YF.download() has changed argument auto_adjust default to True\n",
      "  df = yf.download(symbol, period=\"3y\", interval=\"1d\")\n"
     ]
    },
    {
     "name": "stdout",
     "output_type": "stream",
     "text": [
      "Fetched data for AMD\n"
     ]
    },
    {
     "name": "stderr",
     "output_type": "stream",
     "text": [
      "[*********************100%***********************]  1 of 1 completed\n",
      "C:\\Users\\mitko\\AppData\\Local\\Temp\\ipykernel_19452\\3835241949.py:6: FutureWarning: YF.download() has changed argument auto_adjust default to True\n",
      "  df = yf.download(symbol, period=\"3y\", interval=\"1d\")\n"
     ]
    },
    {
     "name": "stdout",
     "output_type": "stream",
     "text": [
      "Fetched data for TSLA\n"
     ]
    },
    {
     "name": "stderr",
     "output_type": "stream",
     "text": [
      "[*********************100%***********************]  1 of 1 completed\n",
      "C:\\Users\\mitko\\AppData\\Local\\Temp\\ipykernel_19452\\3835241949.py:6: FutureWarning: YF.download() has changed argument auto_adjust default to True\n",
      "  df = yf.download(symbol, period=\"3y\", interval=\"1d\")\n"
     ]
    },
    {
     "name": "stdout",
     "output_type": "stream",
     "text": [
      "Fetched data for QQQ\n"
     ]
    },
    {
     "name": "stderr",
     "output_type": "stream",
     "text": [
      "[*********************100%***********************]  1 of 1 completed"
     ]
    },
    {
     "name": "stdout",
     "output_type": "stream",
     "text": [
      "Fetched data for IWM\n"
     ]
    },
    {
     "name": "stderr",
     "output_type": "stream",
     "text": [
      "\n"
     ]
    }
   ],
   "source": [
    "symbols = [\"NVDA\", \"MTUM\", \"BTC-USD\", \"ICLN\", \"SPMO\",\"AAPL\",\"AMD\",\"TSLA\",\"QQQ\",\"IWM\"]\n",
    "data_dict = {}\n",
    "\n",
    "for symbol in symbols:\n",
    "    try:\n",
    "        df = yf.download(symbol, period=\"3y\", interval=\"1d\")\n",
    "        data_dict[symbol] = df\n",
    "        print(f\"Fetched data for {symbol}\")\n",
    "    except Exception as e:\n",
    "        print(f\"Error fetching {symbol}: {e}\")"
   ]
  },
  {
   "cell_type": "markdown",
   "id": "bb97dd8c-2eaf-41e1-a37c-4d6bbfc959cf",
   "metadata": {},
   "source": [
    "I am fetching the data from Yahoo Finance since the Binance contains only crypto currency data"
   ]
  },
  {
   "cell_type": "code",
   "execution_count": 38,
   "id": "2f05477a-2f48-4d12-bb34-ad32c4b3897f",
   "metadata": {},
   "outputs": [
    {
     "name": "stdout",
     "output_type": "stream",
     "text": [
      "\n",
      "Running backtest for NVDA...\n",
      "{ 'drawdown_duration': 266,\n",
      "  'final_value': 14581.580279477737,\n",
      "  'lost': 1,\n",
      "  'max_drawdown': 3.1453986139543337,\n",
      "  'pnl_avg': 813.0073203144336,\n",
      "  'pnl_total': 4065.036601572168,\n",
      "  'sharpe': 1.2501495295200957,\n",
      "  'total_trades': 6,\n",
      "  'won': 4}\n",
      "\n",
      "Running backtest for MTUM...\n",
      "{ 'drawdown_duration': 100,\n",
      "  'final_value': 10320.001193702672,\n",
      "  'lost': 5,\n",
      "  'max_drawdown': 0.708544854889436,\n",
      "  'pnl_avg': 17.465064721405245,\n",
      "  'pnl_total': 122.25545304983672,\n",
      "  'sharpe': 0.03628528980321749,\n",
      "  'total_trades': 8,\n",
      "  'won': 2}\n",
      "\n",
      "Running backtest for BTC-USD...\n",
      "{ 'drawdown_duration': 1,\n",
      "  'final_value': 11806.17627681127,\n",
      "  'lost': 6,\n",
      "  'max_drawdown': 0.5072356284427612,\n",
      "  'pnl_avg': 148.94923720078702,\n",
      "  'pnl_total': 1638.4416092086574,\n",
      "  'sharpe': 0.46870120188414194,\n",
      "  'total_trades': 12,\n",
      "  'won': 5}\n",
      "\n",
      "Running backtest for ICLN...\n",
      "{ 'drawdown_duration': 623,\n",
      "  'final_value': 9802.714358597077,\n",
      "  'lost': 6,\n",
      "  'max_drawdown': 2.834951807682511,\n",
      "  'pnl_avg': -73.2803101347998,\n",
      "  'pnl_total': -439.68186080879883,\n",
      "  'sharpe': -0.593351054883392,\n",
      "  'total_trades': 7,\n",
      "  'won': 0}\n",
      "\n",
      "Running backtest for SPMO...\n",
      "{ 'drawdown_duration': 102,\n",
      "  'final_value': 10909.446983554684,\n",
      "  'lost': 1,\n",
      "  'max_drawdown': 0.012536276802725933,\n",
      "  'pnl_avg': 112.43395076777647,\n",
      "  'pnl_total': 674.6037046066588,\n",
      "  'sharpe': 0.7351741843404969,\n",
      "  'total_trades': 7,\n",
      "  'won': 5}\n",
      "\n",
      "Running backtest for AAPL...\n",
      "{ 'drawdown_duration': 134,\n",
      "  'final_value': 10482.431722096208,\n",
      "  'lost': 5,\n",
      "  'max_drawdown': 3.1513424359829565,\n",
      "  'pnl_avg': 70.74193107299995,\n",
      "  'pnl_total': 495.1935175109996,\n",
      "  'sharpe': 0.20340367461333447,\n",
      "  'total_trades': 8,\n",
      "  'won': 2}\n",
      "\n",
      "Running backtest for AMD...\n",
      "{ 'drawdown_duration': 337,\n",
      "  'final_value': 11401.029181657033,\n",
      "  'lost': 3,\n",
      "  'max_drawdown': 4.107922061048311,\n",
      "  'pnl_avg': 155.43716815278978,\n",
      "  'pnl_total': 932.6230089167386,\n",
      "  'sharpe': 0.5387012417391143,\n",
      "  'total_trades': 7,\n",
      "  'won': 3}\n",
      "\n",
      "Running backtest for TSLA...\n",
      "{ 'drawdown_duration': 140,\n",
      "  'final_value': 11188.06244746432,\n",
      "  'lost': 2,\n",
      "  'max_drawdown': 5.569959742248432,\n",
      "  'pnl_avg': 198.01040791071935,\n",
      "  'pnl_total': 1188.0624474643162,\n",
      "  'sharpe': 0.3800284109363147,\n",
      "  'total_trades': 6,\n",
      "  'won': 4}\n",
      "\n",
      "Running backtest for QQQ...\n",
      "{ 'drawdown_duration': 252,\n",
      "  'final_value': 10833.96558840846,\n",
      "  'lost': 2,\n",
      "  'max_drawdown': 0.923548218737275,\n",
      "  'pnl_avg': 168.01126750653293,\n",
      "  'pnl_total': 672.0450700261317,\n",
      "  'sharpe': 0.7085604725694226,\n",
      "  'total_trades': 5,\n",
      "  'won': 2}\n",
      "\n",
      "Running backtest for IWM...\n",
      "{ 'drawdown_duration': 155,\n",
      "  'final_value': 10331.418271087256,\n",
      "  'lost': 2,\n",
      "  'max_drawdown': 0.39117154277563765,\n",
      "  'pnl_avg': 36.83043085079141,\n",
      "  'pnl_total': 184.15215425395704,\n",
      "  'sharpe': 0.0470419121972973,\n",
      "  'total_trades': 6,\n",
      "  'won': 3}\n"
     ]
    }
   ],
   "source": [
    "strategy_params = {\n",
    "    'lookback': 20,\n",
    "    'threshold': 0.01,\n",
    "    'trade_size': 0.1,\n",
    "    'sma_fast_period': 20,\n",
    "    'sma_slow_period': 50,\n",
    "    'atr_period': 14,\n",
    "}\n",
    "\n",
    "\n",
    "for symbol, df in data_dict.items():\n",
    "    print(f\"\\nRunning backtest for {symbol}...\")\n",
    "\n",
    "    if isinstance(df.columns, pd.MultiIndex):\n",
    "        df.columns = df.columns.get_level_values(0)\n",
    "\n",
    "    \n",
    "    datafeed = bt.feeds.PandasData(dataname=df)\n",
    "\n",
    "    \n",
    "    strat, stats =run_backtest(MomentumStrategyWithSMApositionSizing, datafeed, **strategy_params)\n",
    "    pp = pprint.PrettyPrinter(indent=2)\n",
    "    pp.pprint(stats)\n",
    "\n"
   ]
  },
  {
   "cell_type": "markdown",
   "id": "0c68c8c6-1ac8-45b0-b1d4-a759b8f0e8af",
   "metadata": {},
   "source": [
    "Our strategy shows varied performance across different assets. NVDA and AMD demonstrate strong profitability with favorable Sharpe ratios and controlled drawdowns, indicating effective momentum capture. Conversely, ICLN struggles significantly with consistent losses and a negative Sharpe ratio. Overall, the strategy performs better on high-volume tech stocks and less effectively on some ETFs and sector-specific assets. Drawdown durations suggest the strategy generally recovers steadily, though some assets show prolonged periods of stagnation or risk exposure. \n",
    "\n",
    "But overall the strategy is winning. Although we take risk and there are moments of drawdown, we were able to obtain a positive tho mild Sharpe ration\n",
    "\n",
    "**Also we see that our model has strict rules which allows only for little but more secure trades to be captured.**"
   ]
  },
  {
   "cell_type": "markdown",
   "id": "c83eef49-3fda-49ca-9624-5831cbc362fc",
   "metadata": {},
   "source": [
    "##  Possible improvements\n",
    "Up to this point, we were able to explore and implement various strategies, test our hypotheses with metrics and evaluations, and optimize for the best performance. However, building a working model that consistently outperforms funds and performs well across multiple assets is no easy task and requires a significant amount of time and effort. We started with a simple momentum-based model, then introduced SMA, attempted to add a stop-loss mechanism, performed a grid search for the best hyperparameters, tested the strategy on multiple assets, implemented dynamic position sizing, and visualized key performance data.\n",
    "\n",
    "### Strategy Enhancements\n",
    "- **Take-Profit Logic**\n",
    "  - Introduce parameters to define TP thresholds.\n",
    "  - Automatically close trades when the price crosses these levels.\n",
    "- **Additional Technical Indicators**\n",
    "  - Integrate more indicators such as:\n",
    "    - Relative Strength Index (RSI)\n",
    "    - MACD\n",
    "    - Bollinger Bands\n",
    "    - ADX\n",
    "  - Combine indicators to form hybrid strategies.\n",
    "\n",
    "###  Evaluation & Metrics\n",
    "- **Risk-Adjusted Return Metrics**\n",
    "  - Include metrics like:\n",
    "    - Sortino Ratio\n",
    "    - Calmar Ratio\n",
    "    - Profit Factor\n",
    "    - Maximum consecutive losses/wins\n",
    "\n",
    "###  Optimization Improvements\n",
    "- **Walk-Forward Optimization**\n",
    "  - Train on one part of the data and test on the next, iteratively.\n",
    "  - Helps test robustness over changing market conditions.\n",
    "- **Early stopping in Grid search**\n",
    "  - Abort parameter sets that perform poorly in the first segment of the backtest.\n",
    "\n"
   ]
  },
  {
   "cell_type": "markdown",
   "id": "5918168f-01f1-4319-8496-640d8c7cc379",
   "metadata": {},
   "source": [
    "### Resources \n",
    "- https://medium.com/funny-ai-quant/momentum-based-strategy-optimization-with-grid-search-on-backtrader-8c0d6cd1cc36\n",
    "- https://www.a1trading.com/how-to-calculate-the-right-lot-size-for-forex-trading/#:~:text=To%20calculate%20the%20correct%20lot%20size%20for%20a,away%20is%20your%20stop%20loss%20from%20your%20entry%3F\n",
    "- https://quantstrattrader.com/2016/01/13/on-the-relationship-between-the-sma-and-momentum/\n",
    "- https://www.investopedia.com/terms/s/stop-lossorder.asp#:~:text=Traders%20can%20control%20their%20exposure%20to%20risk%20by,a%20certain%20price%20known%20as%20the%20stop%20price."
   ]
  },
  {
   "cell_type": "code",
   "execution_count": null,
   "id": "5272c5ee-db6b-48a6-bf8c-7106c1685ea4",
   "metadata": {},
   "outputs": [],
   "source": []
  },
  {
   "cell_type": "code",
   "execution_count": null,
   "id": "7bfba520-a100-4f59-afe9-bf9b9e51ec5c",
   "metadata": {},
   "outputs": [],
   "source": []
  }
 ],
 "metadata": {
  "kernelspec": {
   "display_name": "Python 3 (ipykernel)",
   "language": "python",
   "name": "python3"
  },
  "language_info": {
   "codemirror_mode": {
    "name": "ipython",
    "version": 3
   },
   "file_extension": ".py",
   "mimetype": "text/x-python",
   "name": "python",
   "nbconvert_exporter": "python",
   "pygments_lexer": "ipython3",
   "version": "3.10.0"
  }
 },
 "nbformat": 4,
 "nbformat_minor": 5
}
